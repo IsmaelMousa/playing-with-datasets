{
 "nbformat": 4,
 "nbformat_minor": 0,
 "metadata": {
  "colab": {
   "provenance": []
  },
  "kernelspec": {
   "name": "python3",
   "language": "python",
   "display_name": "Python 3 (ipykernel)"
  },
  "language_info": {
   "name": "python"
  },
  "widgets": {
   "application/vnd.jupyter.widget-state+json": {
    "1c789083ae6648848b6482b8c600d311": {
     "model_module": "@jupyter-widgets/controls",
     "model_name": "HBoxModel",
     "model_module_version": "1.5.0",
     "state": {
      "_dom_classes": [],
      "_model_module": "@jupyter-widgets/controls",
      "_model_module_version": "1.5.0",
      "_model_name": "HBoxModel",
      "_view_count": null,
      "_view_module": "@jupyter-widgets/controls",
      "_view_module_version": "1.5.0",
      "_view_name": "HBoxView",
      "box_style": "",
      "children": [
       "IPY_MODEL_b8ec0361ff6d467e970ec281359c2808",
       "IPY_MODEL_30482a7f452049519f0c105c442bd8b8",
       "IPY_MODEL_bb8bfcded18d4b248ac148c62557c26a"
      ],
      "layout": "IPY_MODEL_4a0e60e0aefd4ffbbd7ec9eb8cde1017"
     }
    },
    "b8ec0361ff6d467e970ec281359c2808": {
     "model_module": "@jupyter-widgets/controls",
     "model_name": "HTMLModel",
     "model_module_version": "1.5.0",
     "state": {
      "_dom_classes": [],
      "_model_module": "@jupyter-widgets/controls",
      "_model_module_version": "1.5.0",
      "_model_name": "HTMLModel",
      "_view_count": null,
      "_view_module": "@jupyter-widgets/controls",
      "_view_module_version": "1.5.0",
      "_view_name": "HTMLView",
      "description": "",
      "description_tooltip": null,
      "layout": "IPY_MODEL_bb9f8584bccf419aa0b8746cf67de786",
      "placeholder": "​",
      "style": "IPY_MODEL_c45783ff85344d399521ffbbafba113a",
      "value": "Map: 100%"
     }
    },
    "30482a7f452049519f0c105c442bd8b8": {
     "model_module": "@jupyter-widgets/controls",
     "model_name": "FloatProgressModel",
     "model_module_version": "1.5.0",
     "state": {
      "_dom_classes": [],
      "_model_module": "@jupyter-widgets/controls",
      "_model_module_version": "1.5.0",
      "_model_name": "FloatProgressModel",
      "_view_count": null,
      "_view_module": "@jupyter-widgets/controls",
      "_view_module_version": "1.5.0",
      "_view_name": "ProgressView",
      "bar_style": "success",
      "description": "",
      "description_tooltip": null,
      "layout": "IPY_MODEL_4cb898292dc24a7e9fd57d78c7aae902",
      "max": 5000,
      "min": 0,
      "orientation": "horizontal",
      "style": "IPY_MODEL_5ebfbbd1b686405da19e1234d1fd76ff",
      "value": 5000
     }
    },
    "bb8bfcded18d4b248ac148c62557c26a": {
     "model_module": "@jupyter-widgets/controls",
     "model_name": "HTMLModel",
     "model_module_version": "1.5.0",
     "state": {
      "_dom_classes": [],
      "_model_module": "@jupyter-widgets/controls",
      "_model_module_version": "1.5.0",
      "_model_name": "HTMLModel",
      "_view_count": null,
      "_view_module": "@jupyter-widgets/controls",
      "_view_module_version": "1.5.0",
      "_view_name": "HTMLView",
      "description": "",
      "description_tooltip": null,
      "layout": "IPY_MODEL_180339ce5dbe48818007d35211a72331",
      "placeholder": "​",
      "style": "IPY_MODEL_bf2c4a7544114b53bec9f2ce3ae85192",
      "value": " 5000/5000 [00:02&lt;00:00, 3574.02 examples/s]"
     }
    },
    "4a0e60e0aefd4ffbbd7ec9eb8cde1017": {
     "model_module": "@jupyter-widgets/base",
     "model_name": "LayoutModel",
     "model_module_version": "1.2.0",
     "state": {
      "_model_module": "@jupyter-widgets/base",
      "_model_module_version": "1.2.0",
      "_model_name": "LayoutModel",
      "_view_count": null,
      "_view_module": "@jupyter-widgets/base",
      "_view_module_version": "1.2.0",
      "_view_name": "LayoutView",
      "align_content": null,
      "align_items": null,
      "align_self": null,
      "border": null,
      "bottom": null,
      "display": null,
      "flex": null,
      "flex_flow": null,
      "grid_area": null,
      "grid_auto_columns": null,
      "grid_auto_flow": null,
      "grid_auto_rows": null,
      "grid_column": null,
      "grid_gap": null,
      "grid_row": null,
      "grid_template_areas": null,
      "grid_template_columns": null,
      "grid_template_rows": null,
      "height": null,
      "justify_content": null,
      "justify_items": null,
      "left": null,
      "margin": null,
      "max_height": null,
      "max_width": null,
      "min_height": null,
      "min_width": null,
      "object_fit": null,
      "object_position": null,
      "order": null,
      "overflow": null,
      "overflow_x": null,
      "overflow_y": null,
      "padding": null,
      "right": null,
      "top": null,
      "visibility": null,
      "width": null
     }
    },
    "bb9f8584bccf419aa0b8746cf67de786": {
     "model_module": "@jupyter-widgets/base",
     "model_name": "LayoutModel",
     "model_module_version": "1.2.0",
     "state": {
      "_model_module": "@jupyter-widgets/base",
      "_model_module_version": "1.2.0",
      "_model_name": "LayoutModel",
      "_view_count": null,
      "_view_module": "@jupyter-widgets/base",
      "_view_module_version": "1.2.0",
      "_view_name": "LayoutView",
      "align_content": null,
      "align_items": null,
      "align_self": null,
      "border": null,
      "bottom": null,
      "display": null,
      "flex": null,
      "flex_flow": null,
      "grid_area": null,
      "grid_auto_columns": null,
      "grid_auto_flow": null,
      "grid_auto_rows": null,
      "grid_column": null,
      "grid_gap": null,
      "grid_row": null,
      "grid_template_areas": null,
      "grid_template_columns": null,
      "grid_template_rows": null,
      "height": null,
      "justify_content": null,
      "justify_items": null,
      "left": null,
      "margin": null,
      "max_height": null,
      "max_width": null,
      "min_height": null,
      "min_width": null,
      "object_fit": null,
      "object_position": null,
      "order": null,
      "overflow": null,
      "overflow_x": null,
      "overflow_y": null,
      "padding": null,
      "right": null,
      "top": null,
      "visibility": null,
      "width": null
     }
    },
    "c45783ff85344d399521ffbbafba113a": {
     "model_module": "@jupyter-widgets/controls",
     "model_name": "DescriptionStyleModel",
     "model_module_version": "1.5.0",
     "state": {
      "_model_module": "@jupyter-widgets/controls",
      "_model_module_version": "1.5.0",
      "_model_name": "DescriptionStyleModel",
      "_view_count": null,
      "_view_module": "@jupyter-widgets/base",
      "_view_module_version": "1.2.0",
      "_view_name": "StyleView",
      "description_width": ""
     }
    },
    "4cb898292dc24a7e9fd57d78c7aae902": {
     "model_module": "@jupyter-widgets/base",
     "model_name": "LayoutModel",
     "model_module_version": "1.2.0",
     "state": {
      "_model_module": "@jupyter-widgets/base",
      "_model_module_version": "1.2.0",
      "_model_name": "LayoutModel",
      "_view_count": null,
      "_view_module": "@jupyter-widgets/base",
      "_view_module_version": "1.2.0",
      "_view_name": "LayoutView",
      "align_content": null,
      "align_items": null,
      "align_self": null,
      "border": null,
      "bottom": null,
      "display": null,
      "flex": null,
      "flex_flow": null,
      "grid_area": null,
      "grid_auto_columns": null,
      "grid_auto_flow": null,
      "grid_auto_rows": null,
      "grid_column": null,
      "grid_gap": null,
      "grid_row": null,
      "grid_template_areas": null,
      "grid_template_columns": null,
      "grid_template_rows": null,
      "height": null,
      "justify_content": null,
      "justify_items": null,
      "left": null,
      "margin": null,
      "max_height": null,
      "max_width": null,
      "min_height": null,
      "min_width": null,
      "object_fit": null,
      "object_position": null,
      "order": null,
      "overflow": null,
      "overflow_x": null,
      "overflow_y": null,
      "padding": null,
      "right": null,
      "top": null,
      "visibility": null,
      "width": null
     }
    },
    "5ebfbbd1b686405da19e1234d1fd76ff": {
     "model_module": "@jupyter-widgets/controls",
     "model_name": "ProgressStyleModel",
     "model_module_version": "1.5.0",
     "state": {
      "_model_module": "@jupyter-widgets/controls",
      "_model_module_version": "1.5.0",
      "_model_name": "ProgressStyleModel",
      "_view_count": null,
      "_view_module": "@jupyter-widgets/base",
      "_view_module_version": "1.2.0",
      "_view_name": "StyleView",
      "bar_color": null,
      "description_width": ""
     }
    },
    "180339ce5dbe48818007d35211a72331": {
     "model_module": "@jupyter-widgets/base",
     "model_name": "LayoutModel",
     "model_module_version": "1.2.0",
     "state": {
      "_model_module": "@jupyter-widgets/base",
      "_model_module_version": "1.2.0",
      "_model_name": "LayoutModel",
      "_view_count": null,
      "_view_module": "@jupyter-widgets/base",
      "_view_module_version": "1.2.0",
      "_view_name": "LayoutView",
      "align_content": null,
      "align_items": null,
      "align_self": null,
      "border": null,
      "bottom": null,
      "display": null,
      "flex": null,
      "flex_flow": null,
      "grid_area": null,
      "grid_auto_columns": null,
      "grid_auto_flow": null,
      "grid_auto_rows": null,
      "grid_column": null,
      "grid_gap": null,
      "grid_row": null,
      "grid_template_areas": null,
      "grid_template_columns": null,
      "grid_template_rows": null,
      "height": null,
      "justify_content": null,
      "justify_items": null,
      "left": null,
      "margin": null,
      "max_height": null,
      "max_width": null,
      "min_height": null,
      "min_width": null,
      "object_fit": null,
      "object_position": null,
      "order": null,
      "overflow": null,
      "overflow_x": null,
      "overflow_y": null,
      "padding": null,
      "right": null,
      "top": null,
      "visibility": null,
      "width": null
     }
    },
    "bf2c4a7544114b53bec9f2ce3ae85192": {
     "model_module": "@jupyter-widgets/controls",
     "model_name": "DescriptionStyleModel",
     "model_module_version": "1.5.0",
     "state": {
      "_model_module": "@jupyter-widgets/controls",
      "_model_module_version": "1.5.0",
      "_model_name": "DescriptionStyleModel",
      "_view_count": null,
      "_view_module": "@jupyter-widgets/base",
      "_view_module_version": "1.2.0",
      "_view_name": "StyleView",
      "description_width": ""
     }
    },
    "a18ebb29b5a84d55a628e713a979e318": {
     "model_module": "@jupyter-widgets/controls",
     "model_name": "HBoxModel",
     "model_module_version": "1.5.0",
     "state": {
      "_dom_classes": [],
      "_model_module": "@jupyter-widgets/controls",
      "_model_module_version": "1.5.0",
      "_model_name": "HBoxModel",
      "_view_count": null,
      "_view_module": "@jupyter-widgets/controls",
      "_view_module_version": "1.5.0",
      "_view_name": "HBoxView",
      "box_style": "",
      "children": [
       "IPY_MODEL_54047d31bc514d9199d63aca02d98cbd",
       "IPY_MODEL_2df46059d1f04fad9f246283e77016e1",
       "IPY_MODEL_179a6842c234423cbea6a02046a27e8d"
      ],
      "layout": "IPY_MODEL_feb440ad0b8b48bdaa563b6968edf5d7"
     }
    },
    "54047d31bc514d9199d63aca02d98cbd": {
     "model_module": "@jupyter-widgets/controls",
     "model_name": "HTMLModel",
     "model_module_version": "1.5.0",
     "state": {
      "_dom_classes": [],
      "_model_module": "@jupyter-widgets/controls",
      "_model_module_version": "1.5.0",
      "_model_name": "HTMLModel",
      "_view_count": null,
      "_view_module": "@jupyter-widgets/controls",
      "_view_module_version": "1.5.0",
      "_view_name": "HTMLView",
      "description": "",
      "description_tooltip": null,
      "layout": "IPY_MODEL_289945513c864296b170585759482e98",
      "placeholder": "​",
      "style": "IPY_MODEL_a337b20e34b24d4f86be1892269454f9",
      "value": "Filter: 100%"
     }
    },
    "2df46059d1f04fad9f246283e77016e1": {
     "model_module": "@jupyter-widgets/controls",
     "model_name": "FloatProgressModel",
     "model_module_version": "1.5.0",
     "state": {
      "_dom_classes": [],
      "_model_module": "@jupyter-widgets/controls",
      "_model_module_version": "1.5.0",
      "_model_name": "FloatProgressModel",
      "_view_count": null,
      "_view_module": "@jupyter-widgets/controls",
      "_view_module_version": "1.5.0",
      "_view_name": "ProgressView",
      "bar_style": "success",
      "description": "",
      "description_tooltip": null,
      "layout": "IPY_MODEL_66f19a353cba43b4aac509d22b8b8f55",
      "max": 4955,
      "min": 0,
      "orientation": "horizontal",
      "style": "IPY_MODEL_b6eef4b61d5f4558b5e378e33d772ebd",
      "value": 4955
     }
    },
    "179a6842c234423cbea6a02046a27e8d": {
     "model_module": "@jupyter-widgets/controls",
     "model_name": "HTMLModel",
     "model_module_version": "1.5.0",
     "state": {
      "_dom_classes": [],
      "_model_module": "@jupyter-widgets/controls",
      "_model_module_version": "1.5.0",
      "_model_name": "HTMLModel",
      "_view_count": null,
      "_view_module": "@jupyter-widgets/controls",
      "_view_module_version": "1.5.0",
      "_view_name": "HTMLView",
      "description": "",
      "description_tooltip": null,
      "layout": "IPY_MODEL_8b64d064f0a54152a9b5a5830497cf4a",
      "placeholder": "​",
      "style": "IPY_MODEL_4441cb5928084b2b99f6ced5bd287fcf",
      "value": " 4955/4955 [00:00&lt;00:00, 28374.98 examples/s]"
     }
    },
    "feb440ad0b8b48bdaa563b6968edf5d7": {
     "model_module": "@jupyter-widgets/base",
     "model_name": "LayoutModel",
     "model_module_version": "1.2.0",
     "state": {
      "_model_module": "@jupyter-widgets/base",
      "_model_module_version": "1.2.0",
      "_model_name": "LayoutModel",
      "_view_count": null,
      "_view_module": "@jupyter-widgets/base",
      "_view_module_version": "1.2.0",
      "_view_name": "LayoutView",
      "align_content": null,
      "align_items": null,
      "align_self": null,
      "border": null,
      "bottom": null,
      "display": null,
      "flex": null,
      "flex_flow": null,
      "grid_area": null,
      "grid_auto_columns": null,
      "grid_auto_flow": null,
      "grid_auto_rows": null,
      "grid_column": null,
      "grid_gap": null,
      "grid_row": null,
      "grid_template_areas": null,
      "grid_template_columns": null,
      "grid_template_rows": null,
      "height": null,
      "justify_content": null,
      "justify_items": null,
      "left": null,
      "margin": null,
      "max_height": null,
      "max_width": null,
      "min_height": null,
      "min_width": null,
      "object_fit": null,
      "object_position": null,
      "order": null,
      "overflow": null,
      "overflow_x": null,
      "overflow_y": null,
      "padding": null,
      "right": null,
      "top": null,
      "visibility": null,
      "width": null
     }
    },
    "289945513c864296b170585759482e98": {
     "model_module": "@jupyter-widgets/base",
     "model_name": "LayoutModel",
     "model_module_version": "1.2.0",
     "state": {
      "_model_module": "@jupyter-widgets/base",
      "_model_module_version": "1.2.0",
      "_model_name": "LayoutModel",
      "_view_count": null,
      "_view_module": "@jupyter-widgets/base",
      "_view_module_version": "1.2.0",
      "_view_name": "LayoutView",
      "align_content": null,
      "align_items": null,
      "align_self": null,
      "border": null,
      "bottom": null,
      "display": null,
      "flex": null,
      "flex_flow": null,
      "grid_area": null,
      "grid_auto_columns": null,
      "grid_auto_flow": null,
      "grid_auto_rows": null,
      "grid_column": null,
      "grid_gap": null,
      "grid_row": null,
      "grid_template_areas": null,
      "grid_template_columns": null,
      "grid_template_rows": null,
      "height": null,
      "justify_content": null,
      "justify_items": null,
      "left": null,
      "margin": null,
      "max_height": null,
      "max_width": null,
      "min_height": null,
      "min_width": null,
      "object_fit": null,
      "object_position": null,
      "order": null,
      "overflow": null,
      "overflow_x": null,
      "overflow_y": null,
      "padding": null,
      "right": null,
      "top": null,
      "visibility": null,
      "width": null
     }
    },
    "a337b20e34b24d4f86be1892269454f9": {
     "model_module": "@jupyter-widgets/controls",
     "model_name": "DescriptionStyleModel",
     "model_module_version": "1.5.0",
     "state": {
      "_model_module": "@jupyter-widgets/controls",
      "_model_module_version": "1.5.0",
      "_model_name": "DescriptionStyleModel",
      "_view_count": null,
      "_view_module": "@jupyter-widgets/base",
      "_view_module_version": "1.2.0",
      "_view_name": "StyleView",
      "description_width": ""
     }
    },
    "66f19a353cba43b4aac509d22b8b8f55": {
     "model_module": "@jupyter-widgets/base",
     "model_name": "LayoutModel",
     "model_module_version": "1.2.0",
     "state": {
      "_model_module": "@jupyter-widgets/base",
      "_model_module_version": "1.2.0",
      "_model_name": "LayoutModel",
      "_view_count": null,
      "_view_module": "@jupyter-widgets/base",
      "_view_module_version": "1.2.0",
      "_view_name": "LayoutView",
      "align_content": null,
      "align_items": null,
      "align_self": null,
      "border": null,
      "bottom": null,
      "display": null,
      "flex": null,
      "flex_flow": null,
      "grid_area": null,
      "grid_auto_columns": null,
      "grid_auto_flow": null,
      "grid_auto_rows": null,
      "grid_column": null,
      "grid_gap": null,
      "grid_row": null,
      "grid_template_areas": null,
      "grid_template_columns": null,
      "grid_template_rows": null,
      "height": null,
      "justify_content": null,
      "justify_items": null,
      "left": null,
      "margin": null,
      "max_height": null,
      "max_width": null,
      "min_height": null,
      "min_width": null,
      "object_fit": null,
      "object_position": null,
      "order": null,
      "overflow": null,
      "overflow_x": null,
      "overflow_y": null,
      "padding": null,
      "right": null,
      "top": null,
      "visibility": null,
      "width": null
     }
    },
    "b6eef4b61d5f4558b5e378e33d772ebd": {
     "model_module": "@jupyter-widgets/controls",
     "model_name": "ProgressStyleModel",
     "model_module_version": "1.5.0",
     "state": {
      "_model_module": "@jupyter-widgets/controls",
      "_model_module_version": "1.5.0",
      "_model_name": "ProgressStyleModel",
      "_view_count": null,
      "_view_module": "@jupyter-widgets/base",
      "_view_module_version": "1.2.0",
      "_view_name": "StyleView",
      "bar_color": null,
      "description_width": ""
     }
    },
    "8b64d064f0a54152a9b5a5830497cf4a": {
     "model_module": "@jupyter-widgets/base",
     "model_name": "LayoutModel",
     "model_module_version": "1.2.0",
     "state": {
      "_model_module": "@jupyter-widgets/base",
      "_model_module_version": "1.2.0",
      "_model_name": "LayoutModel",
      "_view_count": null,
      "_view_module": "@jupyter-widgets/base",
      "_view_module_version": "1.2.0",
      "_view_name": "LayoutView",
      "align_content": null,
      "align_items": null,
      "align_self": null,
      "border": null,
      "bottom": null,
      "display": null,
      "flex": null,
      "flex_flow": null,
      "grid_area": null,
      "grid_auto_columns": null,
      "grid_auto_flow": null,
      "grid_auto_rows": null,
      "grid_column": null,
      "grid_gap": null,
      "grid_row": null,
      "grid_template_areas": null,
      "grid_template_columns": null,
      "grid_template_rows": null,
      "height": null,
      "justify_content": null,
      "justify_items": null,
      "left": null,
      "margin": null,
      "max_height": null,
      "max_width": null,
      "min_height": null,
      "min_width": null,
      "object_fit": null,
      "object_position": null,
      "order": null,
      "overflow": null,
      "overflow_x": null,
      "overflow_y": null,
      "padding": null,
      "right": null,
      "top": null,
      "visibility": null,
      "width": null
     }
    },
    "4441cb5928084b2b99f6ced5bd287fcf": {
     "model_module": "@jupyter-widgets/controls",
     "model_name": "DescriptionStyleModel",
     "model_module_version": "1.5.0",
     "state": {
      "_model_module": "@jupyter-widgets/controls",
      "_model_module_version": "1.5.0",
      "_model_name": "DescriptionStyleModel",
      "_view_count": null,
      "_view_module": "@jupyter-widgets/base",
      "_view_module_version": "1.2.0",
      "_view_name": "StyleView",
      "description_width": ""
     }
    },
    "76383202bd3449d28e5722b6db272ae7": {
     "model_module": "@jupyter-widgets/controls",
     "model_name": "HBoxModel",
     "model_module_version": "1.5.0",
     "state": {
      "_dom_classes": [],
      "_model_module": "@jupyter-widgets/controls",
      "_model_module_version": "1.5.0",
      "_model_name": "HBoxModel",
      "_view_count": null,
      "_view_module": "@jupyter-widgets/controls",
      "_view_module_version": "1.5.0",
      "_view_name": "HBoxView",
      "box_style": "",
      "children": [
       "IPY_MODEL_a36a91d0edf0439cb18fec5957bf1b51",
       "IPY_MODEL_68770aa6ef4348ab99665fb5f724e544",
       "IPY_MODEL_3fe64f91f6ad440ea2b2d60d614cab7a"
      ],
      "layout": "IPY_MODEL_8b352159d54f4c27bd35f6ede6642173"
     }
    },
    "a36a91d0edf0439cb18fec5957bf1b51": {
     "model_module": "@jupyter-widgets/controls",
     "model_name": "HTMLModel",
     "model_module_version": "1.5.0",
     "state": {
      "_dom_classes": [],
      "_model_module": "@jupyter-widgets/controls",
      "_model_module_version": "1.5.0",
      "_model_name": "HTMLModel",
      "_view_count": null,
      "_view_module": "@jupyter-widgets/controls",
      "_view_module_version": "1.5.0",
      "_view_name": "HTMLView",
      "description": "",
      "description_tooltip": null,
      "layout": "IPY_MODEL_3333707ed63b40e492178893cdc07c0e",
      "placeholder": "​",
      "style": "IPY_MODEL_33fc387743b84e6390a21c33c371a3ed",
      "value": "Filter: 100%"
     }
    },
    "68770aa6ef4348ab99665fb5f724e544": {
     "model_module": "@jupyter-widgets/controls",
     "model_name": "FloatProgressModel",
     "model_module_version": "1.5.0",
     "state": {
      "_dom_classes": [],
      "_model_module": "@jupyter-widgets/controls",
      "_model_module_version": "1.5.0",
      "_model_name": "FloatProgressModel",
      "_view_count": null,
      "_view_module": "@jupyter-widgets/controls",
      "_view_module_version": "1.5.0",
      "_view_name": "ProgressView",
      "bar_style": "success",
      "description": "",
      "description_tooltip": null,
      "layout": "IPY_MODEL_898f0821a54e4304a240622ed17f630c",
      "max": 3988,
      "min": 0,
      "orientation": "horizontal",
      "style": "IPY_MODEL_0ac2d0b705424e36aa527be0e779f3f6",
      "value": 3988
     }
    },
    "3fe64f91f6ad440ea2b2d60d614cab7a": {
     "model_module": "@jupyter-widgets/controls",
     "model_name": "HTMLModel",
     "model_module_version": "1.5.0",
     "state": {
      "_dom_classes": [],
      "_model_module": "@jupyter-widgets/controls",
      "_model_module_version": "1.5.0",
      "_model_name": "HTMLModel",
      "_view_count": null,
      "_view_module": "@jupyter-widgets/controls",
      "_view_module_version": "1.5.0",
      "_view_name": "HTMLView",
      "description": "",
      "description_tooltip": null,
      "layout": "IPY_MODEL_77275e5a7d1f4bf3a6e17a2013ce1487",
      "placeholder": "​",
      "style": "IPY_MODEL_a05249cb8c9d44b1b77e01049ad3bff1",
      "value": " 3988/3988 [00:00&lt;00:00, 26057.18 examples/s]"
     }
    },
    "8b352159d54f4c27bd35f6ede6642173": {
     "model_module": "@jupyter-widgets/base",
     "model_name": "LayoutModel",
     "model_module_version": "1.2.0",
     "state": {
      "_model_module": "@jupyter-widgets/base",
      "_model_module_version": "1.2.0",
      "_model_name": "LayoutModel",
      "_view_count": null,
      "_view_module": "@jupyter-widgets/base",
      "_view_module_version": "1.2.0",
      "_view_name": "LayoutView",
      "align_content": null,
      "align_items": null,
      "align_self": null,
      "border": null,
      "bottom": null,
      "display": null,
      "flex": null,
      "flex_flow": null,
      "grid_area": null,
      "grid_auto_columns": null,
      "grid_auto_flow": null,
      "grid_auto_rows": null,
      "grid_column": null,
      "grid_gap": null,
      "grid_row": null,
      "grid_template_areas": null,
      "grid_template_columns": null,
      "grid_template_rows": null,
      "height": null,
      "justify_content": null,
      "justify_items": null,
      "left": null,
      "margin": null,
      "max_height": null,
      "max_width": null,
      "min_height": null,
      "min_width": null,
      "object_fit": null,
      "object_position": null,
      "order": null,
      "overflow": null,
      "overflow_x": null,
      "overflow_y": null,
      "padding": null,
      "right": null,
      "top": null,
      "visibility": null,
      "width": null
     }
    },
    "3333707ed63b40e492178893cdc07c0e": {
     "model_module": "@jupyter-widgets/base",
     "model_name": "LayoutModel",
     "model_module_version": "1.2.0",
     "state": {
      "_model_module": "@jupyter-widgets/base",
      "_model_module_version": "1.2.0",
      "_model_name": "LayoutModel",
      "_view_count": null,
      "_view_module": "@jupyter-widgets/base",
      "_view_module_version": "1.2.0",
      "_view_name": "LayoutView",
      "align_content": null,
      "align_items": null,
      "align_self": null,
      "border": null,
      "bottom": null,
      "display": null,
      "flex": null,
      "flex_flow": null,
      "grid_area": null,
      "grid_auto_columns": null,
      "grid_auto_flow": null,
      "grid_auto_rows": null,
      "grid_column": null,
      "grid_gap": null,
      "grid_row": null,
      "grid_template_areas": null,
      "grid_template_columns": null,
      "grid_template_rows": null,
      "height": null,
      "justify_content": null,
      "justify_items": null,
      "left": null,
      "margin": null,
      "max_height": null,
      "max_width": null,
      "min_height": null,
      "min_width": null,
      "object_fit": null,
      "object_position": null,
      "order": null,
      "overflow": null,
      "overflow_x": null,
      "overflow_y": null,
      "padding": null,
      "right": null,
      "top": null,
      "visibility": null,
      "width": null
     }
    },
    "33fc387743b84e6390a21c33c371a3ed": {
     "model_module": "@jupyter-widgets/controls",
     "model_name": "DescriptionStyleModel",
     "model_module_version": "1.5.0",
     "state": {
      "_model_module": "@jupyter-widgets/controls",
      "_model_module_version": "1.5.0",
      "_model_name": "DescriptionStyleModel",
      "_view_count": null,
      "_view_module": "@jupyter-widgets/base",
      "_view_module_version": "1.2.0",
      "_view_name": "StyleView",
      "description_width": ""
     }
    },
    "898f0821a54e4304a240622ed17f630c": {
     "model_module": "@jupyter-widgets/base",
     "model_name": "LayoutModel",
     "model_module_version": "1.2.0",
     "state": {
      "_model_module": "@jupyter-widgets/base",
      "_model_module_version": "1.2.0",
      "_model_name": "LayoutModel",
      "_view_count": null,
      "_view_module": "@jupyter-widgets/base",
      "_view_module_version": "1.2.0",
      "_view_name": "LayoutView",
      "align_content": null,
      "align_items": null,
      "align_self": null,
      "border": null,
      "bottom": null,
      "display": null,
      "flex": null,
      "flex_flow": null,
      "grid_area": null,
      "grid_auto_columns": null,
      "grid_auto_flow": null,
      "grid_auto_rows": null,
      "grid_column": null,
      "grid_gap": null,
      "grid_row": null,
      "grid_template_areas": null,
      "grid_template_columns": null,
      "grid_template_rows": null,
      "height": null,
      "justify_content": null,
      "justify_items": null,
      "left": null,
      "margin": null,
      "max_height": null,
      "max_width": null,
      "min_height": null,
      "min_width": null,
      "object_fit": null,
      "object_position": null,
      "order": null,
      "overflow": null,
      "overflow_x": null,
      "overflow_y": null,
      "padding": null,
      "right": null,
      "top": null,
      "visibility": null,
      "width": null
     }
    },
    "0ac2d0b705424e36aa527be0e779f3f6": {
     "model_module": "@jupyter-widgets/controls",
     "model_name": "ProgressStyleModel",
     "model_module_version": "1.5.0",
     "state": {
      "_model_module": "@jupyter-widgets/controls",
      "_model_module_version": "1.5.0",
      "_model_name": "ProgressStyleModel",
      "_view_count": null,
      "_view_module": "@jupyter-widgets/base",
      "_view_module_version": "1.2.0",
      "_view_name": "StyleView",
      "bar_color": null,
      "description_width": ""
     }
    },
    "77275e5a7d1f4bf3a6e17a2013ce1487": {
     "model_module": "@jupyter-widgets/base",
     "model_name": "LayoutModel",
     "model_module_version": "1.2.0",
     "state": {
      "_model_module": "@jupyter-widgets/base",
      "_model_module_version": "1.2.0",
      "_model_name": "LayoutModel",
      "_view_count": null,
      "_view_module": "@jupyter-widgets/base",
      "_view_module_version": "1.2.0",
      "_view_name": "LayoutView",
      "align_content": null,
      "align_items": null,
      "align_self": null,
      "border": null,
      "bottom": null,
      "display": null,
      "flex": null,
      "flex_flow": null,
      "grid_area": null,
      "grid_auto_columns": null,
      "grid_auto_flow": null,
      "grid_auto_rows": null,
      "grid_column": null,
      "grid_gap": null,
      "grid_row": null,
      "grid_template_areas": null,
      "grid_template_columns": null,
      "grid_template_rows": null,
      "height": null,
      "justify_content": null,
      "justify_items": null,
      "left": null,
      "margin": null,
      "max_height": null,
      "max_width": null,
      "min_height": null,
      "min_width": null,
      "object_fit": null,
      "object_position": null,
      "order": null,
      "overflow": null,
      "overflow_x": null,
      "overflow_y": null,
      "padding": null,
      "right": null,
      "top": null,
      "visibility": null,
      "width": null
     }
    },
    "a05249cb8c9d44b1b77e01049ad3bff1": {
     "model_module": "@jupyter-widgets/controls",
     "model_name": "DescriptionStyleModel",
     "model_module_version": "1.5.0",
     "state": {
      "_model_module": "@jupyter-widgets/controls",
      "_model_module_version": "1.5.0",
      "_model_name": "DescriptionStyleModel",
      "_view_count": null,
      "_view_module": "@jupyter-widgets/base",
      "_view_module_version": "1.2.0",
      "_view_name": "StyleView",
      "description_width": ""
     }
    },
    "e46267612d8e43fabc0799459dd3baff": {
     "model_module": "@jupyter-widgets/controls",
     "model_name": "HBoxModel",
     "model_module_version": "1.5.0",
     "state": {
      "_dom_classes": [],
      "_model_module": "@jupyter-widgets/controls",
      "_model_module_version": "1.5.0",
      "_model_name": "HBoxModel",
      "_view_count": null,
      "_view_module": "@jupyter-widgets/controls",
      "_view_module_version": "1.5.0",
      "_view_name": "HBoxView",
      "box_style": "",
      "children": [
       "IPY_MODEL_1bdd7d06d43c41f786dfbc388239b57d",
       "IPY_MODEL_daad5f290d464762a26134833e320784",
       "IPY_MODEL_9e38752b2116425c8b792166260e54be"
      ],
      "layout": "IPY_MODEL_1f8167cccf884c57be15619cfc70c1ae"
     }
    },
    "1bdd7d06d43c41f786dfbc388239b57d": {
     "model_module": "@jupyter-widgets/controls",
     "model_name": "HTMLModel",
     "model_module_version": "1.5.0",
     "state": {
      "_dom_classes": [],
      "_model_module": "@jupyter-widgets/controls",
      "_model_module_version": "1.5.0",
      "_model_name": "HTMLModel",
      "_view_count": null,
      "_view_module": "@jupyter-widgets/controls",
      "_view_module_version": "1.5.0",
      "_view_name": "HTMLView",
      "description": "",
      "description_tooltip": null,
      "layout": "IPY_MODEL_40e227d58e8246c6b1ff2d5624f57b1d",
      "placeholder": "​",
      "style": "IPY_MODEL_36fa0fb0d7474a39a7f1ec3a6d071f71",
      "value": "Creating json from Arrow format: 100%"
     }
    },
    "daad5f290d464762a26134833e320784": {
     "model_module": "@jupyter-widgets/controls",
     "model_name": "FloatProgressModel",
     "model_module_version": "1.5.0",
     "state": {
      "_dom_classes": [],
      "_model_module": "@jupyter-widgets/controls",
      "_model_module_version": "1.5.0",
      "_model_name": "FloatProgressModel",
      "_view_count": null,
      "_view_module": "@jupyter-widgets/controls",
      "_view_module_version": "1.5.0",
      "_view_name": "ProgressView",
      "bar_style": "success",
      "description": "",
      "description_tooltip": null,
      "layout": "IPY_MODEL_9bb7cbc549594051a3935c236a830484",
      "max": 3,
      "min": 0,
      "orientation": "horizontal",
      "style": "IPY_MODEL_9bf40863255b49c884b29456164905ac",
      "value": 3
     }
    },
    "9e38752b2116425c8b792166260e54be": {
     "model_module": "@jupyter-widgets/controls",
     "model_name": "HTMLModel",
     "model_module_version": "1.5.0",
     "state": {
      "_dom_classes": [],
      "_model_module": "@jupyter-widgets/controls",
      "_model_module_version": "1.5.0",
      "_model_name": "HTMLModel",
      "_view_count": null,
      "_view_module": "@jupyter-widgets/controls",
      "_view_module_version": "1.5.0",
      "_view_name": "HTMLView",
      "description": "",
      "description_tooltip": null,
      "layout": "IPY_MODEL_8b2d781c8c4c442083d56ebc814528f6",
      "placeholder": "​",
      "style": "IPY_MODEL_ed2bad18594146c3ac547cd459581a56",
      "value": " 3/3 [00:00&lt;00:00,  7.56ba/s]"
     }
    },
    "1f8167cccf884c57be15619cfc70c1ae": {
     "model_module": "@jupyter-widgets/base",
     "model_name": "LayoutModel",
     "model_module_version": "1.2.0",
     "state": {
      "_model_module": "@jupyter-widgets/base",
      "_model_module_version": "1.2.0",
      "_model_name": "LayoutModel",
      "_view_count": null,
      "_view_module": "@jupyter-widgets/base",
      "_view_module_version": "1.2.0",
      "_view_name": "LayoutView",
      "align_content": null,
      "align_items": null,
      "align_self": null,
      "border": null,
      "bottom": null,
      "display": null,
      "flex": null,
      "flex_flow": null,
      "grid_area": null,
      "grid_auto_columns": null,
      "grid_auto_flow": null,
      "grid_auto_rows": null,
      "grid_column": null,
      "grid_gap": null,
      "grid_row": null,
      "grid_template_areas": null,
      "grid_template_columns": null,
      "grid_template_rows": null,
      "height": null,
      "justify_content": null,
      "justify_items": null,
      "left": null,
      "margin": null,
      "max_height": null,
      "max_width": null,
      "min_height": null,
      "min_width": null,
      "object_fit": null,
      "object_position": null,
      "order": null,
      "overflow": null,
      "overflow_x": null,
      "overflow_y": null,
      "padding": null,
      "right": null,
      "top": null,
      "visibility": null,
      "width": null
     }
    },
    "40e227d58e8246c6b1ff2d5624f57b1d": {
     "model_module": "@jupyter-widgets/base",
     "model_name": "LayoutModel",
     "model_module_version": "1.2.0",
     "state": {
      "_model_module": "@jupyter-widgets/base",
      "_model_module_version": "1.2.0",
      "_model_name": "LayoutModel",
      "_view_count": null,
      "_view_module": "@jupyter-widgets/base",
      "_view_module_version": "1.2.0",
      "_view_name": "LayoutView",
      "align_content": null,
      "align_items": null,
      "align_self": null,
      "border": null,
      "bottom": null,
      "display": null,
      "flex": null,
      "flex_flow": null,
      "grid_area": null,
      "grid_auto_columns": null,
      "grid_auto_flow": null,
      "grid_auto_rows": null,
      "grid_column": null,
      "grid_gap": null,
      "grid_row": null,
      "grid_template_areas": null,
      "grid_template_columns": null,
      "grid_template_rows": null,
      "height": null,
      "justify_content": null,
      "justify_items": null,
      "left": null,
      "margin": null,
      "max_height": null,
      "max_width": null,
      "min_height": null,
      "min_width": null,
      "object_fit": null,
      "object_position": null,
      "order": null,
      "overflow": null,
      "overflow_x": null,
      "overflow_y": null,
      "padding": null,
      "right": null,
      "top": null,
      "visibility": null,
      "width": null
     }
    },
    "36fa0fb0d7474a39a7f1ec3a6d071f71": {
     "model_module": "@jupyter-widgets/controls",
     "model_name": "DescriptionStyleModel",
     "model_module_version": "1.5.0",
     "state": {
      "_model_module": "@jupyter-widgets/controls",
      "_model_module_version": "1.5.0",
      "_model_name": "DescriptionStyleModel",
      "_view_count": null,
      "_view_module": "@jupyter-widgets/base",
      "_view_module_version": "1.2.0",
      "_view_name": "StyleView",
      "description_width": ""
     }
    },
    "9bb7cbc549594051a3935c236a830484": {
     "model_module": "@jupyter-widgets/base",
     "model_name": "LayoutModel",
     "model_module_version": "1.2.0",
     "state": {
      "_model_module": "@jupyter-widgets/base",
      "_model_module_version": "1.2.0",
      "_model_name": "LayoutModel",
      "_view_count": null,
      "_view_module": "@jupyter-widgets/base",
      "_view_module_version": "1.2.0",
      "_view_name": "LayoutView",
      "align_content": null,
      "align_items": null,
      "align_self": null,
      "border": null,
      "bottom": null,
      "display": null,
      "flex": null,
      "flex_flow": null,
      "grid_area": null,
      "grid_auto_columns": null,
      "grid_auto_flow": null,
      "grid_auto_rows": null,
      "grid_column": null,
      "grid_gap": null,
      "grid_row": null,
      "grid_template_areas": null,
      "grid_template_columns": null,
      "grid_template_rows": null,
      "height": null,
      "justify_content": null,
      "justify_items": null,
      "left": null,
      "margin": null,
      "max_height": null,
      "max_width": null,
      "min_height": null,
      "min_width": null,
      "object_fit": null,
      "object_position": null,
      "order": null,
      "overflow": null,
      "overflow_x": null,
      "overflow_y": null,
      "padding": null,
      "right": null,
      "top": null,
      "visibility": null,
      "width": null
     }
    },
    "9bf40863255b49c884b29456164905ac": {
     "model_module": "@jupyter-widgets/controls",
     "model_name": "ProgressStyleModel",
     "model_module_version": "1.5.0",
     "state": {
      "_model_module": "@jupyter-widgets/controls",
      "_model_module_version": "1.5.0",
      "_model_name": "ProgressStyleModel",
      "_view_count": null,
      "_view_module": "@jupyter-widgets/base",
      "_view_module_version": "1.2.0",
      "_view_name": "StyleView",
      "bar_color": null,
      "description_width": ""
     }
    },
    "8b2d781c8c4c442083d56ebc814528f6": {
     "model_module": "@jupyter-widgets/base",
     "model_name": "LayoutModel",
     "model_module_version": "1.2.0",
     "state": {
      "_model_module": "@jupyter-widgets/base",
      "_model_module_version": "1.2.0",
      "_model_name": "LayoutModel",
      "_view_count": null,
      "_view_module": "@jupyter-widgets/base",
      "_view_module_version": "1.2.0",
      "_view_name": "LayoutView",
      "align_content": null,
      "align_items": null,
      "align_self": null,
      "border": null,
      "bottom": null,
      "display": null,
      "flex": null,
      "flex_flow": null,
      "grid_area": null,
      "grid_auto_columns": null,
      "grid_auto_flow": null,
      "grid_auto_rows": null,
      "grid_column": null,
      "grid_gap": null,
      "grid_row": null,
      "grid_template_areas": null,
      "grid_template_columns": null,
      "grid_template_rows": null,
      "height": null,
      "justify_content": null,
      "justify_items": null,
      "left": null,
      "margin": null,
      "max_height": null,
      "max_width": null,
      "min_height": null,
      "min_width": null,
      "object_fit": null,
      "object_position": null,
      "order": null,
      "overflow": null,
      "overflow_x": null,
      "overflow_y": null,
      "padding": null,
      "right": null,
      "top": null,
      "visibility": null,
      "width": null
     }
    },
    "ed2bad18594146c3ac547cd459581a56": {
     "model_module": "@jupyter-widgets/controls",
     "model_name": "DescriptionStyleModel",
     "model_module_version": "1.5.0",
     "state": {
      "_model_module": "@jupyter-widgets/controls",
      "_model_module_version": "1.5.0",
      "_model_name": "DescriptionStyleModel",
      "_view_count": null,
      "_view_module": "@jupyter-widgets/base",
      "_view_module_version": "1.2.0",
      "_view_name": "StyleView",
      "description_width": ""
     }
    },
    "3638c8fe33914ce898843eebdbdbae34": {
     "model_module": "@jupyter-widgets/controls",
     "model_name": "HBoxModel",
     "model_module_version": "1.5.0",
     "state": {
      "_dom_classes": [],
      "_model_module": "@jupyter-widgets/controls",
      "_model_module_version": "1.5.0",
      "_model_name": "HBoxModel",
      "_view_count": null,
      "_view_module": "@jupyter-widgets/controls",
      "_view_module_version": "1.5.0",
      "_view_name": "HBoxView",
      "box_style": "",
      "children": [
       "IPY_MODEL_e3c7c38841c0449587603219a180c84a",
       "IPY_MODEL_606f5c0b42d64622a7569fafa21c9639",
       "IPY_MODEL_6e138174c18244469e5b88760b040adf"
      ],
      "layout": "IPY_MODEL_d050fe974b0748c3ac62ac7fb1fd1244"
     }
    },
    "e3c7c38841c0449587603219a180c84a": {
     "model_module": "@jupyter-widgets/controls",
     "model_name": "HTMLModel",
     "model_module_version": "1.5.0",
     "state": {
      "_dom_classes": [],
      "_model_module": "@jupyter-widgets/controls",
      "_model_module_version": "1.5.0",
      "_model_name": "HTMLModel",
      "_view_count": null,
      "_view_module": "@jupyter-widgets/controls",
      "_view_module_version": "1.5.0",
      "_view_name": "HTMLView",
      "description": "",
      "description_tooltip": null,
      "layout": "IPY_MODEL_3368f7802cf847f6bec65420ed72ed07",
      "placeholder": "​",
      "style": "IPY_MODEL_421e8d70993d4c91af7b52fbc2f2976d",
      "value": "Creating json from Arrow format: 100%"
     }
    },
    "606f5c0b42d64622a7569fafa21c9639": {
     "model_module": "@jupyter-widgets/controls",
     "model_name": "FloatProgressModel",
     "model_module_version": "1.5.0",
     "state": {
      "_dom_classes": [],
      "_model_module": "@jupyter-widgets/controls",
      "_model_module_version": "1.5.0",
      "_model_name": "FloatProgressModel",
      "_view_count": null,
      "_view_module": "@jupyter-widgets/controls",
      "_view_module_version": "1.5.0",
      "_view_name": "ProgressView",
      "bar_style": "success",
      "description": "",
      "description_tooltip": null,
      "layout": "IPY_MODEL_3dfdeac055f44033b489c5832fbedd67",
      "max": 2,
      "min": 0,
      "orientation": "horizontal",
      "style": "IPY_MODEL_be6401fd63ea4536add0e84e2f95ceba",
      "value": 2
     }
    },
    "6e138174c18244469e5b88760b040adf": {
     "model_module": "@jupyter-widgets/controls",
     "model_name": "HTMLModel",
     "model_module_version": "1.5.0",
     "state": {
      "_dom_classes": [],
      "_model_module": "@jupyter-widgets/controls",
      "_model_module_version": "1.5.0",
      "_model_name": "HTMLModel",
      "_view_count": null,
      "_view_module": "@jupyter-widgets/controls",
      "_view_module_version": "1.5.0",
      "_view_name": "HTMLView",
      "description": "",
      "description_tooltip": null,
      "layout": "IPY_MODEL_3e01ecf3e1124c7faadf475ce3c6868c",
      "placeholder": "​",
      "style": "IPY_MODEL_021f2515a00a4dedab21019d78fb6ef4",
      "value": " 2/2 [00:00&lt;00:00,  6.09ba/s]"
     }
    },
    "d050fe974b0748c3ac62ac7fb1fd1244": {
     "model_module": "@jupyter-widgets/base",
     "model_name": "LayoutModel",
     "model_module_version": "1.2.0",
     "state": {
      "_model_module": "@jupyter-widgets/base",
      "_model_module_version": "1.2.0",
      "_model_name": "LayoutModel",
      "_view_count": null,
      "_view_module": "@jupyter-widgets/base",
      "_view_module_version": "1.2.0",
      "_view_name": "LayoutView",
      "align_content": null,
      "align_items": null,
      "align_self": null,
      "border": null,
      "bottom": null,
      "display": null,
      "flex": null,
      "flex_flow": null,
      "grid_area": null,
      "grid_auto_columns": null,
      "grid_auto_flow": null,
      "grid_auto_rows": null,
      "grid_column": null,
      "grid_gap": null,
      "grid_row": null,
      "grid_template_areas": null,
      "grid_template_columns": null,
      "grid_template_rows": null,
      "height": null,
      "justify_content": null,
      "justify_items": null,
      "left": null,
      "margin": null,
      "max_height": null,
      "max_width": null,
      "min_height": null,
      "min_width": null,
      "object_fit": null,
      "object_position": null,
      "order": null,
      "overflow": null,
      "overflow_x": null,
      "overflow_y": null,
      "padding": null,
      "right": null,
      "top": null,
      "visibility": null,
      "width": null
     }
    },
    "3368f7802cf847f6bec65420ed72ed07": {
     "model_module": "@jupyter-widgets/base",
     "model_name": "LayoutModel",
     "model_module_version": "1.2.0",
     "state": {
      "_model_module": "@jupyter-widgets/base",
      "_model_module_version": "1.2.0",
      "_model_name": "LayoutModel",
      "_view_count": null,
      "_view_module": "@jupyter-widgets/base",
      "_view_module_version": "1.2.0",
      "_view_name": "LayoutView",
      "align_content": null,
      "align_items": null,
      "align_self": null,
      "border": null,
      "bottom": null,
      "display": null,
      "flex": null,
      "flex_flow": null,
      "grid_area": null,
      "grid_auto_columns": null,
      "grid_auto_flow": null,
      "grid_auto_rows": null,
      "grid_column": null,
      "grid_gap": null,
      "grid_row": null,
      "grid_template_areas": null,
      "grid_template_columns": null,
      "grid_template_rows": null,
      "height": null,
      "justify_content": null,
      "justify_items": null,
      "left": null,
      "margin": null,
      "max_height": null,
      "max_width": null,
      "min_height": null,
      "min_width": null,
      "object_fit": null,
      "object_position": null,
      "order": null,
      "overflow": null,
      "overflow_x": null,
      "overflow_y": null,
      "padding": null,
      "right": null,
      "top": null,
      "visibility": null,
      "width": null
     }
    },
    "421e8d70993d4c91af7b52fbc2f2976d": {
     "model_module": "@jupyter-widgets/controls",
     "model_name": "DescriptionStyleModel",
     "model_module_version": "1.5.0",
     "state": {
      "_model_module": "@jupyter-widgets/controls",
      "_model_module_version": "1.5.0",
      "_model_name": "DescriptionStyleModel",
      "_view_count": null,
      "_view_module": "@jupyter-widgets/base",
      "_view_module_version": "1.2.0",
      "_view_name": "StyleView",
      "description_width": ""
     }
    },
    "3dfdeac055f44033b489c5832fbedd67": {
     "model_module": "@jupyter-widgets/base",
     "model_name": "LayoutModel",
     "model_module_version": "1.2.0",
     "state": {
      "_model_module": "@jupyter-widgets/base",
      "_model_module_version": "1.2.0",
      "_model_name": "LayoutModel",
      "_view_count": null,
      "_view_module": "@jupyter-widgets/base",
      "_view_module_version": "1.2.0",
      "_view_name": "LayoutView",
      "align_content": null,
      "align_items": null,
      "align_self": null,
      "border": null,
      "bottom": null,
      "display": null,
      "flex": null,
      "flex_flow": null,
      "grid_area": null,
      "grid_auto_columns": null,
      "grid_auto_flow": null,
      "grid_auto_rows": null,
      "grid_column": null,
      "grid_gap": null,
      "grid_row": null,
      "grid_template_areas": null,
      "grid_template_columns": null,
      "grid_template_rows": null,
      "height": null,
      "justify_content": null,
      "justify_items": null,
      "left": null,
      "margin": null,
      "max_height": null,
      "max_width": null,
      "min_height": null,
      "min_width": null,
      "object_fit": null,
      "object_position": null,
      "order": null,
      "overflow": null,
      "overflow_x": null,
      "overflow_y": null,
      "padding": null,
      "right": null,
      "top": null,
      "visibility": null,
      "width": null
     }
    },
    "be6401fd63ea4536add0e84e2f95ceba": {
     "model_module": "@jupyter-widgets/controls",
     "model_name": "ProgressStyleModel",
     "model_module_version": "1.5.0",
     "state": {
      "_model_module": "@jupyter-widgets/controls",
      "_model_module_version": "1.5.0",
      "_model_name": "ProgressStyleModel",
      "_view_count": null,
      "_view_module": "@jupyter-widgets/base",
      "_view_module_version": "1.2.0",
      "_view_name": "StyleView",
      "bar_color": null,
      "description_width": ""
     }
    },
    "3e01ecf3e1124c7faadf475ce3c6868c": {
     "model_module": "@jupyter-widgets/base",
     "model_name": "LayoutModel",
     "model_module_version": "1.2.0",
     "state": {
      "_model_module": "@jupyter-widgets/base",
      "_model_module_version": "1.2.0",
      "_model_name": "LayoutModel",
      "_view_count": null,
      "_view_module": "@jupyter-widgets/base",
      "_view_module_version": "1.2.0",
      "_view_name": "LayoutView",
      "align_content": null,
      "align_items": null,
      "align_self": null,
      "border": null,
      "bottom": null,
      "display": null,
      "flex": null,
      "flex_flow": null,
      "grid_area": null,
      "grid_auto_columns": null,
      "grid_auto_flow": null,
      "grid_auto_rows": null,
      "grid_column": null,
      "grid_gap": null,
      "grid_row": null,
      "grid_template_areas": null,
      "grid_template_columns": null,
      "grid_template_rows": null,
      "height": null,
      "justify_content": null,
      "justify_items": null,
      "left": null,
      "margin": null,
      "max_height": null,
      "max_width": null,
      "min_height": null,
      "min_width": null,
      "object_fit": null,
      "object_position": null,
      "order": null,
      "overflow": null,
      "overflow_x": null,
      "overflow_y": null,
      "padding": null,
      "right": null,
      "top": null,
      "visibility": null,
      "width": null
     }
    },
    "021f2515a00a4dedab21019d78fb6ef4": {
     "model_module": "@jupyter-widgets/controls",
     "model_name": "DescriptionStyleModel",
     "model_module_version": "1.5.0",
     "state": {
      "_model_module": "@jupyter-widgets/controls",
      "_model_module_version": "1.5.0",
      "_model_name": "DescriptionStyleModel",
      "_view_count": null,
      "_view_module": "@jupyter-widgets/base",
      "_view_module_version": "1.2.0",
      "_view_name": "StyleView",
      "description_width": ""
     }
    },
    "25bd556cb8ef44b8b501e5e62a5c08a1": {
     "model_module": "@jupyter-widgets/controls",
     "model_name": "HBoxModel",
     "model_module_version": "1.5.0",
     "state": {
      "_dom_classes": [],
      "_model_module": "@jupyter-widgets/controls",
      "_model_module_version": "1.5.0",
      "_model_name": "HBoxModel",
      "_view_count": null,
      "_view_module": "@jupyter-widgets/controls",
      "_view_module_version": "1.5.0",
      "_view_name": "HBoxView",
      "box_style": "",
      "children": [
       "IPY_MODEL_e437cfa022054f3aa115688c5f59dc40",
       "IPY_MODEL_bcb678bf77c9452abfc0b1ad242851c3",
       "IPY_MODEL_96d14e42142f48f49cf627ebc6f0ca05"
      ],
      "layout": "IPY_MODEL_52b361868821424db85253b07ea8549a"
     }
    },
    "e437cfa022054f3aa115688c5f59dc40": {
     "model_module": "@jupyter-widgets/controls",
     "model_name": "HTMLModel",
     "model_module_version": "1.5.0",
     "state": {
      "_dom_classes": [],
      "_model_module": "@jupyter-widgets/controls",
      "_model_module_version": "1.5.0",
      "_model_name": "HTMLModel",
      "_view_count": null,
      "_view_module": "@jupyter-widgets/controls",
      "_view_module_version": "1.5.0",
      "_view_name": "HTMLView",
      "description": "",
      "description_tooltip": null,
      "layout": "IPY_MODEL_bd22dc0f1c674060ba986b00cb4673a9",
      "placeholder": "​",
      "style": "IPY_MODEL_90bfe911915d4955b3384b16e2f4e9f8",
      "value": "Creating json from Arrow format: 100%"
     }
    },
    "bcb678bf77c9452abfc0b1ad242851c3": {
     "model_module": "@jupyter-widgets/controls",
     "model_name": "FloatProgressModel",
     "model_module_version": "1.5.0",
     "state": {
      "_dom_classes": [],
      "_model_module": "@jupyter-widgets/controls",
      "_model_module_version": "1.5.0",
      "_model_name": "FloatProgressModel",
      "_view_count": null,
      "_view_module": "@jupyter-widgets/controls",
      "_view_module_version": "1.5.0",
      "_view_name": "ProgressView",
      "bar_style": "success",
      "description": "",
      "description_tooltip": null,
      "layout": "IPY_MODEL_06e9db212fd04b97b3282712917c728e",
      "max": 3,
      "min": 0,
      "orientation": "horizontal",
      "style": "IPY_MODEL_2158215f95704cdf9ee44ee518ba8268",
      "value": 3
     }
    },
    "96d14e42142f48f49cf627ebc6f0ca05": {
     "model_module": "@jupyter-widgets/controls",
     "model_name": "HTMLModel",
     "model_module_version": "1.5.0",
     "state": {
      "_dom_classes": [],
      "_model_module": "@jupyter-widgets/controls",
      "_model_module_version": "1.5.0",
      "_model_name": "HTMLModel",
      "_view_count": null,
      "_view_module": "@jupyter-widgets/controls",
      "_view_module_version": "1.5.0",
      "_view_name": "HTMLView",
      "description": "",
      "description_tooltip": null,
      "layout": "IPY_MODEL_0eac612548e34859a0865f324286713b",
      "placeholder": "​",
      "style": "IPY_MODEL_a08fd3a831a4498da1a8441ca9fe0627",
      "value": " 3/3 [00:00&lt;00:00,  7.45ba/s]"
     }
    },
    "52b361868821424db85253b07ea8549a": {
     "model_module": "@jupyter-widgets/base",
     "model_name": "LayoutModel",
     "model_module_version": "1.2.0",
     "state": {
      "_model_module": "@jupyter-widgets/base",
      "_model_module_version": "1.2.0",
      "_model_name": "LayoutModel",
      "_view_count": null,
      "_view_module": "@jupyter-widgets/base",
      "_view_module_version": "1.2.0",
      "_view_name": "LayoutView",
      "align_content": null,
      "align_items": null,
      "align_self": null,
      "border": null,
      "bottom": null,
      "display": null,
      "flex": null,
      "flex_flow": null,
      "grid_area": null,
      "grid_auto_columns": null,
      "grid_auto_flow": null,
      "grid_auto_rows": null,
      "grid_column": null,
      "grid_gap": null,
      "grid_row": null,
      "grid_template_areas": null,
      "grid_template_columns": null,
      "grid_template_rows": null,
      "height": null,
      "justify_content": null,
      "justify_items": null,
      "left": null,
      "margin": null,
      "max_height": null,
      "max_width": null,
      "min_height": null,
      "min_width": null,
      "object_fit": null,
      "object_position": null,
      "order": null,
      "overflow": null,
      "overflow_x": null,
      "overflow_y": null,
      "padding": null,
      "right": null,
      "top": null,
      "visibility": null,
      "width": null
     }
    },
    "bd22dc0f1c674060ba986b00cb4673a9": {
     "model_module": "@jupyter-widgets/base",
     "model_name": "LayoutModel",
     "model_module_version": "1.2.0",
     "state": {
      "_model_module": "@jupyter-widgets/base",
      "_model_module_version": "1.2.0",
      "_model_name": "LayoutModel",
      "_view_count": null,
      "_view_module": "@jupyter-widgets/base",
      "_view_module_version": "1.2.0",
      "_view_name": "LayoutView",
      "align_content": null,
      "align_items": null,
      "align_self": null,
      "border": null,
      "bottom": null,
      "display": null,
      "flex": null,
      "flex_flow": null,
      "grid_area": null,
      "grid_auto_columns": null,
      "grid_auto_flow": null,
      "grid_auto_rows": null,
      "grid_column": null,
      "grid_gap": null,
      "grid_row": null,
      "grid_template_areas": null,
      "grid_template_columns": null,
      "grid_template_rows": null,
      "height": null,
      "justify_content": null,
      "justify_items": null,
      "left": null,
      "margin": null,
      "max_height": null,
      "max_width": null,
      "min_height": null,
      "min_width": null,
      "object_fit": null,
      "object_position": null,
      "order": null,
      "overflow": null,
      "overflow_x": null,
      "overflow_y": null,
      "padding": null,
      "right": null,
      "top": null,
      "visibility": null,
      "width": null
     }
    },
    "90bfe911915d4955b3384b16e2f4e9f8": {
     "model_module": "@jupyter-widgets/controls",
     "model_name": "DescriptionStyleModel",
     "model_module_version": "1.5.0",
     "state": {
      "_model_module": "@jupyter-widgets/controls",
      "_model_module_version": "1.5.0",
      "_model_name": "DescriptionStyleModel",
      "_view_count": null,
      "_view_module": "@jupyter-widgets/base",
      "_view_module_version": "1.2.0",
      "_view_name": "StyleView",
      "description_width": ""
     }
    },
    "06e9db212fd04b97b3282712917c728e": {
     "model_module": "@jupyter-widgets/base",
     "model_name": "LayoutModel",
     "model_module_version": "1.2.0",
     "state": {
      "_model_module": "@jupyter-widgets/base",
      "_model_module_version": "1.2.0",
      "_model_name": "LayoutModel",
      "_view_count": null,
      "_view_module": "@jupyter-widgets/base",
      "_view_module_version": "1.2.0",
      "_view_name": "LayoutView",
      "align_content": null,
      "align_items": null,
      "align_self": null,
      "border": null,
      "bottom": null,
      "display": null,
      "flex": null,
      "flex_flow": null,
      "grid_area": null,
      "grid_auto_columns": null,
      "grid_auto_flow": null,
      "grid_auto_rows": null,
      "grid_column": null,
      "grid_gap": null,
      "grid_row": null,
      "grid_template_areas": null,
      "grid_template_columns": null,
      "grid_template_rows": null,
      "height": null,
      "justify_content": null,
      "justify_items": null,
      "left": null,
      "margin": null,
      "max_height": null,
      "max_width": null,
      "min_height": null,
      "min_width": null,
      "object_fit": null,
      "object_position": null,
      "order": null,
      "overflow": null,
      "overflow_x": null,
      "overflow_y": null,
      "padding": null,
      "right": null,
      "top": null,
      "visibility": null,
      "width": null
     }
    },
    "2158215f95704cdf9ee44ee518ba8268": {
     "model_module": "@jupyter-widgets/controls",
     "model_name": "ProgressStyleModel",
     "model_module_version": "1.5.0",
     "state": {
      "_model_module": "@jupyter-widgets/controls",
      "_model_module_version": "1.5.0",
      "_model_name": "ProgressStyleModel",
      "_view_count": null,
      "_view_module": "@jupyter-widgets/base",
      "_view_module_version": "1.2.0",
      "_view_name": "StyleView",
      "bar_color": null,
      "description_width": ""
     }
    },
    "0eac612548e34859a0865f324286713b": {
     "model_module": "@jupyter-widgets/base",
     "model_name": "LayoutModel",
     "model_module_version": "1.2.0",
     "state": {
      "_model_module": "@jupyter-widgets/base",
      "_model_module_version": "1.2.0",
      "_model_name": "LayoutModel",
      "_view_count": null,
      "_view_module": "@jupyter-widgets/base",
      "_view_module_version": "1.2.0",
      "_view_name": "LayoutView",
      "align_content": null,
      "align_items": null,
      "align_self": null,
      "border": null,
      "bottom": null,
      "display": null,
      "flex": null,
      "flex_flow": null,
      "grid_area": null,
      "grid_auto_columns": null,
      "grid_auto_flow": null,
      "grid_auto_rows": null,
      "grid_column": null,
      "grid_gap": null,
      "grid_row": null,
      "grid_template_areas": null,
      "grid_template_columns": null,
      "grid_template_rows": null,
      "height": null,
      "justify_content": null,
      "justify_items": null,
      "left": null,
      "margin": null,
      "max_height": null,
      "max_width": null,
      "min_height": null,
      "min_width": null,
      "object_fit": null,
      "object_position": null,
      "order": null,
      "overflow": null,
      "overflow_x": null,
      "overflow_y": null,
      "padding": null,
      "right": null,
      "top": null,
      "visibility": null,
      "width": null
     }
    },
    "a08fd3a831a4498da1a8441ca9fe0627": {
     "model_module": "@jupyter-widgets/controls",
     "model_name": "DescriptionStyleModel",
     "model_module_version": "1.5.0",
     "state": {
      "_model_module": "@jupyter-widgets/controls",
      "_model_module_version": "1.5.0",
      "_model_name": "DescriptionStyleModel",
      "_view_count": null,
      "_view_module": "@jupyter-widgets/base",
      "_view_module_version": "1.2.0",
      "_view_name": "StyleView",
      "description_width": ""
     }
    },
    "3bef39c9914043958698f2d0631f3c58": {
     "model_module": "@jupyter-widgets/controls",
     "model_name": "HBoxModel",
     "model_module_version": "1.5.0",
     "state": {
      "_dom_classes": [],
      "_model_module": "@jupyter-widgets/controls",
      "_model_module_version": "1.5.0",
      "_model_name": "HBoxModel",
      "_view_count": null,
      "_view_module": "@jupyter-widgets/controls",
      "_view_module_version": "1.5.0",
      "_view_name": "HBoxView",
      "box_style": "",
      "children": [
       "IPY_MODEL_e8d650cd637d419b82f8e1e547cbdbd1",
       "IPY_MODEL_d25054c5df3a47b68f17746679a34a73",
       "IPY_MODEL_a7008fa04d394dd0bc963c29bc9c5a34"
      ],
      "layout": "IPY_MODEL_0e2058d2a6ab4f29bf406966067df7c7"
     }
    },
    "e8d650cd637d419b82f8e1e547cbdbd1": {
     "model_module": "@jupyter-widgets/controls",
     "model_name": "HTMLModel",
     "model_module_version": "1.5.0",
     "state": {
      "_dom_classes": [],
      "_model_module": "@jupyter-widgets/controls",
      "_model_module_version": "1.5.0",
      "_model_name": "HTMLModel",
      "_view_count": null,
      "_view_module": "@jupyter-widgets/controls",
      "_view_module_version": "1.5.0",
      "_view_name": "HTMLView",
      "description": "",
      "description_tooltip": null,
      "layout": "IPY_MODEL_10a5c50500014990b49af9490e268631",
      "placeholder": "​",
      "style": "IPY_MODEL_39f47f73d9ad4e7580916ce51da1323e",
      "value": "Creating json from Arrow format: 100%"
     }
    },
    "d25054c5df3a47b68f17746679a34a73": {
     "model_module": "@jupyter-widgets/controls",
     "model_name": "FloatProgressModel",
     "model_module_version": "1.5.0",
     "state": {
      "_dom_classes": [],
      "_model_module": "@jupyter-widgets/controls",
      "_model_module_version": "1.5.0",
      "_model_name": "FloatProgressModel",
      "_view_count": null,
      "_view_module": "@jupyter-widgets/controls",
      "_view_module_version": "1.5.0",
      "_view_name": "ProgressView",
      "bar_style": "success",
      "description": "",
      "description_tooltip": null,
      "layout": "IPY_MODEL_2b02fe8036e8495287df4dbae1585a1b",
      "max": 2,
      "min": 0,
      "orientation": "horizontal",
      "style": "IPY_MODEL_bb2713d52db54b9a9335164a8208b333",
      "value": 2
     }
    },
    "a7008fa04d394dd0bc963c29bc9c5a34": {
     "model_module": "@jupyter-widgets/controls",
     "model_name": "HTMLModel",
     "model_module_version": "1.5.0",
     "state": {
      "_dom_classes": [],
      "_model_module": "@jupyter-widgets/controls",
      "_model_module_version": "1.5.0",
      "_model_name": "HTMLModel",
      "_view_count": null,
      "_view_module": "@jupyter-widgets/controls",
      "_view_module_version": "1.5.0",
      "_view_name": "HTMLView",
      "description": "",
      "description_tooltip": null,
      "layout": "IPY_MODEL_6bd22fc7b77741fd99335c00fc5a2536",
      "placeholder": "​",
      "style": "IPY_MODEL_64997e6f556443fab6b83ed40aed9e60",
      "value": " 2/2 [00:00&lt;00:00,  5.38ba/s]"
     }
    },
    "0e2058d2a6ab4f29bf406966067df7c7": {
     "model_module": "@jupyter-widgets/base",
     "model_name": "LayoutModel",
     "model_module_version": "1.2.0",
     "state": {
      "_model_module": "@jupyter-widgets/base",
      "_model_module_version": "1.2.0",
      "_model_name": "LayoutModel",
      "_view_count": null,
      "_view_module": "@jupyter-widgets/base",
      "_view_module_version": "1.2.0",
      "_view_name": "LayoutView",
      "align_content": null,
      "align_items": null,
      "align_self": null,
      "border": null,
      "bottom": null,
      "display": null,
      "flex": null,
      "flex_flow": null,
      "grid_area": null,
      "grid_auto_columns": null,
      "grid_auto_flow": null,
      "grid_auto_rows": null,
      "grid_column": null,
      "grid_gap": null,
      "grid_row": null,
      "grid_template_areas": null,
      "grid_template_columns": null,
      "grid_template_rows": null,
      "height": null,
      "justify_content": null,
      "justify_items": null,
      "left": null,
      "margin": null,
      "max_height": null,
      "max_width": null,
      "min_height": null,
      "min_width": null,
      "object_fit": null,
      "object_position": null,
      "order": null,
      "overflow": null,
      "overflow_x": null,
      "overflow_y": null,
      "padding": null,
      "right": null,
      "top": null,
      "visibility": null,
      "width": null
     }
    },
    "10a5c50500014990b49af9490e268631": {
     "model_module": "@jupyter-widgets/base",
     "model_name": "LayoutModel",
     "model_module_version": "1.2.0",
     "state": {
      "_model_module": "@jupyter-widgets/base",
      "_model_module_version": "1.2.0",
      "_model_name": "LayoutModel",
      "_view_count": null,
      "_view_module": "@jupyter-widgets/base",
      "_view_module_version": "1.2.0",
      "_view_name": "LayoutView",
      "align_content": null,
      "align_items": null,
      "align_self": null,
      "border": null,
      "bottom": null,
      "display": null,
      "flex": null,
      "flex_flow": null,
      "grid_area": null,
      "grid_auto_columns": null,
      "grid_auto_flow": null,
      "grid_auto_rows": null,
      "grid_column": null,
      "grid_gap": null,
      "grid_row": null,
      "grid_template_areas": null,
      "grid_template_columns": null,
      "grid_template_rows": null,
      "height": null,
      "justify_content": null,
      "justify_items": null,
      "left": null,
      "margin": null,
      "max_height": null,
      "max_width": null,
      "min_height": null,
      "min_width": null,
      "object_fit": null,
      "object_position": null,
      "order": null,
      "overflow": null,
      "overflow_x": null,
      "overflow_y": null,
      "padding": null,
      "right": null,
      "top": null,
      "visibility": null,
      "width": null
     }
    },
    "39f47f73d9ad4e7580916ce51da1323e": {
     "model_module": "@jupyter-widgets/controls",
     "model_name": "DescriptionStyleModel",
     "model_module_version": "1.5.0",
     "state": {
      "_model_module": "@jupyter-widgets/controls",
      "_model_module_version": "1.5.0",
      "_model_name": "DescriptionStyleModel",
      "_view_count": null,
      "_view_module": "@jupyter-widgets/base",
      "_view_module_version": "1.2.0",
      "_view_name": "StyleView",
      "description_width": ""
     }
    },
    "2b02fe8036e8495287df4dbae1585a1b": {
     "model_module": "@jupyter-widgets/base",
     "model_name": "LayoutModel",
     "model_module_version": "1.2.0",
     "state": {
      "_model_module": "@jupyter-widgets/base",
      "_model_module_version": "1.2.0",
      "_model_name": "LayoutModel",
      "_view_count": null,
      "_view_module": "@jupyter-widgets/base",
      "_view_module_version": "1.2.0",
      "_view_name": "LayoutView",
      "align_content": null,
      "align_items": null,
      "align_self": null,
      "border": null,
      "bottom": null,
      "display": null,
      "flex": null,
      "flex_flow": null,
      "grid_area": null,
      "grid_auto_columns": null,
      "grid_auto_flow": null,
      "grid_auto_rows": null,
      "grid_column": null,
      "grid_gap": null,
      "grid_row": null,
      "grid_template_areas": null,
      "grid_template_columns": null,
      "grid_template_rows": null,
      "height": null,
      "justify_content": null,
      "justify_items": null,
      "left": null,
      "margin": null,
      "max_height": null,
      "max_width": null,
      "min_height": null,
      "min_width": null,
      "object_fit": null,
      "object_position": null,
      "order": null,
      "overflow": null,
      "overflow_x": null,
      "overflow_y": null,
      "padding": null,
      "right": null,
      "top": null,
      "visibility": null,
      "width": null
     }
    },
    "bb2713d52db54b9a9335164a8208b333": {
     "model_module": "@jupyter-widgets/controls",
     "model_name": "ProgressStyleModel",
     "model_module_version": "1.5.0",
     "state": {
      "_model_module": "@jupyter-widgets/controls",
      "_model_module_version": "1.5.0",
      "_model_name": "ProgressStyleModel",
      "_view_count": null,
      "_view_module": "@jupyter-widgets/base",
      "_view_module_version": "1.2.0",
      "_view_name": "StyleView",
      "bar_color": null,
      "description_width": ""
     }
    },
    "6bd22fc7b77741fd99335c00fc5a2536": {
     "model_module": "@jupyter-widgets/base",
     "model_name": "LayoutModel",
     "model_module_version": "1.2.0",
     "state": {
      "_model_module": "@jupyter-widgets/base",
      "_model_module_version": "1.2.0",
      "_model_name": "LayoutModel",
      "_view_count": null,
      "_view_module": "@jupyter-widgets/base",
      "_view_module_version": "1.2.0",
      "_view_name": "LayoutView",
      "align_content": null,
      "align_items": null,
      "align_self": null,
      "border": null,
      "bottom": null,
      "display": null,
      "flex": null,
      "flex_flow": null,
      "grid_area": null,
      "grid_auto_columns": null,
      "grid_auto_flow": null,
      "grid_auto_rows": null,
      "grid_column": null,
      "grid_gap": null,
      "grid_row": null,
      "grid_template_areas": null,
      "grid_template_columns": null,
      "grid_template_rows": null,
      "height": null,
      "justify_content": null,
      "justify_items": null,
      "left": null,
      "margin": null,
      "max_height": null,
      "max_width": null,
      "min_height": null,
      "min_width": null,
      "object_fit": null,
      "object_position": null,
      "order": null,
      "overflow": null,
      "overflow_x": null,
      "overflow_y": null,
      "padding": null,
      "right": null,
      "top": null,
      "visibility": null,
      "width": null
     }
    },
    "64997e6f556443fab6b83ed40aed9e60": {
     "model_module": "@jupyter-widgets/controls",
     "model_name": "DescriptionStyleModel",
     "model_module_version": "1.5.0",
     "state": {
      "_model_module": "@jupyter-widgets/controls",
      "_model_module_version": "1.5.0",
      "_model_name": "DescriptionStyleModel",
      "_view_count": null,
      "_view_module": "@jupyter-widgets/base",
      "_view_module_version": "1.2.0",
      "_view_name": "StyleView",
      "description_width": ""
     }
    },
    "3e450616ac54481698659f46be178f2d": {
     "model_module": "@jupyter-widgets/controls",
     "model_name": "HBoxModel",
     "model_module_version": "1.5.0",
     "state": {
      "_dom_classes": [],
      "_model_module": "@jupyter-widgets/controls",
      "_model_module_version": "1.5.0",
      "_model_name": "HBoxModel",
      "_view_count": null,
      "_view_module": "@jupyter-widgets/controls",
      "_view_module_version": "1.5.0",
      "_view_name": "HBoxView",
      "box_style": "",
      "children": [
       "IPY_MODEL_148136b9c60243a0bbe6963f3817062a",
       "IPY_MODEL_0721b77621674798aa399726799ded6b",
       "IPY_MODEL_04fc6a785ce54318818dbf6f894325aa"
      ],
      "layout": "IPY_MODEL_0b819647d60943e98f10d93cd34630eb"
     }
    },
    "148136b9c60243a0bbe6963f3817062a": {
     "model_module": "@jupyter-widgets/controls",
     "model_name": "HTMLModel",
     "model_module_version": "1.5.0",
     "state": {
      "_dom_classes": [],
      "_model_module": "@jupyter-widgets/controls",
      "_model_module_version": "1.5.0",
      "_model_name": "HTMLModel",
      "_view_count": null,
      "_view_module": "@jupyter-widgets/controls",
      "_view_module_version": "1.5.0",
      "_view_name": "HTMLView",
      "description": "",
      "description_tooltip": null,
      "layout": "IPY_MODEL_73e59cb89aa343bc8b5fe5fd1985c5e4",
      "placeholder": "​",
      "style": "IPY_MODEL_e2b7a93c40d1442d8478cab0873f8707",
      "value": "Creating json from Arrow format: 100%"
     }
    },
    "0721b77621674798aa399726799ded6b": {
     "model_module": "@jupyter-widgets/controls",
     "model_name": "FloatProgressModel",
     "model_module_version": "1.5.0",
     "state": {
      "_dom_classes": [],
      "_model_module": "@jupyter-widgets/controls",
      "_model_module_version": "1.5.0",
      "_model_name": "FloatProgressModel",
      "_view_count": null,
      "_view_module": "@jupyter-widgets/controls",
      "_view_module_version": "1.5.0",
      "_view_name": "ProgressView",
      "bar_style": "success",
      "description": "",
      "description_tooltip": null,
      "layout": "IPY_MODEL_4bd430ca21ee4c7cb88b8b0143abd4e8",
      "max": 3,
      "min": 0,
      "orientation": "horizontal",
      "style": "IPY_MODEL_de9338a15fb048e5b0b8d37d8a92abad",
      "value": 3
     }
    },
    "04fc6a785ce54318818dbf6f894325aa": {
     "model_module": "@jupyter-widgets/controls",
     "model_name": "HTMLModel",
     "model_module_version": "1.5.0",
     "state": {
      "_dom_classes": [],
      "_model_module": "@jupyter-widgets/controls",
      "_model_module_version": "1.5.0",
      "_model_name": "HTMLModel",
      "_view_count": null,
      "_view_module": "@jupyter-widgets/controls",
      "_view_module_version": "1.5.0",
      "_view_name": "HTMLView",
      "description": "",
      "description_tooltip": null,
      "layout": "IPY_MODEL_8d91ef1317804c38a40f1cdf924de321",
      "placeholder": "​",
      "style": "IPY_MODEL_e0407b10693546a2adbb58e34744fdb9",
      "value": " 3/3 [00:00&lt;00:00,  6.18ba/s]"
     }
    },
    "0b819647d60943e98f10d93cd34630eb": {
     "model_module": "@jupyter-widgets/base",
     "model_name": "LayoutModel",
     "model_module_version": "1.2.0",
     "state": {
      "_model_module": "@jupyter-widgets/base",
      "_model_module_version": "1.2.0",
      "_model_name": "LayoutModel",
      "_view_count": null,
      "_view_module": "@jupyter-widgets/base",
      "_view_module_version": "1.2.0",
      "_view_name": "LayoutView",
      "align_content": null,
      "align_items": null,
      "align_self": null,
      "border": null,
      "bottom": null,
      "display": null,
      "flex": null,
      "flex_flow": null,
      "grid_area": null,
      "grid_auto_columns": null,
      "grid_auto_flow": null,
      "grid_auto_rows": null,
      "grid_column": null,
      "grid_gap": null,
      "grid_row": null,
      "grid_template_areas": null,
      "grid_template_columns": null,
      "grid_template_rows": null,
      "height": null,
      "justify_content": null,
      "justify_items": null,
      "left": null,
      "margin": null,
      "max_height": null,
      "max_width": null,
      "min_height": null,
      "min_width": null,
      "object_fit": null,
      "object_position": null,
      "order": null,
      "overflow": null,
      "overflow_x": null,
      "overflow_y": null,
      "padding": null,
      "right": null,
      "top": null,
      "visibility": null,
      "width": null
     }
    },
    "73e59cb89aa343bc8b5fe5fd1985c5e4": {
     "model_module": "@jupyter-widgets/base",
     "model_name": "LayoutModel",
     "model_module_version": "1.2.0",
     "state": {
      "_model_module": "@jupyter-widgets/base",
      "_model_module_version": "1.2.0",
      "_model_name": "LayoutModel",
      "_view_count": null,
      "_view_module": "@jupyter-widgets/base",
      "_view_module_version": "1.2.0",
      "_view_name": "LayoutView",
      "align_content": null,
      "align_items": null,
      "align_self": null,
      "border": null,
      "bottom": null,
      "display": null,
      "flex": null,
      "flex_flow": null,
      "grid_area": null,
      "grid_auto_columns": null,
      "grid_auto_flow": null,
      "grid_auto_rows": null,
      "grid_column": null,
      "grid_gap": null,
      "grid_row": null,
      "grid_template_areas": null,
      "grid_template_columns": null,
      "grid_template_rows": null,
      "height": null,
      "justify_content": null,
      "justify_items": null,
      "left": null,
      "margin": null,
      "max_height": null,
      "max_width": null,
      "min_height": null,
      "min_width": null,
      "object_fit": null,
      "object_position": null,
      "order": null,
      "overflow": null,
      "overflow_x": null,
      "overflow_y": null,
      "padding": null,
      "right": null,
      "top": null,
      "visibility": null,
      "width": null
     }
    },
    "e2b7a93c40d1442d8478cab0873f8707": {
     "model_module": "@jupyter-widgets/controls",
     "model_name": "DescriptionStyleModel",
     "model_module_version": "1.5.0",
     "state": {
      "_model_module": "@jupyter-widgets/controls",
      "_model_module_version": "1.5.0",
      "_model_name": "DescriptionStyleModel",
      "_view_count": null,
      "_view_module": "@jupyter-widgets/base",
      "_view_module_version": "1.2.0",
      "_view_name": "StyleView",
      "description_width": ""
     }
    },
    "4bd430ca21ee4c7cb88b8b0143abd4e8": {
     "model_module": "@jupyter-widgets/base",
     "model_name": "LayoutModel",
     "model_module_version": "1.2.0",
     "state": {
      "_model_module": "@jupyter-widgets/base",
      "_model_module_version": "1.2.0",
      "_model_name": "LayoutModel",
      "_view_count": null,
      "_view_module": "@jupyter-widgets/base",
      "_view_module_version": "1.2.0",
      "_view_name": "LayoutView",
      "align_content": null,
      "align_items": null,
      "align_self": null,
      "border": null,
      "bottom": null,
      "display": null,
      "flex": null,
      "flex_flow": null,
      "grid_area": null,
      "grid_auto_columns": null,
      "grid_auto_flow": null,
      "grid_auto_rows": null,
      "grid_column": null,
      "grid_gap": null,
      "grid_row": null,
      "grid_template_areas": null,
      "grid_template_columns": null,
      "grid_template_rows": null,
      "height": null,
      "justify_content": null,
      "justify_items": null,
      "left": null,
      "margin": null,
      "max_height": null,
      "max_width": null,
      "min_height": null,
      "min_width": null,
      "object_fit": null,
      "object_position": null,
      "order": null,
      "overflow": null,
      "overflow_x": null,
      "overflow_y": null,
      "padding": null,
      "right": null,
      "top": null,
      "visibility": null,
      "width": null
     }
    },
    "de9338a15fb048e5b0b8d37d8a92abad": {
     "model_module": "@jupyter-widgets/controls",
     "model_name": "ProgressStyleModel",
     "model_module_version": "1.5.0",
     "state": {
      "_model_module": "@jupyter-widgets/controls",
      "_model_module_version": "1.5.0",
      "_model_name": "ProgressStyleModel",
      "_view_count": null,
      "_view_module": "@jupyter-widgets/base",
      "_view_module_version": "1.2.0",
      "_view_name": "StyleView",
      "bar_color": null,
      "description_width": ""
     }
    },
    "8d91ef1317804c38a40f1cdf924de321": {
     "model_module": "@jupyter-widgets/base",
     "model_name": "LayoutModel",
     "model_module_version": "1.2.0",
     "state": {
      "_model_module": "@jupyter-widgets/base",
      "_model_module_version": "1.2.0",
      "_model_name": "LayoutModel",
      "_view_count": null,
      "_view_module": "@jupyter-widgets/base",
      "_view_module_version": "1.2.0",
      "_view_name": "LayoutView",
      "align_content": null,
      "align_items": null,
      "align_self": null,
      "border": null,
      "bottom": null,
      "display": null,
      "flex": null,
      "flex_flow": null,
      "grid_area": null,
      "grid_auto_columns": null,
      "grid_auto_flow": null,
      "grid_auto_rows": null,
      "grid_column": null,
      "grid_gap": null,
      "grid_row": null,
      "grid_template_areas": null,
      "grid_template_columns": null,
      "grid_template_rows": null,
      "height": null,
      "justify_content": null,
      "justify_items": null,
      "left": null,
      "margin": null,
      "max_height": null,
      "max_width": null,
      "min_height": null,
      "min_width": null,
      "object_fit": null,
      "object_position": null,
      "order": null,
      "overflow": null,
      "overflow_x": null,
      "overflow_y": null,
      "padding": null,
      "right": null,
      "top": null,
      "visibility": null,
      "width": null
     }
    },
    "e0407b10693546a2adbb58e34744fdb9": {
     "model_module": "@jupyter-widgets/controls",
     "model_name": "DescriptionStyleModel",
     "model_module_version": "1.5.0",
     "state": {
      "_model_module": "@jupyter-widgets/controls",
      "_model_module_version": "1.5.0",
      "_model_name": "DescriptionStyleModel",
      "_view_count": null,
      "_view_module": "@jupyter-widgets/base",
      "_view_module_version": "1.2.0",
      "_view_name": "StyleView",
      "description_width": ""
     }
    },
    "c3f8883b230142d581651c5c3adaf5e0": {
     "model_module": "@jupyter-widgets/controls",
     "model_name": "HBoxModel",
     "model_module_version": "1.5.0",
     "state": {
      "_dom_classes": [],
      "_model_module": "@jupyter-widgets/controls",
      "_model_module_version": "1.5.0",
      "_model_name": "HBoxModel",
      "_view_count": null,
      "_view_module": "@jupyter-widgets/controls",
      "_view_module_version": "1.5.0",
      "_view_name": "HBoxView",
      "box_style": "",
      "children": [
       "IPY_MODEL_57c7f8913f3b4b4b94c6b3db98d7e6c4",
       "IPY_MODEL_4bd5b87389644da0a26d741563dc6df0",
       "IPY_MODEL_47c7c52606f44034aae544a8a0e4b7c6"
      ],
      "layout": "IPY_MODEL_9ff4174386c0479da3639f5323937f5b"
     }
    },
    "57c7f8913f3b4b4b94c6b3db98d7e6c4": {
     "model_module": "@jupyter-widgets/controls",
     "model_name": "HTMLModel",
     "model_module_version": "1.5.0",
     "state": {
      "_dom_classes": [],
      "_model_module": "@jupyter-widgets/controls",
      "_model_module_version": "1.5.0",
      "_model_name": "HTMLModel",
      "_view_count": null,
      "_view_module": "@jupyter-widgets/controls",
      "_view_module_version": "1.5.0",
      "_view_name": "HTMLView",
      "description": "",
      "description_tooltip": null,
      "layout": "IPY_MODEL_08db4568dc6b49cfa3088e20dcbc60e7",
      "placeholder": "​",
      "style": "IPY_MODEL_8a547086cc884a9e8e23a3649eaf10aa",
      "value": "Creating json from Arrow format: 100%"
     }
    },
    "4bd5b87389644da0a26d741563dc6df0": {
     "model_module": "@jupyter-widgets/controls",
     "model_name": "FloatProgressModel",
     "model_module_version": "1.5.0",
     "state": {
      "_dom_classes": [],
      "_model_module": "@jupyter-widgets/controls",
      "_model_module_version": "1.5.0",
      "_model_name": "FloatProgressModel",
      "_view_count": null,
      "_view_module": "@jupyter-widgets/controls",
      "_view_module_version": "1.5.0",
      "_view_name": "ProgressView",
      "bar_style": "success",
      "description": "",
      "description_tooltip": null,
      "layout": "IPY_MODEL_261fc1ef4b2241aca17ee0213c0c719f",
      "max": 2,
      "min": 0,
      "orientation": "horizontal",
      "style": "IPY_MODEL_09bcacdd28f245e0a00f12c2be232e41",
      "value": 2
     }
    },
    "47c7c52606f44034aae544a8a0e4b7c6": {
     "model_module": "@jupyter-widgets/controls",
     "model_name": "HTMLModel",
     "model_module_version": "1.5.0",
     "state": {
      "_dom_classes": [],
      "_model_module": "@jupyter-widgets/controls",
      "_model_module_version": "1.5.0",
      "_model_name": "HTMLModel",
      "_view_count": null,
      "_view_module": "@jupyter-widgets/controls",
      "_view_module_version": "1.5.0",
      "_view_name": "HTMLView",
      "description": "",
      "description_tooltip": null,
      "layout": "IPY_MODEL_e86b0b73f2b1417586ef78dc591f45fb",
      "placeholder": "​",
      "style": "IPY_MODEL_d77fc1ea69a3489598d69dc1518975fd",
      "value": " 2/2 [00:00&lt;00:00,  5.05ba/s]"
     }
    },
    "9ff4174386c0479da3639f5323937f5b": {
     "model_module": "@jupyter-widgets/base",
     "model_name": "LayoutModel",
     "model_module_version": "1.2.0",
     "state": {
      "_model_module": "@jupyter-widgets/base",
      "_model_module_version": "1.2.0",
      "_model_name": "LayoutModel",
      "_view_count": null,
      "_view_module": "@jupyter-widgets/base",
      "_view_module_version": "1.2.0",
      "_view_name": "LayoutView",
      "align_content": null,
      "align_items": null,
      "align_self": null,
      "border": null,
      "bottom": null,
      "display": null,
      "flex": null,
      "flex_flow": null,
      "grid_area": null,
      "grid_auto_columns": null,
      "grid_auto_flow": null,
      "grid_auto_rows": null,
      "grid_column": null,
      "grid_gap": null,
      "grid_row": null,
      "grid_template_areas": null,
      "grid_template_columns": null,
      "grid_template_rows": null,
      "height": null,
      "justify_content": null,
      "justify_items": null,
      "left": null,
      "margin": null,
      "max_height": null,
      "max_width": null,
      "min_height": null,
      "min_width": null,
      "object_fit": null,
      "object_position": null,
      "order": null,
      "overflow": null,
      "overflow_x": null,
      "overflow_y": null,
      "padding": null,
      "right": null,
      "top": null,
      "visibility": null,
      "width": null
     }
    },
    "08db4568dc6b49cfa3088e20dcbc60e7": {
     "model_module": "@jupyter-widgets/base",
     "model_name": "LayoutModel",
     "model_module_version": "1.2.0",
     "state": {
      "_model_module": "@jupyter-widgets/base",
      "_model_module_version": "1.2.0",
      "_model_name": "LayoutModel",
      "_view_count": null,
      "_view_module": "@jupyter-widgets/base",
      "_view_module_version": "1.2.0",
      "_view_name": "LayoutView",
      "align_content": null,
      "align_items": null,
      "align_self": null,
      "border": null,
      "bottom": null,
      "display": null,
      "flex": null,
      "flex_flow": null,
      "grid_area": null,
      "grid_auto_columns": null,
      "grid_auto_flow": null,
      "grid_auto_rows": null,
      "grid_column": null,
      "grid_gap": null,
      "grid_row": null,
      "grid_template_areas": null,
      "grid_template_columns": null,
      "grid_template_rows": null,
      "height": null,
      "justify_content": null,
      "justify_items": null,
      "left": null,
      "margin": null,
      "max_height": null,
      "max_width": null,
      "min_height": null,
      "min_width": null,
      "object_fit": null,
      "object_position": null,
      "order": null,
      "overflow": null,
      "overflow_x": null,
      "overflow_y": null,
      "padding": null,
      "right": null,
      "top": null,
      "visibility": null,
      "width": null
     }
    },
    "8a547086cc884a9e8e23a3649eaf10aa": {
     "model_module": "@jupyter-widgets/controls",
     "model_name": "DescriptionStyleModel",
     "model_module_version": "1.5.0",
     "state": {
      "_model_module": "@jupyter-widgets/controls",
      "_model_module_version": "1.5.0",
      "_model_name": "DescriptionStyleModel",
      "_view_count": null,
      "_view_module": "@jupyter-widgets/base",
      "_view_module_version": "1.2.0",
      "_view_name": "StyleView",
      "description_width": ""
     }
    },
    "261fc1ef4b2241aca17ee0213c0c719f": {
     "model_module": "@jupyter-widgets/base",
     "model_name": "LayoutModel",
     "model_module_version": "1.2.0",
     "state": {
      "_model_module": "@jupyter-widgets/base",
      "_model_module_version": "1.2.0",
      "_model_name": "LayoutModel",
      "_view_count": null,
      "_view_module": "@jupyter-widgets/base",
      "_view_module_version": "1.2.0",
      "_view_name": "LayoutView",
      "align_content": null,
      "align_items": null,
      "align_self": null,
      "border": null,
      "bottom": null,
      "display": null,
      "flex": null,
      "flex_flow": null,
      "grid_area": null,
      "grid_auto_columns": null,
      "grid_auto_flow": null,
      "grid_auto_rows": null,
      "grid_column": null,
      "grid_gap": null,
      "grid_row": null,
      "grid_template_areas": null,
      "grid_template_columns": null,
      "grid_template_rows": null,
      "height": null,
      "justify_content": null,
      "justify_items": null,
      "left": null,
      "margin": null,
      "max_height": null,
      "max_width": null,
      "min_height": null,
      "min_width": null,
      "object_fit": null,
      "object_position": null,
      "order": null,
      "overflow": null,
      "overflow_x": null,
      "overflow_y": null,
      "padding": null,
      "right": null,
      "top": null,
      "visibility": null,
      "width": null
     }
    },
    "09bcacdd28f245e0a00f12c2be232e41": {
     "model_module": "@jupyter-widgets/controls",
     "model_name": "ProgressStyleModel",
     "model_module_version": "1.5.0",
     "state": {
      "_model_module": "@jupyter-widgets/controls",
      "_model_module_version": "1.5.0",
      "_model_name": "ProgressStyleModel",
      "_view_count": null,
      "_view_module": "@jupyter-widgets/base",
      "_view_module_version": "1.2.0",
      "_view_name": "StyleView",
      "bar_color": null,
      "description_width": ""
     }
    },
    "e86b0b73f2b1417586ef78dc591f45fb": {
     "model_module": "@jupyter-widgets/base",
     "model_name": "LayoutModel",
     "model_module_version": "1.2.0",
     "state": {
      "_model_module": "@jupyter-widgets/base",
      "_model_module_version": "1.2.0",
      "_model_name": "LayoutModel",
      "_view_count": null,
      "_view_module": "@jupyter-widgets/base",
      "_view_module_version": "1.2.0",
      "_view_name": "LayoutView",
      "align_content": null,
      "align_items": null,
      "align_self": null,
      "border": null,
      "bottom": null,
      "display": null,
      "flex": null,
      "flex_flow": null,
      "grid_area": null,
      "grid_auto_columns": null,
      "grid_auto_flow": null,
      "grid_auto_rows": null,
      "grid_column": null,
      "grid_gap": null,
      "grid_row": null,
      "grid_template_areas": null,
      "grid_template_columns": null,
      "grid_template_rows": null,
      "height": null,
      "justify_content": null,
      "justify_items": null,
      "left": null,
      "margin": null,
      "max_height": null,
      "max_width": null,
      "min_height": null,
      "min_width": null,
      "object_fit": null,
      "object_position": null,
      "order": null,
      "overflow": null,
      "overflow_x": null,
      "overflow_y": null,
      "padding": null,
      "right": null,
      "top": null,
      "visibility": null,
      "width": null
     }
    },
    "d77fc1ea69a3489598d69dc1518975fd": {
     "model_module": "@jupyter-widgets/controls",
     "model_name": "DescriptionStyleModel",
     "model_module_version": "1.5.0",
     "state": {
      "_model_module": "@jupyter-widgets/controls",
      "_model_module_version": "1.5.0",
      "_model_name": "DescriptionStyleModel",
      "_view_count": null,
      "_view_module": "@jupyter-widgets/base",
      "_view_module_version": "1.2.0",
      "_view_name": "StyleView",
      "description_width": ""
     }
    },
    "4e5d7c63365d4b65ba39877cbe3d2665": {
     "model_module": "@jupyter-widgets/controls",
     "model_name": "HBoxModel",
     "model_module_version": "1.5.0",
     "state": {
      "_dom_classes": [],
      "_model_module": "@jupyter-widgets/controls",
      "_model_module_version": "1.5.0",
      "_model_name": "HBoxModel",
      "_view_count": null,
      "_view_module": "@jupyter-widgets/controls",
      "_view_module_version": "1.5.0",
      "_view_name": "HBoxView",
      "box_style": "",
      "children": [
       "IPY_MODEL_a48e8eba7411438492111e9434ccb214",
       "IPY_MODEL_19b4cb7931844cb29a1f56c611abf06c",
       "IPY_MODEL_e13aeada581e4b68affe68f3084a912d"
      ],
      "layout": "IPY_MODEL_de4ef7e46d0c4fc889c17c787eee4fb4"
     }
    },
    "a48e8eba7411438492111e9434ccb214": {
     "model_module": "@jupyter-widgets/controls",
     "model_name": "HTMLModel",
     "model_module_version": "1.5.0",
     "state": {
      "_dom_classes": [],
      "_model_module": "@jupyter-widgets/controls",
      "_model_module_version": "1.5.0",
      "_model_name": "HTMLModel",
      "_view_count": null,
      "_view_module": "@jupyter-widgets/controls",
      "_view_module_version": "1.5.0",
      "_view_name": "HTMLView",
      "description": "",
      "description_tooltip": null,
      "layout": "IPY_MODEL_3659c40d934b4218ba854c19ad4689e1",
      "placeholder": "​",
      "style": "IPY_MODEL_fb6ce04a7c1f41508210cf3b6c22d596",
      "value": "Generating train split: "
     }
    },
    "19b4cb7931844cb29a1f56c611abf06c": {
     "model_module": "@jupyter-widgets/controls",
     "model_name": "FloatProgressModel",
     "model_module_version": "1.5.0",
     "state": {
      "_dom_classes": [],
      "_model_module": "@jupyter-widgets/controls",
      "_model_module_version": "1.5.0",
      "_model_name": "FloatProgressModel",
      "_view_count": null,
      "_view_module": "@jupyter-widgets/controls",
      "_view_module_version": "1.5.0",
      "_view_name": "ProgressView",
      "bar_style": "success",
      "description": "",
      "description_tooltip": null,
      "layout": "IPY_MODEL_a25f0812c67842138a9a71e83c1785d6",
      "max": 1,
      "min": 0,
      "orientation": "horizontal",
      "style": "IPY_MODEL_bf193f58c1c44163a2039c29069b6ee9",
      "value": 1
     }
    },
    "e13aeada581e4b68affe68f3084a912d": {
     "model_module": "@jupyter-widgets/controls",
     "model_name": "HTMLModel",
     "model_module_version": "1.5.0",
     "state": {
      "_dom_classes": [],
      "_model_module": "@jupyter-widgets/controls",
      "_model_module_version": "1.5.0",
      "_model_name": "HTMLModel",
      "_view_count": null,
      "_view_module": "@jupyter-widgets/controls",
      "_view_module_version": "1.5.0",
      "_view_name": "HTMLView",
      "description": "",
      "description_tooltip": null,
      "layout": "IPY_MODEL_35c2e58b3e8a417c8d183ec725216549",
      "placeholder": "​",
      "style": "IPY_MODEL_7570f984e41c40cda9ff6b192349eb43",
      "value": " 2791/0 [00:00&lt;00:00, 6581.23 examples/s]"
     }
    },
    "de4ef7e46d0c4fc889c17c787eee4fb4": {
     "model_module": "@jupyter-widgets/base",
     "model_name": "LayoutModel",
     "model_module_version": "1.2.0",
     "state": {
      "_model_module": "@jupyter-widgets/base",
      "_model_module_version": "1.2.0",
      "_model_name": "LayoutModel",
      "_view_count": null,
      "_view_module": "@jupyter-widgets/base",
      "_view_module_version": "1.2.0",
      "_view_name": "LayoutView",
      "align_content": null,
      "align_items": null,
      "align_self": null,
      "border": null,
      "bottom": null,
      "display": null,
      "flex": null,
      "flex_flow": null,
      "grid_area": null,
      "grid_auto_columns": null,
      "grid_auto_flow": null,
      "grid_auto_rows": null,
      "grid_column": null,
      "grid_gap": null,
      "grid_row": null,
      "grid_template_areas": null,
      "grid_template_columns": null,
      "grid_template_rows": null,
      "height": null,
      "justify_content": null,
      "justify_items": null,
      "left": null,
      "margin": null,
      "max_height": null,
      "max_width": null,
      "min_height": null,
      "min_width": null,
      "object_fit": null,
      "object_position": null,
      "order": null,
      "overflow": null,
      "overflow_x": null,
      "overflow_y": null,
      "padding": null,
      "right": null,
      "top": null,
      "visibility": null,
      "width": null
     }
    },
    "3659c40d934b4218ba854c19ad4689e1": {
     "model_module": "@jupyter-widgets/base",
     "model_name": "LayoutModel",
     "model_module_version": "1.2.0",
     "state": {
      "_model_module": "@jupyter-widgets/base",
      "_model_module_version": "1.2.0",
      "_model_name": "LayoutModel",
      "_view_count": null,
      "_view_module": "@jupyter-widgets/base",
      "_view_module_version": "1.2.0",
      "_view_name": "LayoutView",
      "align_content": null,
      "align_items": null,
      "align_self": null,
      "border": null,
      "bottom": null,
      "display": null,
      "flex": null,
      "flex_flow": null,
      "grid_area": null,
      "grid_auto_columns": null,
      "grid_auto_flow": null,
      "grid_auto_rows": null,
      "grid_column": null,
      "grid_gap": null,
      "grid_row": null,
      "grid_template_areas": null,
      "grid_template_columns": null,
      "grid_template_rows": null,
      "height": null,
      "justify_content": null,
      "justify_items": null,
      "left": null,
      "margin": null,
      "max_height": null,
      "max_width": null,
      "min_height": null,
      "min_width": null,
      "object_fit": null,
      "object_position": null,
      "order": null,
      "overflow": null,
      "overflow_x": null,
      "overflow_y": null,
      "padding": null,
      "right": null,
      "top": null,
      "visibility": null,
      "width": null
     }
    },
    "fb6ce04a7c1f41508210cf3b6c22d596": {
     "model_module": "@jupyter-widgets/controls",
     "model_name": "DescriptionStyleModel",
     "model_module_version": "1.5.0",
     "state": {
      "_model_module": "@jupyter-widgets/controls",
      "_model_module_version": "1.5.0",
      "_model_name": "DescriptionStyleModel",
      "_view_count": null,
      "_view_module": "@jupyter-widgets/base",
      "_view_module_version": "1.2.0",
      "_view_name": "StyleView",
      "description_width": ""
     }
    },
    "a25f0812c67842138a9a71e83c1785d6": {
     "model_module": "@jupyter-widgets/base",
     "model_name": "LayoutModel",
     "model_module_version": "1.2.0",
     "state": {
      "_model_module": "@jupyter-widgets/base",
      "_model_module_version": "1.2.0",
      "_model_name": "LayoutModel",
      "_view_count": null,
      "_view_module": "@jupyter-widgets/base",
      "_view_module_version": "1.2.0",
      "_view_name": "LayoutView",
      "align_content": null,
      "align_items": null,
      "align_self": null,
      "border": null,
      "bottom": null,
      "display": null,
      "flex": null,
      "flex_flow": null,
      "grid_area": null,
      "grid_auto_columns": null,
      "grid_auto_flow": null,
      "grid_auto_rows": null,
      "grid_column": null,
      "grid_gap": null,
      "grid_row": null,
      "grid_template_areas": null,
      "grid_template_columns": null,
      "grid_template_rows": null,
      "height": null,
      "justify_content": null,
      "justify_items": null,
      "left": null,
      "margin": null,
      "max_height": null,
      "max_width": null,
      "min_height": null,
      "min_width": null,
      "object_fit": null,
      "object_position": null,
      "order": null,
      "overflow": null,
      "overflow_x": null,
      "overflow_y": null,
      "padding": null,
      "right": null,
      "top": null,
      "visibility": null,
      "width": "20px"
     }
    },
    "bf193f58c1c44163a2039c29069b6ee9": {
     "model_module": "@jupyter-widgets/controls",
     "model_name": "ProgressStyleModel",
     "model_module_version": "1.5.0",
     "state": {
      "_model_module": "@jupyter-widgets/controls",
      "_model_module_version": "1.5.0",
      "_model_name": "ProgressStyleModel",
      "_view_count": null,
      "_view_module": "@jupyter-widgets/base",
      "_view_module_version": "1.2.0",
      "_view_name": "StyleView",
      "bar_color": null,
      "description_width": ""
     }
    },
    "35c2e58b3e8a417c8d183ec725216549": {
     "model_module": "@jupyter-widgets/base",
     "model_name": "LayoutModel",
     "model_module_version": "1.2.0",
     "state": {
      "_model_module": "@jupyter-widgets/base",
      "_model_module_version": "1.2.0",
      "_model_name": "LayoutModel",
      "_view_count": null,
      "_view_module": "@jupyter-widgets/base",
      "_view_module_version": "1.2.0",
      "_view_name": "LayoutView",
      "align_content": null,
      "align_items": null,
      "align_self": null,
      "border": null,
      "bottom": null,
      "display": null,
      "flex": null,
      "flex_flow": null,
      "grid_area": null,
      "grid_auto_columns": null,
      "grid_auto_flow": null,
      "grid_auto_rows": null,
      "grid_column": null,
      "grid_gap": null,
      "grid_row": null,
      "grid_template_areas": null,
      "grid_template_columns": null,
      "grid_template_rows": null,
      "height": null,
      "justify_content": null,
      "justify_items": null,
      "left": null,
      "margin": null,
      "max_height": null,
      "max_width": null,
      "min_height": null,
      "min_width": null,
      "object_fit": null,
      "object_position": null,
      "order": null,
      "overflow": null,
      "overflow_x": null,
      "overflow_y": null,
      "padding": null,
      "right": null,
      "top": null,
      "visibility": null,
      "width": null
     }
    },
    "7570f984e41c40cda9ff6b192349eb43": {
     "model_module": "@jupyter-widgets/controls",
     "model_name": "DescriptionStyleModel",
     "model_module_version": "1.5.0",
     "state": {
      "_model_module": "@jupyter-widgets/controls",
      "_model_module_version": "1.5.0",
      "_model_name": "DescriptionStyleModel",
      "_view_count": null,
      "_view_module": "@jupyter-widgets/base",
      "_view_module_version": "1.2.0",
      "_view_name": "StyleView",
      "description_width": ""
     }
    },
    "37e5b77da20748caa8ca08fe0c62bc83": {
     "model_module": "@jupyter-widgets/controls",
     "model_name": "HBoxModel",
     "model_module_version": "1.5.0",
     "state": {
      "_dom_classes": [],
      "_model_module": "@jupyter-widgets/controls",
      "_model_module_version": "1.5.0",
      "_model_name": "HBoxModel",
      "_view_count": null,
      "_view_module": "@jupyter-widgets/controls",
      "_view_module_version": "1.5.0",
      "_view_name": "HBoxView",
      "box_style": "",
      "children": [
       "IPY_MODEL_07ed795d15a04888a663499e12a730da",
       "IPY_MODEL_4ca2b52eecd24ceea1e6a07eed744115",
       "IPY_MODEL_76e1e19ff25642c3b6ee96f5f7b89d1a"
      ],
      "layout": "IPY_MODEL_dd4c49d7cf0b46ae91f87444592fbde3"
     }
    },
    "07ed795d15a04888a663499e12a730da": {
     "model_module": "@jupyter-widgets/controls",
     "model_name": "HTMLModel",
     "model_module_version": "1.5.0",
     "state": {
      "_dom_classes": [],
      "_model_module": "@jupyter-widgets/controls",
      "_model_module_version": "1.5.0",
      "_model_name": "HTMLModel",
      "_view_count": null,
      "_view_module": "@jupyter-widgets/controls",
      "_view_module_version": "1.5.0",
      "_view_name": "HTMLView",
      "description": "",
      "description_tooltip": null,
      "layout": "IPY_MODEL_df17a68346584ef2a0b03be23ebe8dcf",
      "placeholder": "​",
      "style": "IPY_MODEL_f45a0de007ba4a47974f275164d1e4ba",
      "value": "Generating test split: "
     }
    },
    "4ca2b52eecd24ceea1e6a07eed744115": {
     "model_module": "@jupyter-widgets/controls",
     "model_name": "FloatProgressModel",
     "model_module_version": "1.5.0",
     "state": {
      "_dom_classes": [],
      "_model_module": "@jupyter-widgets/controls",
      "_model_module_version": "1.5.0",
      "_model_name": "FloatProgressModel",
      "_view_count": null,
      "_view_module": "@jupyter-widgets/controls",
      "_view_module_version": "1.5.0",
      "_view_name": "ProgressView",
      "bar_style": "success",
      "description": "",
      "description_tooltip": null,
      "layout": "IPY_MODEL_fc25603c2d8d4de98fbdfe3454f5aa58",
      "max": 1,
      "min": 0,
      "orientation": "horizontal",
      "style": "IPY_MODEL_3832f8a457b64dd08609e9057c05e005",
      "value": 1
     }
    },
    "76e1e19ff25642c3b6ee96f5f7b89d1a": {
     "model_module": "@jupyter-widgets/controls",
     "model_name": "HTMLModel",
     "model_module_version": "1.5.0",
     "state": {
      "_dom_classes": [],
      "_model_module": "@jupyter-widgets/controls",
      "_model_module_version": "1.5.0",
      "_model_name": "HTMLModel",
      "_view_count": null,
      "_view_module": "@jupyter-widgets/controls",
      "_view_module_version": "1.5.0",
      "_view_name": "HTMLView",
      "description": "",
      "description_tooltip": null,
      "layout": "IPY_MODEL_003d309da6674c89bfb64242496af0d3",
      "placeholder": "​",
      "style": "IPY_MODEL_8544d62037a8408a8ef911347b10eec7",
      "value": " 1197/0 [00:00&lt;00:00, 5309.34 examples/s]"
     }
    },
    "dd4c49d7cf0b46ae91f87444592fbde3": {
     "model_module": "@jupyter-widgets/base",
     "model_name": "LayoutModel",
     "model_module_version": "1.2.0",
     "state": {
      "_model_module": "@jupyter-widgets/base",
      "_model_module_version": "1.2.0",
      "_model_name": "LayoutModel",
      "_view_count": null,
      "_view_module": "@jupyter-widgets/base",
      "_view_module_version": "1.2.0",
      "_view_name": "LayoutView",
      "align_content": null,
      "align_items": null,
      "align_self": null,
      "border": null,
      "bottom": null,
      "display": null,
      "flex": null,
      "flex_flow": null,
      "grid_area": null,
      "grid_auto_columns": null,
      "grid_auto_flow": null,
      "grid_auto_rows": null,
      "grid_column": null,
      "grid_gap": null,
      "grid_row": null,
      "grid_template_areas": null,
      "grid_template_columns": null,
      "grid_template_rows": null,
      "height": null,
      "justify_content": null,
      "justify_items": null,
      "left": null,
      "margin": null,
      "max_height": null,
      "max_width": null,
      "min_height": null,
      "min_width": null,
      "object_fit": null,
      "object_position": null,
      "order": null,
      "overflow": null,
      "overflow_x": null,
      "overflow_y": null,
      "padding": null,
      "right": null,
      "top": null,
      "visibility": null,
      "width": null
     }
    },
    "df17a68346584ef2a0b03be23ebe8dcf": {
     "model_module": "@jupyter-widgets/base",
     "model_name": "LayoutModel",
     "model_module_version": "1.2.0",
     "state": {
      "_model_module": "@jupyter-widgets/base",
      "_model_module_version": "1.2.0",
      "_model_name": "LayoutModel",
      "_view_count": null,
      "_view_module": "@jupyter-widgets/base",
      "_view_module_version": "1.2.0",
      "_view_name": "LayoutView",
      "align_content": null,
      "align_items": null,
      "align_self": null,
      "border": null,
      "bottom": null,
      "display": null,
      "flex": null,
      "flex_flow": null,
      "grid_area": null,
      "grid_auto_columns": null,
      "grid_auto_flow": null,
      "grid_auto_rows": null,
      "grid_column": null,
      "grid_gap": null,
      "grid_row": null,
      "grid_template_areas": null,
      "grid_template_columns": null,
      "grid_template_rows": null,
      "height": null,
      "justify_content": null,
      "justify_items": null,
      "left": null,
      "margin": null,
      "max_height": null,
      "max_width": null,
      "min_height": null,
      "min_width": null,
      "object_fit": null,
      "object_position": null,
      "order": null,
      "overflow": null,
      "overflow_x": null,
      "overflow_y": null,
      "padding": null,
      "right": null,
      "top": null,
      "visibility": null,
      "width": null
     }
    },
    "f45a0de007ba4a47974f275164d1e4ba": {
     "model_module": "@jupyter-widgets/controls",
     "model_name": "DescriptionStyleModel",
     "model_module_version": "1.5.0",
     "state": {
      "_model_module": "@jupyter-widgets/controls",
      "_model_module_version": "1.5.0",
      "_model_name": "DescriptionStyleModel",
      "_view_count": null,
      "_view_module": "@jupyter-widgets/base",
      "_view_module_version": "1.2.0",
      "_view_name": "StyleView",
      "description_width": ""
     }
    },
    "fc25603c2d8d4de98fbdfe3454f5aa58": {
     "model_module": "@jupyter-widgets/base",
     "model_name": "LayoutModel",
     "model_module_version": "1.2.0",
     "state": {
      "_model_module": "@jupyter-widgets/base",
      "_model_module_version": "1.2.0",
      "_model_name": "LayoutModel",
      "_view_count": null,
      "_view_module": "@jupyter-widgets/base",
      "_view_module_version": "1.2.0",
      "_view_name": "LayoutView",
      "align_content": null,
      "align_items": null,
      "align_self": null,
      "border": null,
      "bottom": null,
      "display": null,
      "flex": null,
      "flex_flow": null,
      "grid_area": null,
      "grid_auto_columns": null,
      "grid_auto_flow": null,
      "grid_auto_rows": null,
      "grid_column": null,
      "grid_gap": null,
      "grid_row": null,
      "grid_template_areas": null,
      "grid_template_columns": null,
      "grid_template_rows": null,
      "height": null,
      "justify_content": null,
      "justify_items": null,
      "left": null,
      "margin": null,
      "max_height": null,
      "max_width": null,
      "min_height": null,
      "min_width": null,
      "object_fit": null,
      "object_position": null,
      "order": null,
      "overflow": null,
      "overflow_x": null,
      "overflow_y": null,
      "padding": null,
      "right": null,
      "top": null,
      "visibility": null,
      "width": "20px"
     }
    },
    "3832f8a457b64dd08609e9057c05e005": {
     "model_module": "@jupyter-widgets/controls",
     "model_name": "ProgressStyleModel",
     "model_module_version": "1.5.0",
     "state": {
      "_model_module": "@jupyter-widgets/controls",
      "_model_module_version": "1.5.0",
      "_model_name": "ProgressStyleModel",
      "_view_count": null,
      "_view_module": "@jupyter-widgets/base",
      "_view_module_version": "1.2.0",
      "_view_name": "StyleView",
      "bar_color": null,
      "description_width": ""
     }
    },
    "003d309da6674c89bfb64242496af0d3": {
     "model_module": "@jupyter-widgets/base",
     "model_name": "LayoutModel",
     "model_module_version": "1.2.0",
     "state": {
      "_model_module": "@jupyter-widgets/base",
      "_model_module_version": "1.2.0",
      "_model_name": "LayoutModel",
      "_view_count": null,
      "_view_module": "@jupyter-widgets/base",
      "_view_module_version": "1.2.0",
      "_view_name": "LayoutView",
      "align_content": null,
      "align_items": null,
      "align_self": null,
      "border": null,
      "bottom": null,
      "display": null,
      "flex": null,
      "flex_flow": null,
      "grid_area": null,
      "grid_auto_columns": null,
      "grid_auto_flow": null,
      "grid_auto_rows": null,
      "grid_column": null,
      "grid_gap": null,
      "grid_row": null,
      "grid_template_areas": null,
      "grid_template_columns": null,
      "grid_template_rows": null,
      "height": null,
      "justify_content": null,
      "justify_items": null,
      "left": null,
      "margin": null,
      "max_height": null,
      "max_width": null,
      "min_height": null,
      "min_width": null,
      "object_fit": null,
      "object_position": null,
      "order": null,
      "overflow": null,
      "overflow_x": null,
      "overflow_y": null,
      "padding": null,
      "right": null,
      "top": null,
      "visibility": null,
      "width": null
     }
    },
    "8544d62037a8408a8ef911347b10eec7": {
     "model_module": "@jupyter-widgets/controls",
     "model_name": "DescriptionStyleModel",
     "model_module_version": "1.5.0",
     "state": {
      "_model_module": "@jupyter-widgets/controls",
      "_model_module_version": "1.5.0",
      "_model_name": "DescriptionStyleModel",
      "_view_count": null,
      "_view_module": "@jupyter-widgets/base",
      "_view_module_version": "1.2.0",
      "_view_name": "StyleView",
      "description_width": ""
     }
    }
   }
  }
 },
 "cells": [
  {
   "cell_type": "code",
   "source": [
    "!unzip raw_data/wiki.zip -d raw_data"
   ],
   "metadata": {
    "colab": {
     "base_uri": "https://localhost:8080/"
    },
    "id": "2YpLBLB0fORj",
    "outputId": "6cb71c8b-dd7d-45a3-97fe-24e6ab460e92",
    "ExecuteTime": {
     "end_time": "2024-07-08T19:38:35.699177775Z",
     "start_time": "2024-07-08T19:38:35.010665948Z"
    }
   },
   "execution_count": 20,
   "outputs": [
    {
     "name": "stdout",
     "output_type": "stream",
     "text": [
      "Archive:  raw_data/wiki.zip\r\n",
      "  inflating: raw_data/articles.json  \r\n",
      "  inflating: raw_data/articles.parquet  \r\n",
      "  inflating: raw_data/articles.xlsx  \r\n"
     ]
    }
   ]
  },
  {
   "cell_type": "markdown",
   "source": [
    "## Load the dataset from the local machine"
   ],
   "metadata": {
    "id": "_fI7uyxAkAkp"
   }
  },
  {
   "cell_type": "code",
   "execution_count": 2,
   "metadata": {
    "colab": {
     "base_uri": "https://localhost:8080/"
    },
    "id": "_yHDEyrJbpuZ",
    "outputId": "10aa7b08-d140-492c-d667-55f70da6da18",
    "ExecuteTime": {
     "end_time": "2024-07-08T19:29:21.887666542Z",
     "start_time": "2024-07-08T19:29:20.268692270Z"
    }
   },
   "outputs": [
    {
     "data": {
      "text/plain": "{'train': ['ID',\n  'Title',\n  'URL',\n  'Introduction/Summary',\n  'Body',\n  'Sections/Headings',\n  'References',\n  'Categories',\n  'Infobox']}"
     },
     "execution_count": 2,
     "metadata": {},
     "output_type": "execute_result"
    }
   ],
   "source": [
    "from datasets import load_dataset\n",
    "\n",
    "data_files = \"raw_data/articles.parquet\"\n",
    "\n",
    "wiki_raw_dataset = load_dataset(\"parquet\", data_files=data_files)\n",
    "\n",
    "wiki_raw_dataset.column_names"
   ]
  },
  {
   "cell_type": "markdown",
   "source": [
    "## Reomve the unnecessary columns"
   ],
   "metadata": {
    "id": "BTomV3vSkMFv"
   }
  },
  {
   "cell_type": "code",
   "source": [
    "wiki_raw_dataset_after_removing = wiki_raw_dataset.remove_columns([\"URL\",\n",
    "                                                                   \"Introduction/Summary\",\n",
    "                                                                   \"Sections/Headings\",\n",
    "                                                                   \"References\",\n",
    "                                                                   \"Categories\",\n",
    "                                                                   \"Infobox\"])"
   ],
   "metadata": {
    "id": "12tszwqqhl_r",
    "ExecuteTime": {
     "end_time": "2024-07-08T19:29:21.950091380Z",
     "start_time": "2024-07-08T19:29:21.889326758Z"
    }
   },
   "execution_count": 3,
   "outputs": []
  },
  {
   "cell_type": "code",
   "source": [
    "wiki_raw_dataset_after_removing[\"train\"][:3]"
   ],
   "metadata": {
    "colab": {
     "base_uri": "https://localhost:8080/"
    },
    "id": "2A_kqFYyklhM",
    "outputId": "f8ab8cb9-c932-40bc-acdd-ea148e6e0edb",
    "ExecuteTime": {
     "end_time": "2024-07-08T19:29:21.959932066Z",
     "start_time": "2024-07-08T19:29:21.953957307Z"
    }
   },
   "execution_count": 4,
   "outputs": [
    {
     "data": {
      "text/plain": "{'ID': [10, 1, 6],\n 'Title': ['Canadian Society of Soil Science',\n  \"King Arthur's family\",\n  'Ralitsa Vassileva'],\n 'Body': ['Canadian non-profit organization\\nCanadian Society of Soil ScienceSociété Canadienne de science du solAbbreviationCSSSFormation1954[1]TypeNon-governmental organizationWebsitecsss.ca\\nThe Canadian Society of Soil Science (CSSS) is a non-governmental, non-profit organization for scientists, engineers, technologists, administrators and students involved in professional soil science.[2][3] Its goal is to nurture the discipline of soil science in Canada.\\n\\n\\nAdministration[edit]\\nThe Society is administered by a 9-member Council consisting of a President, President-Elect, Past-President, Secretary, Treasurer, two Councillors (Western and Eastern Councillor), Graduate Student Representative, and the Editor of the Canadian Journal of Soil Science. Council meets once annually, at the Annual Meeting, and conducts ongoing e-mail correspondence and business motions throughout the year. The Annual Meeting consists of both Scientific and Business Meetings, and concludes with an Awards Banquet.\\n\\n2023 Council[edit]\\nAmanda Diochon (President)\\nAsim Biswas (Past President)\\nRichard Farrell (President Elect)\\nLee-Ann Wilson (Secretary)\\nDiane Knight (Treasurer)\\nHenry Chau (Western Councillor)\\nAdrian Unc (Eastern Councillor)\\nBlake Weiseth (Student Representative)\\nAnne Naeth (CJSS Editor)\\n2022 Council[edit]\\nAsim Biswas (President)\\nAngela Bedard-Haughn (Past President)\\nAmanda Diochon (President Elect)\\nLee-Ann Wilson (Secretary)\\nDiane Knight (Treasurer)\\nHenry Chau (Western Councillor)\\nLouis-Pierre Comeau (Eastern Councillor)\\nErika Young (Student Representative)\\nAnne Naeth (CJSS Editor)\\n2021 Council[edit]\\nAngela Bedard-Haughn (President)\\nNathan Basiliko (Past President)\\nAsim Biswis (President Elect)\\nLee-Ann Wilson (Secretary)\\nDiane Knight (Treasurer)\\nRich Farrell (Western Councillor)\\nLouis-Pierre Comeau (Eastern Councillor)\\nErika Young (Student Representative)\\nAnne Naeth (CJSS Editor)\\nPublications[edit]\\nThe Canadian Journal of Soil Science[edit]\\nThe Canadian Journal of Soil Science (CJSS), established in 1921, is a quarterly journal that is international in scope and publishes fundamental and applied research from all areas of soil science around the world. These areas include traditional soil biology, physics, and chemistry; pedology; use, management, and development; soil and environment interactions; land reclamation and contaminant remediation. It draws from and interfaces with numerous fields such as agriculture, agrometeorology, ecology, engineering, environmental science, environmental stewardship, forestry, geography, geology, hydrology, land rehabilitation, landscape processes, mapping and evaluation, microbiology, soil-plant interactions, and urban uses.\\nThe journal welcomes interdisciplinary works, particularly those linking soil with climate change, food security, and sustainable development goals. The journal publishes regular research articles, reviews (and mini-reviews), letters to the editor, discussions (comments and replies), short communications, special issues on important topics in the field of soil science, and occasionally conference proceedings and book reviews. The journal also publishes reviews, letters to the editor, and occasionally conference proceedings. Special issues, or special sections within regular issues dealing with specific topics, are also considered.\\nThe journal is published by Canadian Science Publishing (CSP), Canada\\'s independent, not-for-profit leader in mobilizing science-based knowledge, making it easy to discover, use, and share. As Canada\\'s largest publisher of international scientific journals, CSP is committed to strengthening the integrity, relevance, reach, and impact of vital knowledge and research, across Canada and around the globe.\\n\\nCSSS Newsletter[edit]\\nThe CSSS Newsletter, published three to four times a year, is an information bulletin containing Society and member news. It is an informal forum through which CSSS members can share ideas and information and keep in touch with one another.\\n\\nBooks[edit]\\nThe Canadian Society of Soil Science has sponsored several books such as:\\n\\nDigging Into Canadian Soils: An Introduction to Soil Science, an open access textbook edited by Maja Krzic, Frances L. Walley, Amanda Diochon, Maxime C. Paré, and Richard E. Farrell (2021) and published by the Canadian Society of Soil Science.\\nSoil Sampling and Methods of Analysis, 2nd Edition edited by M.R. Carter and E.G. Gregorich (2008) and published by CRC Press and Taylor & Francis Group.[4]\\nSoil and Environmental Science Dictionary edited by E.G. Gregorich, L.W. Turchenek, M.R. Carter, and D.A. Angers (2001) CRC Press.[5] Review of this book can be found at [1]\\nSoil Sampling and Methods of Analysis, 1st Edition edited by M.R. Carter (1993) and published by Lewis Publishers and CRC Press.[6]\\nMajor Initiatives[edit]\\nAnnual conferences\\nVancouver, British Columbia - 2024\\nTruro, Nova Scotia - 2023\\nEdmonton, Alberta - 2022\\nCharlottetown, Prince Edward Island - 2021 - virtual conference\\nCharlottetown, Prince Edward Island - 2020 - cancelled due to COVID-19 pandemic\\nSaskatoon, Saskatchewan - 2019\\nNiagara Falls, Ontario - 2018\\nPeterborough, Ontario - 2017\\nKamloops, British Columbia - 2016\\nMontreal, Quebec - 2015\\nBanff, Alberta - 2014\\nWinnipeg, Manitoba - 2013\\nVirtual Soil Science Learning Resources[7]\\nSummer Pedology School\\nCommittees[edit]\\nCSSS Education Committee\\nThe committee, established in 2014,has the goal to enhance soil science education in Canada at both the post-secondary and K-12 level.[8] The committee has following objectives: (1) compile and disseminate information about the soil science courses and programs at Canadian postsecondary institutions,[9]  (2) enhance soil science education at the K-12 levels, (3)  establish and maintain contacts with the international soil science community regarding new developments in soil science education, and (4) support informal education through communications and outreach with both specialists and the general public (including via social media).\\nThe need for a Canadian soil science textbook had long been discussed by members of the Soil Education Committee of the Canadian Society of Soil Science, and in 2018, a proposal to forge ahead with the development of an introductory soil science textbook was enthusiastically supported by the membership of the CSSS at its annual general meeting. The textbook Digging Into Canadian Soils: An Introduction to Soil Science, available in both English and French, is the result of this community-wide endeavour. This open access textbook provides an introduction to the core sub-disciplines of soil science, and introduces the concepts and vocabulary needed by students just beginning their soil science journey. Additionally, the textbook provides supplementary materials that are regionally specific, or may be of specific interest beyond what might be considered core soil science disciplinary material. Importantly, the textbook also is intended to introduce students to the Canadian System of Soil Classification using examples from across Canada, the world\\'s second largest country by area, and to the Canadian Society of Soil Science, whose members share a common passion for soil science and are keen to share and instill this passion with students across the country and beyond.\\n\\nCSSS Pedology Committee\\nThe Pedology Committee of the Canadian Society of Soil Science (CSSS) was established in 2005. The committee has three mandates: (1) Improvement of the taxonomic classification system for Canadian soils through revision of the system because of new information, (2) Maintenance of contact with the international pedological community on new developments in soil genesis and classification, and (3) Compilation and dissemination of information about the genesis, distribution, classification and wise use of Canadian soils.\\nThe Canadian Digital Soil Mapping Working Group (CDSMWG) was established in 2016 after an inaugural meeting at the CSSS Annual Meeting in Quebec City. In response to a call from the UN-Food and Agriculture Program for countries to contribute to a new global soil organic carbon map, the CDSMWG agreed to take the lead in the preparation and delivery of the Canadian contribution to this global initiative. The Soil Organic Carbon (SOC) Map of Canada was completed and submitted in 2017 for the 0–30\\xa0cm depth interval with contributions from researchers and organisations from across the country. The CDSMWG endeavors to continue improvements to the SOC map of Canada and expand the mapping to include other critical soil parameters.\\nThe Pedology Committee is currently spearheading a revision of elements of the Canadian System of Soil Classification (CSSC) with a goal of producing a 4th edition. To date, the specific areas under consideration for revision include the inclusion of an order for human-disturbed soils, improved descriptions of A horizons and LFH horizons, and revisions to horizon nomenclature – especially around soils with deposition of secondary salts. Under the direction of the Classification Working Group, a new process for review and revision will be established. Venues for review will include discussion (at workshops and via online forums) and the sharing and vetting of proposed changes through peer-reviewed publication in the Canadian Journal of Soil Science.\\n\\nReferences[edit]\\n\\n^ The Literature of soil science. McDonald, Peter, 1952-. Ithaca: Cornell University Press. 1994. pp.\\xa0127. ISBN\\xa00801429218. OCLC\\xa028708357.{{cite book}}:  CS1 maint: others (link)\\n\\n^ Bulletin of the International Society of Soil Science: Bulletin de L\\'Association Internationale de la Science Du Sol. Mitteilungen Der Internationalen Bodenkundlichen Gesellschaft, Issues 87-91\\n\\n^ Council., Canadian Geoscience (1978). The geosciences in Canada, 1977\\xa0: annual report and review of soil science. Rutherford, G. K., Savage, P. J., Warkentin, Benno P. Ottawa: Geological Survey of Canada. ISBN\\xa00660015382. OCLC\\xa011050699.\\n\\n^ Carter, Martin; Gregorich, Edward (2008). Soil Sampling and Methods of Analysis. CRC Press and Taylor & Francis Group.\\n\\n^ Gregorich, Edward; Carter, Martin; Angers, Denis (2001). Soil and Environmental Science Dictionary. CRC Press.\\n\\n^ Carter, Martin (1993). Soil Sampling and Methods of Analysis. Lewis Publishers and CRC Press.\\n\\n^ \"Virtual Soil Science Learning Resources\". www.soilweb.ca. Archived from the original on 2014-12-18. Retrieved 2021-01-05.\\n\\n^ Krzic, Maja; Wilson, Julie; Basiliko, Nathan; Bedard-Haugh, Angela; Hymphreys, Elyn; Dyanatkar, Saeed; Hazlett, Paul; Strivelii, Rachel; Crowley, Chris (2014). \"Soil 4 Youth: Charting New Territory in Canadian High School Soil Science Education\". Natural Sciences Education. 43: 73–80. doi:10.4195/nse2013.11.0034.\\n\\n^ Diochon, Amanda; Basiliko, Nathan; Krzic, Maja; Yates, Thomas T.; Olson, Edith; Masse, Jacynthe; Amiro, Brian; Kumaragamage, Darshani (2016-10-12). \"Profiling undergraduate soil science education in Canada: Status and projected trends\". Canadian Journal of Soil Science. 97 (2): 122–132. doi:10.1139/cjss-2016-0058. hdl:1807/75439. ISSN\\xa00008-4271.\\n\\n\\nExternal links[edit]\\nCanadian Society of Soil Science website\\nThe Canadian Journal of Soil Science\\nvteSoil science\\nHistory\\nIndex\\nMain fields\\nPedology\\nEdaphology\\nSoil biology\\nSoil microbiology\\nSoil zoology\\nSoil ecology\\nSoil physics\\nSoil mechanics\\nSoil chemistry\\nEnvironmental soil science\\nAgricultural soil science\\nSoil topics\\nSoil\\nPedosphere\\nSoil morphology\\nPedodiversity\\nSoil formation\\nSoil erosion\\nSoil contamination\\nSoil retrogression and degradation\\nSoil compaction\\nSoil compaction (agriculture)\\nSoil sealing\\nSoil salinity\\nAlkali soil\\nSoil pH\\nSoil acidification\\nSoil health\\nSoil life\\nSoil biodiversity\\nSoil quality\\nSoil value\\nSoil fertility\\nSoil resilience\\nSoil color\\nSoil texture\\nSoil structure\\nPore space in soil\\nPore water pressure\\nSoil crust\\nSoil horizon\\nSoil biomantle\\nSoil carbon\\nSoil gas\\nSoil respiration\\nSoil organic matter\\nSoil moisture\\nSoil water (retention)\\nSoil typevteSoil classificationWorld Reference Base for Soil Resources (1998–)\\nAcrisols\\nAlisols\\nAndosols\\nAnthrosols\\nArenosols\\nCalcisols\\nCambisols\\nChernozem\\nCryosols\\nDurisols\\nFerralsols\\nFluvisols\\nGleysols\\nGypsisols\\nHistosol\\nKastanozems\\nLeptosols\\nLixisols\\nLuvisols\\nNitisols\\nPhaeozems\\nPlanosols\\nPlinthosols\\nPodzols\\nRegosols\\nRetisols\\nSolonchaks\\nSolonetz\\nStagnosol\\nTechnosols\\nUmbrisols\\nVertisols\\nUSDA soil taxonomy\\nAlfisols\\nAndisols\\nAridisols\\nEntisols\\nGelisols\\nHistosols\\nInceptisols\\nMollisols\\nOxisols\\nSpodosols\\nUltisols\\nVertisols\\nOther systems\\nFAO soil classification (1974–1998)\\nUnified Soil Classification System\\nAASHTO Soil Classification System\\nRéférentiel pédologique (French classification system)\\nCanadian system of soil classification\\nAustralian Soil Classification\\nPolish Soil Classification\\n1938 USDA soil taxonomy\\nList of U.S. state soils\\nList of vineyard soil types\\nNon-systematic soil types\\nSand\\nSilt\\nClay\\nLoam\\nTopsoil\\nSubsoil\\nSoil crust\\nClaypan\\nHardpan\\nGypcrust\\nCaliche\\nParent material\\nPedosphere\\nLaimosphere\\nRhizosphere\\nBulk soil\\nAlkali soil\\nBay mud\\nBlue goo\\nBrickearth\\nBrown earth\\nCalcareous grassland\\nDark earth\\nDry quicksand\\nDuplex soil\\nEluvium\\nExpansive clay\\nFill dirt\\nFuller\\'s earth\\nHydrophobic soil\\nLoess\\nLunar soil\\nMartian soil\\nMud\\nMuskeg\\nPaleosol\\nPeat\\nPrime farmland\\nSerpentine soil\\nSpodic soil\\nStagnogley\\nSubaqueous soil\\nTakir\\nTerra preta\\nTerra rossa\\nTropical peat\\nYedoma\\n Types of soilApplications\\nSoil conservation\\nSoil management\\nSoil guideline value\\nSoil survey\\nSoil test\\nSoil governance\\nSoil value\\nSoil salinity control\\nErosion control\\nAgroecology\\nLiming (soil)\\nRelated fields\\nGeology\\nGeochemistry\\nPetrology\\nGeomorphology\\nGeotechnical engineering\\nHydrology\\nHydrogeology\\nBiogeography\\nEarth materials\\nArchaeology\\nAgricultural science\\nAgrology\\nSocieties, Initiatives\\nAustralian Society of Soil Science Incorporated\\nCanadian Society of Soil Science\\nCentral Soil Salinity Research Institute (India)\\nGerman Soil Science Society\\nIndian Institute of Soil Science\\nInternational Union of Soil Sciences\\nInternational Year of Soil\\nNational Society of Consulting Soil Scientists (US)\\nOPAL Soil Centre (UK)\\nSoil Science Society of Poland\\nSoil and Water Conservation Society (US)\\nSoil Science Society of America\\nWorld Congress of Soil Science\\nScientific journals\\nActa Agriculturae Scandinavica B\\nJournal of Soil and Water Conservation\\nPlant and Soil\\nPochvovedenie\\nSoil Research\\nSoil Science Society of America Journal\\nSee also\\nLand use\\nLand conversion\\nLand management\\nVegetation\\nInfiltration (hydrology)\\nGroundwater\\nCrust (geology)\\nImpervious surface/Surface runoff\\nPetrichor\\n\\n Wikipedia:WikiProject Soil\\n\\xa0 Category soil\\n\\xa0 Category soil science\\n List of soil scientists',\n  'Family\\n\\n\\nArthur in William Henry Margetson\\'s illustration for Legends of King Arthur and His Knights (1914)\\nKing Arthur\\'s family grew throughout the centuries with King Arthur\\'s legend. Many of the legendary members of this mythical king\\'s family became leading characters of mythical tales in their own right.\\n\\n\\nMedieval Welsh tradition[edit]\\nUther Pendragon by W. H. Margetson (1914)\\nIn Welsh Arthurian pre-Galfridian tradition, meaning from before the time of Geoffrey of Monmouth\\'s 12th-century Historia Regum Britanniae (History of the Kings of Britain), Arthur was granted numerous relations and family members. Several early Welsh sources are usually taken as indicative of Uther Pendragon being known as Arthur\\'s father before Geoffrey wrote, with Arthur also being granted a brother (Madog) and a nephew (Eliwlod) in these texts.[1] Arthur also appears to have been assigned a sister in this material – Gwalchmei son of Gwyar is named as his nephew in Culhwch and Olwen, son of his sister and cousin (it does not specify if Gwyar is his father or Arthur\\'s otherwise unknown sister), the Vita Iltuti and the Brut Dingestow combine to suggest that Arthur\\'s own mother was named Eigyr.[2] Culhwch and Olwen also gives Arthur\\'s half-brother as Gormant, son of Arthur\\'s mother and Ricca, the chief elder of Cornwall, a parallel of later stories of Gorlois, Duke of Cornwall.[3]\\nThe genealogies from the 13th-century Mostyn MS. 117 assert that Arthur is the son of Uthyr, the son of Custennin, the son of Cynfawr, the son of Tudwal, the son of Morfawr, the son of Eudaf, the son of Cadwr, the son of Cynan, the son of Caradoc, the son of Bran, the son of Llŷr. Regarding Arthur\\'s own family, his wife is consistently stated to be Gwenhwyfar, usually the daughter of King Ogrfan Gawr (variation: \\'Gogrfan Gawr\\', \"[G]Ogrfan the Giant\") and sister to Gwenhwyfach, although Culhwch and Bonedd yr Arwyr do indicate that Arthur also had some sort of relationship with Eleirch daughter of Iaen, which produced a son named Kyduan (Cydfan).[4] Kyduan was not the only child of Arthur according to Welsh Arthurian tradition – he is also ascribed sons called Amr (Amhar),[5] Gwydre,[6] Llacheu[7] and Duran.[8] (See the Offspring section for further information about Arthur\\'s children.)\\nIn addition to this immediate family, Arthur was said to have had a great variety of more distant relatives, including maternal aunts, uncles, cousins and a grandfather named Anlawd (or Amlawdd) Wledig (\"Prince Anlawd\"). The latter is the common link between many of these figures and Arthur: thus the relationship of first cousins that is implied or stated between Arthur, Culhwch, Illtud, and Goreu fab Custennin depends upon all of their mothers being daughters of this Anlawd, who appears to be ultimately a genealogical construct designed to allow such inter-relationships between characters to be postulated by medieval Welsh authors.[9] Arthur\\'s maternal uncles in Culhwch and Olwen, including Llygatrud Emys, Gwrbothu Hen, Gweir Gwrhyt Ennwir and Gweir Baladir Hir, similarly appear to derive from this relationship.[10]\\n\\nOther medieval literature[edit]\\nGuinevere by W. H. Margetson (1914)\\nRelatively few members of Arthur\\'s family in the Welsh materials are carried over to the works of Geoffrey of Monmouth and chivalric romancers. His grandfather Anlawd Wledic and his maternal uncles, aunts and cousins do not appear there, and neither do any of his sons or his paternal relatives. Only the core family seem to have made the transition: his wife Gwenhwyfar (who became Guinevere), his father Uthyr (Uther), his mother Eigyr (Igerna), and his sister-son Gwalchmei (Gawain). The place of Gwalchmei\\'s mother Gwyar\\'s was taken by Anna, the wife of Loth, in Geoffrey\\'s account, whilst Modredus (Mordred) was made into her second son (a status he did not have as Medraut in the Welsh material).[11]\\n\\nMorgan le Fay by W. H. Margetson (1914)\\nIn addition, new family members enter the Arthurian tradition from this point onwards. Uther is given a new family, including two brothers and a father,[12] while Arthur gains a sister or half-sister, Morgan, first named as his relative by Chrétien de Troyes in Yvain.[13] A new son of Arthur, named Loholt, is introduced in Chrétien\\'s Erec and Enide.[14] Another significant new family-member is Arthur\\'s other sister or half-sister known by several names including Morgause, daughter of Gorlois and Igerna (Igraine) and mother of Gawain and Mordred, replacing Anna in the romances. They may be joined by a third half-sister, today best known as Elaine. Drawing on earlier sources, Richard Carew mentions another sister from Igraine and Uther, named Amy.[15] The overall number of Arthur\\'s sisters or half-sisters varies between the different romances, ranging from as few as one or two to as many as five (in which case one of them may die early).[16] Their names and roles also vary, as do their husbands (most commonly including the British kings Lot, Urien and Nentres, the last one of them being largely interchangeable with the other two).[a]\\nThrough the sisters, Arthur is given further nephews (Gawain, Agravain, Gaheris and Gareth by Morgause; Galeschin by Elaine; and Yvain by either Morgan or the fourth sister), who all become Knights of the Round Table. The Brut Tysilio makes Gorlois also the father of Cador, who is thus Arthur\\'s half-brother through Igraine; Cador\\'s son Constantine succeeded Arthur as king of Britain in the Historia Regum Britanniae. Romances by authors such us Chrétien[18] and Wolfram von Eschenbach[19]  mention or feature Arthur\\'s nieces and occasionally also additional nephews.\\nThere are furthermore various other more distant family members, such as the case of the historical Romano-British leader Ambrosius Aurelianus being turned into his uncle (Uther\\'s brother) in Geoffrey\\'s tradition deriving Arthur\\'s lineage from the self-proclaimed Western Roman Emperor Constantine II of Britain, who in this version of the legend is presented as Arthur\\'s grandfather. One important figure of no actual blood relation to Arthur is Ector, featuring as secret foster-father of the young Arthur in much of the romance tradition, thus also making Ector\\'s son Kay Arthur\\'s foster brother.\\n\\nOffspring[edit]\\nAlthough Arthur is given sons in both early and late Arthurian tales, he is rarely granted significant further generations of descendants. This is at least partly because of the premature deaths of his sons, who in the later tradition usually (and prominently) include Mordred. In some cases, including in Le Morte d\\'Arthur,[20] Guinevere\\'s failure to produce a legitimate heir contributes to the fall of Arthur.\\nIn the early Welsh tradition, Mordred (Medraut) was merely a nephew of Arthur, who had three different sons; however, their stories are largely lost. Amr is the first to be mentioned in Arthurian literature, appearing in the 9th-century Historia Brittonum:\\n\\n\\n\\nThere is another wonder in the region which is called Ercing. A tomb is located there next to a spring which is called Licat Amr; and the name of the man who is buried in the tomb was called thus: Amr. He was the son of Arthur the soldier, and Arthur himself killed and buried him in that very place. And men come to measure the grave and find it sometimes six feet in length, sometimes nine, sometimes twelve, sometimes fifteen. At whatever length you might measure it at one time, a second time you will not find it to have the same length – and I myself have put this to the test.[21]\\n\\n\\n\\nWhy Arthur chose or was forced to kill his son is never made clear. The only other reference to Amr comes in the post-Galfridian Welsh romance Geraint, where \"Amhar son of Arthur\" is one of Arthur\\'s four chamberlains along with Bedwyr\\'s son Amhren.[22]:\\u200a231\\u200a\\nGwydre is similarly unlucky, being slaughtered by the giant boar Twrch Trwyth in Culhwch and Olwen, along with two of Arthur\\'s maternal uncles. No other references to either Gwydre or Arthur\\'s uncles survive.[23][22]:\\u200a132,\\u200a134\\u200a\\nAnother son, known only from a possibly 15th-century Welsh text, is said to have died on the field of Camlann:\\n\\nSanddef [Bryd Angel] drive the crow\\noff the face of Duran [son of Arthur].\\nDearly and belovedly his mother raised him.\\nArthur [sang it][24]\\nMore is known of Arthur\\'s son Llacheu. He is one of the \"Three Well-Endowed Men of the Island of Britain\", according to the Triad 4, and he fights alongside Cei in the early Arthurian poem Pa gur yv y porthaur?.[25] Like his father is in Y Gododdin, Llacheu appears in the 12th-century and later Welsh poetry as a standard of heroic comparison and he also seems to have been similarly a figure of local topographic folklore too.[26] Taken together, it is generally agreed that all these references indicate that Llacheu was a figure of considerable importance in the early Arthurian cycle.[27] Nonetheless, Llacheu too dies, with the speaker in the pre-Galfridian poem Ymddiddan Gwayddno Garanhir ac Gwyn fab Nudd remembering that he had \"been where Llacheu was slain / the son of Arthur, awful in songs / when ravens croaked over blood.\"[28] The romance character based on him, Lohot, also dies young.\\nMordred is a major exception to this tradition of a childless death for Arthur\\'s sons. Mordred, like Amr, is killed by Arthur – at Camlann – according to Geoffrey of Monmouth and the post-Galfridian tradition but, unlike the others, he is ascribed two sons, both of whom rose against Arthur\\'s successor and cousin Constantine III with the help of the Saxons. However, in Geoffrey\\'s Historia (when the motifs of Arthur\\'s killing of Mordred and Mordred\\'s sons first appear), Mordred was not Arthur\\'s son.[29] His relationship with Arthur was reinterpreted in the Vulgate Cycle, as he was made the result of an unwitting incest between Arthur and his sister.[30] This tale is preserved in the later romances, with the motif of Arthur knowing by Merlin that Mordred would grow up to kill him; and so by the time of the Post-Vulgate Cycle Arthur has devised a plot, Herod-like, to rid of all children born on the same day as Mordred in order to try to save himself from this fate.[31] The Post-Vulgate version also features another of Arthur\\'s illegitimate sons, Arthur the Less, who survives for as long as Mordred but remains fiercely loyal to Arthur.\\nOther literature has expanded Arthur\\'s immediate family further. His daughter named Archfedd is found in only one Welsh source, the 13th-century Bonedd y Saint.[32] A daughter named Hilde is mentioned in the 13th-century Icelandic Þiðreks saga (Thidrekssaga), while the Möttuls saga from around the same period features a son of Arthur by the named Aristes. The eponymous Samson the Fair from another Norse work, Samsons saga fagra, is Arthur\\'s son as well. Rauf de Boun\\'s 1309 Petit Brut lists Arthur\\'s son Adeluf III as a king of Britain, also mentioning Arthur\\'s other children Morgan le Noir (Morgan the Black) and Patrike le Rous (Patrick the Red) by an unnamed Fairy Queen.[33] Later on, a number of early modern works have occasionally given Arthur more of different sons and daughters.[b]\\n\\nBloodline claims[edit]\\nSupposed direct lineage from King Arthur has been professed by some English monarchs, especially the ones of Welsh descent, among them the 15th-century King Henry VII (through Cadwaladr ap Cadwallon[34]), who even named his first-born son after Arthur, and the 16th-century Queen Elizabeth I.[35] In the Scottish Highlands, the descent from King Arthur remains included in rival genealogies of both Clan Arthur (MacArthur) and Clan Campbell,[36] whose traditions involve Arthur\\'s son variably known as Merbis, Merevie, Smerbe, Smerevie or Smereviemore (according to the Campbells, from his second marriage to a French princess named Elizabeth[37]).[38] In Iberia, medieval and early modern genealogies attributed Queen Baddo, wife of the 6th-century Visigothic King Reccared I, as a daughter of British King Arthur.[39]\\n\\nNotes[edit]\\n\\n\\n^ In the Vulgate Merlin, for instance, Arthur\\'s mother Ygraine \"had five daughters, three by her husband the duke and two by her first husband, one of whom King Lot took as his wife, King Neutres [i.e. Nentres] another, King Urien the third, and Caradoc, who was father of King Aguisant of Scotland, the fourth, who had died, while the fifth was in school in Logres.\"[17]\\n\\n^ The 16th-century romance Tom a Lincoln features the eponymous hero, Arthur\\'s son by the Fairy Queen named Caelia. Through Tom, Arthur is further given grandsons, referred to as the Black Knight and the Faerie Knight. Melora (Mhelóra), the heroine of the 16th-century Irish romance The Adventures of Orlando and Melora (Eachtra Mhelóra agus Orlando), dresses as a man and becomes known as the Knight of the Blue Surcoat in order to save her lover Orlando from Merlin\\'s spell. Another example is the eponymous protagonist of Henry Fielding\\'s 18th-century play Tom Thumb. In Walter Scott\\'s 18th-century poem The Bridal of Triermain, Gyneth, Arthur\\'s daughter from his romance with a half-djinn queen Guendolen, is punished by Merlin for her vanity by being put to magic slumber for several centuries until she is found and awakened with a kiss. A Scottish fairy tale included in the 19th-century compilation Popular Tales of the West Highlands (Vol. III) features Arthur\\'s illegitimate son Moroie Mor who is raised by his mother in obscurity in a forest before becoming a great knight.\\n\\n\\nReferences[edit]\\n\\n\\n^ T. Green, Concepts of Arthur (Stroud: Tempus, 2007), pp.145–51; P. Sims-Williams, \"The Early Welsh Arthurian Poems\" in R. Bromwich, A.O.H. Jarman and B.F. Roberts (edd.) The Arthur of the Welsh (Cardiff: University of Wales Press, 1991), pp.33–71 at pp.53-4.\\n\\n^ R. Bromwich and D. Simon Evans, Culhwch and Olwen. An Edition and Study of the Oldest Arthurian Tale (Cardiff: University of Wales Press, 1992), pp.44-5.\\n\\n^ Parker, Will (2016). \"Culhwch and Olwen Translation\". Culhwch ac Olwen. Footnote 133. Retrieved 4 May 2022.\\n\\n^ See T. Green, Concepts of Arthur (Stroud: Tempus, 2007), pp.151–5; R. Bromwich and D. Simon Evans, Culhwch and Olwen. An Edition and Study of the Oldest Arthurian Tale (Cardiff: University of Wales Press, 1992), pp.76–7, 107-08 -- the latter note that the sons of Iaen appear to have been kinsmen of Arthur on their father\\'s side, not Arthur\\'s father\\'s side, i.e. they were Arthur\\'s in-laws via their sister.\\n\\n^ Historia Brittonum, 73 and also the romance Geraint and Enid, which mentions an \"Amhar son of Arthur\".\\n\\n^ R. Bromwich and D. Simon Evans, Culhwch and Olwen. An Edition and Study of the Oldest Arthurian Tale (Cardiff: University of Wales Press, 1992), lines 1116-7.\\n\\n^ R. Bromwich, Trioedd Ynys Prydein: the Welsh Triads (Cardiff: University of Wales, 1978), pp.416–8.\\n\\n^ J. Rowland, Early Welsh Saga Poetry: a Study and Edition of the Englynion (Cambridge, 1990), pp.250–1.\\n\\n^ R. Bromwich and D. Simon Evans, Culhwch and Olwen. An Edition and Study of the Oldest Arthurian Tale (Cardiff: University of Wales Press, 1992), pp.44-5\\n\\n^ These maternal uncles are named at lines 251-2, 288-90: R. Bromwich and D. Simon Evans, Culhwch and Olwen. An Edition and Study of the Oldest Arthurian Tale (Cardiff: University of Wales Press, 1992).\\n\\n^ B. F. Roberts, \"Geoffrey of Monmouth, Historia Regum Britanniae and Brut Y Brenhinedd\" in R. Bromwich, A. O. H. Jarman and B. F. Roberts (edd.) The Arthur of the Welsh (Cardiff: University of Wales Press, 1991), pp.98–116 at pp.112–3.\\n\\n^ Geoffrey of Monmouth, Historia Regum Britanniae Book 8.1.\\n\\n^ Arthurian Romances trans. W. Kibler and C. W. Carroll (Harmondsworth, Penguin, 1991)\\n\\n^ Lancelot of the Lake. Oxford University Press. 2000. p.\\xa0428. ISBN\\xa09780192837936.\\n\\n^ Carew, Richard (1769) [1602]. The Survey of Cornwall and an Epistle concerning the Excellencies of the English Tongue. E. Law and J. Hewett. p.\\xa078.\\n\\n^ \"Bibliographical bulletin of the International Arthurian Society\". 15 March 1954. Retrieved 15 March 2023 – via Google Books.\\n\\n^ Lacy, Norris J. (22 January 2024). Lancelot-Grail: The story of Merlin. Boydell & Brewer. ISBN\\xa0978-1-84384-234-7.\\n\\n^ Duggan, Joseph J. (October 2008). The Romances of Chretien de Troyes. Yale University Press. ISBN\\xa0978-0-300-13370-7.\\n\\n^ Groos, Arthur; Lacy, Norris J. (6 December 2012). Perceval/Parzival: A Casebook. Routledge. ISBN\\xa0978-1-136-51000-7.\\n\\n^ Cherewatuk, Karen (2006). Marriage, Adultery and Inheritance in Malory\\'s Morte Darthur. Vol.\\xa067. Boydell & Brewer. ISBN\\xa09781843840893. JSTOR\\xa010.7722/j.ctt81j5x.\\n\\n^ Historia Brittonum, 73.\\n\\n^ a b Jones, T.; Jones, G. (1949). Mabinogion. London, UK: Dent.\\n\\n^ Bromwich, R.; Evans, D. Simon (1992). Culhwch and Olwen. An edition and study of the oldest Arthurian tale. Cardiff, Wales: University of Wales Press. lines\\xa01116–1117 and note \"on Gwydre\".\\n\\n^ Rowland, J. (1990). Early Welsh Saga Poetry: A study and edition of the Englynion. Cambridge. pp.\\xa0250–251.{{cite book}}:  CS1 maint: location missing publisher (link)\\n\\n^ R. Bromwich, Trioedd Ynys Prydein: the Welsh Triads (Cardiff: University of Wales, 1978), no. 4; P. Sims-Williams, \"The Early Welsh Arthurian Poems\" in R. Bromwich, A.O.H. Jarman and B.F. Roberts (edd.) The Arthur of the Welsh (Cardiff: University of Wales Press, 1991), pp.33–71 at p.43.\\n\\n^ O. J. Padel, Arthur in Medieval Welsh Literature (Cardiff: University of Wales Press, 2000), pp.55–6, 99; P. Sims-Williams, \"The Early Welsh Arthurian Poems\" in R. Bromwich, A.O.H. Jarman and B.F. Roberts (edd.) The Arthur of the Welsh (Cardiff: University of Wales Press, 1991), pp.33–71 at p.4.4.\\n\\n^ T. Green, Concepts of Arthur (Stroud: Tempus, 2007), pp.168-9.\\n\\n^ J.B. Coe and S. Young, The Celtic Sources for the Arthurian Legend (Llanerch, 1995), p.125.\\n\\n^ Geoffrey of Monmouth, Historia Regum Britanniae Book 11.2-4.\\n\\n^ Lancelot-Grail: The Old French Arthurian Vulgate and Post-Vulgate in Translation trans. N. J. Lacy (New York: Garland, 1992-1996).\\n\\n^ See A. Varin, \"Mordred, King Arthur\\'s Son\" in Folklore 90 (1979), pp.167–77 on Mordred\\'s birth, its origins and Arthur\\'s reaction to his dream.\\n\\n^ Sullivan, Tony (14 July 2022). The Battles of King Arthur - Tony Sullivan - Google Books. Pen and Sword History. ISBN\\xa09781399015318. Retrieved 14 September 2022.\\n\\n^ Arthur\\'s Children in Le Petit Bruit and the Post-Vulgate Cycle by Ad Putter, \\nUniversity of Bristol.\\n\\n^ \"The Tudor Connection to King Arthur • Sean Poage\". 10 December 2018.\\n\\n^ \"Queen Elizabeth I\". CHILDREN OF ARTHUR.\\n\\n^ \"Clans touch swords in battle to crown Arthur as their own\". www.scotsman.com.\\n\\n^ \"Highland papers\". 14 April 2024.\\n\\n^ Ashley, Mike (1 September 2011). The Mammoth Book of King Arthur. Little, Brown Book Group. ISBN\\xa09781780333557. Retrieved 15 March 2023 – via Google Books.\\n\\n^ Sirantoine, Hélène (January 2021). \"Baddo, \"Daughter of Arthur, King of England\": Some Medieval Evidence of the Arthurian Filiation Attributed to a Sixth-Century Visigothic Queen\". Viator. 52 (1): 137–170. doi:10.1484/J.VIATOR.5.130885. S2CID\\xa0249835361.\\n\\n\\nBibliography[edit]\\nBromwich, R. Trioedd Ynys Prydein: the Welsh Triads (Cardiff: University of Wales, 1978).\\nBromwich, R. and Simon Evans, D. Culhwch and Olwen. An Edition and Study of the Oldest Arthurian Tale (Cardiff: University of Wales Press, 1992).\\nBryant, N. The High Book of the Grail: A translation of the 13th century romance of Perlesvaus (Brewer, 1996).\\nCoe, J. B. and Young, S. The Celtic Sources for the Arthurian Legend (Llanerch, 1995).\\nGreen, T. \"The Historicity and Historicisation of Arthur\", Arthurian Resources.\\nGreen, T. \"Tom Thumb and Jack the Giant Killer: Two Arthurian Fairytales?\" in Folklore 118.2 (August, 2007), pp.\\xa0123–40.\\nGreen, T. Concepts of Arthur (Stroud: Tempus, 2007) ISBN\\xa0978-0-7524-4461-1.\\nHigham, N. J. King Arthur, Myth-Making and History (London: Routledge, 2002).\\nJones, T. and Jones, G. The Mabinogion (London: Dent, 1949).\\nLacy, N. J. Lancelot-Grail: The Old French Arthurian Vulgate and Post-Vulgate in Translation (New York: Garland, 1992–96), 5 volumes.\\nPadel, O. J. Arthur in Medieval Welsh Literature (Cardiff: University of Wales Press, 2000) ISBN\\xa0978-0-7524-4461-1.\\nRoberts, B. F. \"Geoffrey of Monmouth, Historia Regum Britanniae and Brut Y Brenhinedd\" in R. Bromwich, A.O.H. Jarman and B.F. Roberts (edd.) The Arthur of the Welsh (Cardiff: University of Wales Press, 1991), pp.\\xa098–116.\\nRowland, J. Early Welsh Saga Poetry: a Study and Edition of the Englynion (Cambridge, 1990).\\nSims-Williams, P. \"The Early Welsh Arthurian Poems\" in R. Bromwich, A.O.H. Jarman and B.F. Roberts (edd.) The Arthur of the Welsh (Cardiff: University of Wales Press, 1991), pp.\\xa033–71.\\nTichelaar, Tyler R., King Arthur\\'s Children: A Study in Fiction and Tradition (Reflections of Camelot) (Modern History Press, 2011).\\nExternal links[edit]\\n\\n\\n\\nWikimedia Commons has media related to King Arthur\\'s family.\\n\\nvteKing Arthur and the Matter of BritainFamily\\nAgravain\\nCador\\nConstantine\\nCulhwch\\nEctor\\nElaine of Garlot\\nHoel\\nGaheris\\nGareth\\nGawain\\nGingalain\\nGuinevere\\nIgraine\\nKay\\nMordred\\nMorgan le Fay\\nMorgause\\nAmbrosius Aurelianus\\nUther Pendragon\\nUrien\\nYvain\\nKnights of the Round Table\\nBagdemagus\\nBedivere\\nBors the Younger\\nBrunor\\nCligès\\nCaradoc\\nDagonet\\nDaniel\\nDinadan\\nGalahad\\nGalehaut\\nGeraint\\nGriflet\\nLamorak\\nLancelot\\nLanval\\nLionel\\nMoriaen\\nPalamedes\\nPelleas\\nPellinore\\nPercival\\nSagramore\\nTristan\\nOther characters\\nAccolon\\nAgrestes\\nAngharad Golden-Hand\\nAnguish of Ireland\\nAnnowre\\nBalin and Balan\\nBan\\nLady Bertilak\\nBlack Knight(s)\\nBlanchefleur\\nBors the Elder\\nBrangaine\\nBrunor(s)\\nCatigern\\nClaudas\\nElaine of Astolat\\nElaine of Benoic\\nElaine of Corbenic\\nEnide\\nFeirefiz\\nFisher King(s)\\nGarel\\nGorlois\\nGreen Knight(s)\\nGuiomar\\nGuiron le Courtois\\nGwenhwyfach\\nHellawes\\nHengist\\nIseult\\nLady/Ladies of the Lake\\nLaudine\\nLeodegrance\\nLohengrin\\nLot\\nLucius\\nLunete\\nLynette and Lyonesse\\nMaleagant\\nMark of Cornwall\\nMeliodas\\nMerlin\\nNentres\\nNine sorceresses\\nOlwen\\nPercival\\'s sister\\nRed Knight(s)\\nRience\\nSebile\\nTaliesin\\nTegau Eurfron\\nVortigern\\nYniol\\nObjects and animals\\nCavall\\nExcalibur\\nGringolet\\nHoly Grail\\nPridwen\\nPrydwen\\nQuesting Beast\\nRound Table\\nSiege Perilous\\nTwrch Trwyth\\nPlaces\\nAstolat\\nAvalon\\nGlastonbury Tor\\nBrocéliande\\nVal sans retour\\nCaerleon\\nCamelot\\nCelliwig\\nChapel perilous\\nCorbenic\\nEsplumoir Merlin\\nJoyous Gard\\nLand/Castle of Maidens\\nLogres\\nLyonesse\\nSarras\\nTintagel\\nTintagel Castle\\nIn media\\nBibliography\\nList of works\\ncomics\\nTopics\\nBattle of Badon\\nBattle of Camlann\\nDolorous Stroke\\nLoathly lady\\nHistoricity of King Arthur\\nKing Arthur\\'s messianic return\\nPendragon\\nKnight of the Swan\\nTristan and Iseult\\n\\n Wales portal\\n England portal\\n History portal\\n\\nvteCeltic mythology seriesWelsh mythologyTexts and talesFour Branches of the Mabinogi\\nPwyll Pendefig Dyfed\\nBranwen ferch Llŷr\\nManawydan fab Llŷr\\nMath fab Mathonwy\\nArthurian\\nCulhwch and Olwen\\nPreiddeu Annwfn\\nPa gur\\nOwain, or the Lady of the Fountain\\nGeraint and Enid\\nPeredur son of Efrawg\\nThe Dream of Rhonabwy\\nGeraint son of Erbin\\nOther\\nTaliesin\\nCad Goddeu\\nWelsh Triads\\nThe Dream of Macsen Wledig\\nEnglynion y Beddau\\nGiant tales\\nLludd and Llefelys\\nCharacters\\nAfaon fab Taliesin\\nAmaethon\\nArawn\\nArianrhod\\nArthur\\nAfallach\\nBeli Mawr\\nBleiddwn\\nBlodeuwedd\\nBedwyr\\nBendigeidfran\\nBranwen\\nCai\\nCaradog ap Bran\\nCaswallawn\\nCeridwen\\nCigfa\\nCreiddylad\\nCulhwch\\nCyhyraeth\\nCyledr Wyllt\\nCymidei Cymeinfoll\\nCynon\\nDôn\\nDrudwas\\nDylan ail Don\\nDywel fab Erbin\\nEdern ap Nudd\\nEfnysien\\nElen\\nElffin ap Gwyddno\\nEliwlod\\nEufydd\\nEuroswydd\\nGeraint\\nGilfaethwy\\nGlewlwyd Gafaelfawr\\nGoewin\\nGofannon\\nGoreu fab Custennin\\nGronw Pebr\\nGwawl\\nGwern\\nGwrhyr\\nGwyddno Garanhir\\nGwydion\\nGwyn ap Nudd\\nGwythyr\\nGwalchmei\\nHafgan\\nHefeydd\\nHueil mab Caw\\nHychddwn\\nHyddwn\\nIddog ap Mynio\\nIdris\\nLlefelys\\nLleu\\nLlŷr\\nLludd\\nLlwyd\\nMabon\\nMadoc ap Uthyr\\nMacsen Wledig\\nMallt-y-Nos\\nManawydan\\nMath\\nMatholwch\\nMenw\\nModron\\nMorfydd\\nMorfran\\nMyrddin\\nNisien\\nOlwen\\nPenarddun\\nPenpingion\\nPeredur\\nPryderi\\nPwyll\\nRhiannon\\nSaint Cyllin\\nSaint Eigen\\nSanddef\\nSeithenyn\\nTaliesin\\nTegid Foel\\nTeyrnon\\nYsbaddaden\\nAnimals andcreatures\\nAdar Llwch Gwin\\nAdar Rhiannon\\nAderyn y Corff\\nAfanc\\nCavall (Cafall, Cabal)\\nCeffyl Dŵr\\nCewri\\nCoblyn\\nCoraniaid\\nCŵn Annwn\\nCyhyraeth\\nDreigiau\\nRed\\nWhite\\nGwyllgi\\nGwyllion\\nLlamhigyn y Dŵr\\nMorgens\\nPlentyn Newid\\nPwca\\nTwrch Trwyth\\nTylwyth Teg\\nLocations\\nAnnwn\\nCornwall (Celliwig)\\nCaer Sidi\\nCantre\\'r Gwaelod\\nDyfed (Arberth, Gwales)\\nGwynedd (Aberffraw, Arfon, Ardudwy, Caer Dathyl)\\nIreland\\nLondon (Ludgate)\\nItems\\nCross of Neith\\nExcalibur (Caledfwlch)\\nCauldron of rebirth\\nLlech Ronw\\nThirteen Treasures of the Island of Britain',\n  'Bulgarian journalist\\nRalitsa VassilevaBornRalitsa Vassileva (1963-06-08) 8 June 1963 (age\\xa061)Sofia, BulgariaEducationUniversity of Sofia, Georgia State UniversityOccupation(s)Journalist, NewsanchorNotable creditCNN World News\\nRalitsa B. Vassileva (Bulgarian: Ралица Василева, born 8 June 1963) is a Bulgarian journalist. Currently she is lecturer at Grady College of Journalism and Mass Communication.[1] Previously she was an anchorwoman on CNN television news from 1992 to 2014[2] and news director at Bulgarian International Television, BIT between 2015 and 2017.\\nShe has covered the Bosnian War, the Arab–Israeli conflict, and many other major international issues. She has interviewed many world leaders and high-profile figures, including Mikhail Gorbachev, Ariel Sharon, Henry Kissinger, and others.\\n\\n\\nCareer[edit]\\nFrom 1992 to 2014, Vassileva was an anchor for CNN International. Based at the network\\'s global headquarters in Atlanta, she anchored CNN Newsroom, previously known as World Report.[3]\\nVassileva anchored coverage of many major international news stories including most recently the Chilean miner rescue, the Iran student protests and Israel\\'s Gaza offensive. In addition to her anchoring duties, Vassileva has reported in the field from places like Moscow, Jerusalem and the United Nations. She has also done long-form documentaries like her half hour special on the 20th anniversary of the fall of Communism in her native Bulgaria.[3]\\nVassileva\\'s long career at CNN began with coverage of the conflicts in the former Yugoslavia, the Middle East, as well as Russia\\'s transition to democracy and the Good Friday Agreement. Vassileva has also anchored CNN\\'s coverage of the UN weapons inspection crisis in Iraq, the September 11 attacks on the United States, the war against terrorism and the ongoing military offensive in Afghanistan.\\nShe has interviewed many notable senior international leaders and public figures such as former U.S. Secretaries of State Henry Kissinger and Madeleine Albright, Pakistani President Pervez Musharraf, former Soviet leader Mikhail Gorbachev, Israeli Prime Minister Benjamin Netanyahu, chief Palestinian negotiator Saeb Erakat, Nigerian President Olusegun Obasanjo, Bulgarian President Petar Stoyanov, business entrepreneurs Ted Turner and Richard Branson, and Sinn Féin leader Gerry Adams.\\nVassileva began her career at CNN as anchor of CNN World Report, the world\\'s only forum for international broadcasters to present news from their country before CNN\\'s global audience.\\nBefore joining CNN, Vassileva was an anchor and reporter for Bulgarian Television (BT). She cut her teeth in journalism covering the fall of communism in her native Bulgaria. In this role, she helped develop a post-communist approach to news delivery and soon became the country\\'s second highest-rated anchor.\\nNeither Vassileva nor CNN has commented publicly on her sudden departure from the network.\\n\\nAwards, honours and distinctions[edit]\\nIn 2001, the American University in Bulgaria awarded Vassileva an honorary Doctorate of Humane Letters for her contributions to journalism.\\n\\nPersonal life[edit]\\nVassileva was born in Sofia, Bulgaria, and was educated at English language schools in Sofia and New Delhi, India. She has an MA in English Language and Literature from Sofia University. She recently acquired an MA in Political Science from Georgia State University in Atlanta. Vassileva\\'s interest in journalism began after she joined Bulgarian Radio\\'s English language service in 1987 as an English translator and announcer where she would later add reporting to her duties.\\n\\nTrivia[edit]\\nJethro Tull\\'s Ian Anderson wrote and recorded a song called \"Not Ralitsa Vassileva\", which appeared on his album Rupi\\'s Dance. Vassileva appeared as guest at an Ian Anderson \"Rubbing Elbows\" performance in Atlanta, Georgia\\nRalitsa Vassileva appears in the 2006 British film The Queen[4] in a real-life outtake of her anchoring CNN\\'s World News. She says \"Britain\\'s Queen Elizabeth will deliver a televised address Friday, the royal family has been accused of not showing enough remorse over Princess Diana\\'s death\".\\nReferences[edit]\\n\\n\\n^ \"Vassileva\".\\n\\n^ \"Ralitsa Vassileva is out at CNN\". Novinite. 20 November 2014.\\n\\n^ a b Ivan Dikov (24 November 2010). \"CNN International\\'s Bulgarian Anchor Ralitsa Vassileva: News Never Takes a Break!\". Novinite.\\n\\n^ Full cast and crew for The Queen (2006) Internet Movie Database\\n\\n\\nExternal links[edit]\\nRalitsa Vassileva: \\'I Made Sense of a New Reality After September 11\\' Novinite.com, 7 April 2002']}"
     },
     "execution_count": 4,
     "metadata": {},
     "output_type": "execute_result"
    }
   ]
  },
  {
   "cell_type": "markdown",
   "source": [
    "## Shuffle the dataset"
   ],
   "metadata": {
    "id": "ojicqzIEkWyl"
   }
  },
  {
   "cell_type": "code",
   "source": [
    "shuffled_wiki_raw_dataset = wiki_raw_dataset_after_removing[\"train\"].shuffle(seed=42)\n",
    "\n",
    "shuffled_wiki_raw_dataset[0]"
   ],
   "metadata": {
    "colab": {
     "base_uri": "https://localhost:8080/"
    },
    "id": "a420uUfhhsZU",
    "outputId": "6630cb88-bdac-4650-80df-06684e51f4d9",
    "ExecuteTime": {
     "end_time": "2024-07-08T19:29:21.969205741Z",
     "start_time": "2024-07-08T19:29:21.960418704Z"
    }
   },
   "execution_count": 5,
   "outputs": [
    {
     "data": {
      "text/plain": "{'ID': 1536,\n 'Title': 'San Francisco Open',\n 'Body': 'Golf tournament\\nThe San Francisco Open was a golf tournament played in the San Francisco area. It was played at a number of different courses in the December to February period. From 1930 to 1941 it was a match-play event before becoming a 72-hole stroke play event from 1942 to 1946.\\nA non-PGA Tour event was played in May 1954 at Lake Merced Golf Club and was won by Shelley Mayfield. It was played over 54 holes and had prize money of $10,000.\\n\\nWinners[edit]\\n\\n\\nYear\\nPlayer\\nCountry\\nVenue\\nScore\\nTo par\\nMarginof victory\\nRunner-up\\nWinner\\'sshare ($)\\nRef\\n\\n\\nSan Francisco Open\\n\\n\\n1946\\nByron Nelson\\n\\xa0United States\\nOlympic Club\\n283\\n−1\\n9 strokes\\n Herman Barron\\n3,000\\n[1]\\n\\n\\n1944(Dec)\\nByron Nelson\\n\\xa0United States\\nHarding Park\\n281\\n−7\\n1 stroke\\n Jim Ferrier\\n2,666\\n[2]\\n\\n\\nSan Francisco Victory Open\\n\\n\\n1944(Jan)\\nByron Nelson\\n\\xa0United States\\nHarding Park\\n275\\n−13\\n6 strokes\\n Jug McSpaden\\n2,400\\n[3]\\n\\n\\nSan Francisco Open\\n\\n\\n1943\\nNo tournament\\n\\n\\n1942\\nBen Hogan\\n\\xa0United States\\nCalifornia GC\\n279\\n−9\\n3 strokes\\n Sam Snead\\n1,000\\n[4]\\n\\n\\nSan Francisco National Match Play Open\\n\\n\\n1941\\nJohnny Revolta\\n\\xa0United States\\nPresidio\\n7 & 6\\n Harry Cooper\\n1,000\\n[5]\\n\\n\\n1940\\nJimmy Demaret\\n\\xa0United States\\nLake Merced\\n2 & 1\\n Willie Goggin\\n1,000\\n[6]\\n\\n\\n1939\\nDick Metz\\n\\xa0United States\\nOlympic Club\\n1 up\\n Horton Smith\\n1,000\\n[7]\\n\\n\\n1938\\nJimmy Demaret\\n\\xa0United States\\nSan Francisco GC\\n4 & 3\\n Sam Snead\\n1,000\\n[8]\\n\\n\\n1937\\nLawson Little\\n\\xa0United States\\nIngleside\\n20 holes\\n Neil Christian\\n1,000\\n[9]\\n\\n\\n1936\\nWillie Hunter\\n\\xa0United States\\nLake Merced\\n4 & 2\\n Willie Goggin\\n1,500\\n[10]\\n\\n\\n1935\\nJug McSpaden\\n\\xa0United States\\nPresidio\\n3 & 2\\n Harry Cooper\\n750\\n[11]\\n\\n\\n1934\\nTom Creavy\\n\\xa0United States\\nLake Merced\\n3 & 2\\n Jimmy Thomson\\n750\\n[12]\\n\\n\\n1932\\nCraig Wood\\n\\xa0United States\\nOlympic Club\\n2 & 1\\n Al Espinosa\\n500\\n[13]\\n\\n\\n1931\\nWiffy Cox\\n\\xa0United States\\nLake Merced\\n6 & 5\\n George Von Elm\\n1,500\\n[14]\\n\\n\\n1930\\nLeo Diegel\\n\\xa0United States\\nOlympic Club\\n6 & 4\\n Al Espinosa\\n1,500\\n[15]\\n\\nReferences[edit]\\n\\n\\n^ \"Nelson Win, Denies He\\'ll Quit\". The Pittsburgh Press. January 14, 1946. p.\\xa017.\\n\\n^ \"Nelson Wins Frisco Golf\". The Pittsburgh Press. December 5, 1944. p.\\xa024.\\n\\n^ \"Nelson\\'s 275 Wins \\'Frisco Golf Play\". The Pittsburgh Press. January 18, 1944. p.\\xa022.\\n\\n^ \"Little Ben Hogan Again Leads Pro Golf Brigade\". The Pittsburgh Press. January 27, 1942. p.\\xa023.\\n\\n^ \"Revolta Puts New Life In Winter Golf\". The Pittsburgh Press. January 20, 1941. p.\\xa020.\\n\\n^ \"Demaret Winner of \\'Frisco Open\". The Pittsburgh Press. January 22, 1940. p.\\xa019.\\n\\n^ \"Metz Becomes Pro Hot Shot\". The Pittsburgh Press. January 23, 1939. p.\\xa019.\\n\\n^ \"Pro Golfers Shift South\". The Pittsburgh Press. February 14, 1938. p.\\xa020.\\n\\n^ \"Neil Christian Loses To Little\". The Spokesman-Review. February 1, 1937. p.\\xa01.\\n\\n^ \"Hunter Captures Match Play Open\". Pittsburgh Post-Gazette. January 28, 1936. p.\\xa01.\\n\\n^ \"McSpaden Cuts Swing, Becomes Leader in Golf\". The Pittsburgh Press. January 29, 1935. p.\\xa021.\\n\\n^ \"Creavy Wins National Match-Play Golf Title\". Youngstown Vindicator. January 16, 1934. p.\\xa021.\\n\\n^ \"\\'Frisco Open Won by Wood\". Pittsburgh Post-Gazette. December 13, 1932. p.\\xa021.\\n\\n^ \"Cox Match Play Open Golf Champion\". Pittsburgh Post-Gazette. December 15, 1931. p.\\xa019.\\n\\n^ \"Frisco Open Won by Diegel\". Pittsburgh Post-Gazette. December 8, 1930. p.\\xa015.\\n\\n\\nvteFormer PGA Tour events\\n500 Festival Open Invitation\\nAgua Caliente Open\\nAlameda County Open\\nAlcan Open\\nAll American Open\\nAlmaden Open\\nAmerican Golf Classic\\nArdmore Open\\nArlington Hotel Open\\nAtlanta Classic\\nAzalea Open Invitational\\nBahamas National Open\\nBakersfield Open Invitational\\nBaton Rouge Open Invitational\\nB.C. Open\\nBeaumont Open Invitational\\nBellevue Country Club Open\\nBlue Ribbon Open\\nBuick Open\\nCajun Classic Open Invitational\\nCalifornia State Open\\nCarling World Open\\nCavalcade Of Golf\\nChattanooga Classic\\nChicago Open\\nCIMB Classic\\nCJ Cup\\nCleveland Open\\nColgate Hall of Fame Classic\\nConnecticut Open\\nCoral Gables Open Invitational\\nCoral Springs Open Invitational\\nDallas Open\\nDanny Thomas-Diplomat Classic\\nDapper Dan Open\\nDell Technologies Championship\\nDenver Open Invitational\\nDe Soto Open Invitational\\nDoral Open\\nDow Jones Open Invitational\\nDurham Open\\nEastern Open Invitational\\nEl Paso Open\\nEmpire State Open\\nEsmeralda Open\\nFig Garden Village Open Invitational\\nFlorida Open\\nFort Wayne Open\\nFrank Sinatra Open Invitational\\nGasparilla Open\\nGinn sur Mer Classic\\nGlens Falls Open\\nGolden Gate Championship\\nGoodall Palm Beach Round Robin\\nGreater Jacksonville Open\\nGreater Milwaukee Open\\nGreater St. Louis Golf Classic\\nGreater Vancouver Open\\nGreenbrier Classic\\nGulfport Open\\nHaig Open Invitational\\nHale America National Open Golf Tournament\\nHershey Open\\nHesperia Open Invitational\\nHouston Open\\nIndian Ridge Hospital Open Invitational\\nThe International\\nInverness Invitational Four-Ball\\nIVB-Philadelphia Golf Classic\\nKansas City Open Invitational\\nKemper Open\\nKentucky Derby Open\\nKnoxville Invitational\\nLa Gorce Open\\nLabatt Open\\nLiggett & Myers Open\\nLong Beach Open\\nLong Island Open\\nLucky International Open\\nMaryland Open\\nMassachusetts Open\\nMayakoba Golf Classic\\nMayfair Inn Open\\nMemphis Invitational\\nMetropolitan Open\\nMetropolitan PGA Championship\\nMiami Beach Open\\nMiami International Four-Ball\\nMiami Open\\nMichelob Championship\\nMichigan Golf Classic\\nMilwaukee Open\\nMilwaukee Open Invitational\\nMobile Sertoma Open Invitational\\nMotor City Open\\nMountain View Open\\nNashville Invitational\\nNassau Bahamas Open\\nNassau Open\\nThe National\\nNational Airlines Open Invitational\\nNational Celebrities Open\\nNational Team Championship\\nNEC World Series of Golf\\nNew England Classic\\nNew Jersey PGA Championship\\nNew Jersey State Open\\nNew York State Open\\nNorth and South Open\\nNorthern California Open\\nOakland Open\\nOhio Kings Island Open\\nOhio Open\\nOklahoma City Open Invitational\\nOklahoma Open\\nOntario Open\\nOrange County Open Invitational\\nOregon Open\\nOrlando Open\\nPalmetto Championship\\nPasadena Open\\nPennsylvania Classic\\nPennsylvania Open Championship\\nPensacola Open\\nPepsi Championship\\nPhiladelphia Daily News Open\\nPhiladelphia Inquirer Open\\nPhiladelphia Open Championship\\nPortland Open Invitational\\nReading Open\\nRebel Yell Open\\nRio Grande Valley Open\\nRobinson Open\\nRubber City Open Invitational\\nSacramento Open\\nSahara Invitational\\nSt. Jude Classic\\nSt. Paul Open Invitational\\nSt. Petersburg Open Invitational\\nSeattle Open Invitational\\nShawnee Open\\nSioux City Open\\nSouthern Open\\nSouthern (Spring) Open\\nSouthwest Golf Classic\\nSunset-Camellia Open Invitational\\nSunshine Open Invitational\\nTacoma Open Invitational\\nTallahassee Open\\nThomasville Open\\nThunderbird Classic\\nThunderbird Invitational\\nTournament of the Gardens Open\\nTucson Open\\nTurning Stone Resort Championship\\nU.S. Professional Match Play Championship\\nUtah Open\\nVirginia Beach Open\\nVirginia Open\\nWaco Turner Open\\nWalt Disney World Golf Classic\\nWest End Classic\\nWest Palm Beach Open Invitational\\nWestchester Open\\nWestern Open\\nWGC Championship\\nWGC Match Play\\nWGC-HSBC Champions\\nWGC Invitational\\nWhite Sulphur Springs Open\\nWisconsin State Open\\nWorkday Charity Open\\nWorld Championship of Golf\\nYorba Linda Open Invitational\\nCurrent PGA Tour events'}"
     },
     "execution_count": 5,
     "metadata": {},
     "output_type": "execute_result"
    }
   ]
  },
  {
   "cell_type": "markdown",
   "source": [
    "## Compute the `Body` length"
   ],
   "metadata": {
    "id": "kDHft9v7mn5d"
   }
  },
  {
   "cell_type": "code",
   "source": [
    "def compute_body_length(example):\n",
    "    return {\"Body_length\": len(example[\"Body\"].split())}\n",
    "\n",
    "shuffled_wiki_raw_dataset = shuffled_wiki_raw_dataset.map(lambda dataset: {\"Body_length\": len(dataset[\"Body\"].split())})"
   ],
   "metadata": {
    "colab": {
     "base_uri": "https://localhost:8080/",
     "height": 49,
     "referenced_widgets": [
      "1c789083ae6648848b6482b8c600d311",
      "b8ec0361ff6d467e970ec281359c2808",
      "30482a7f452049519f0c105c442bd8b8",
      "bb8bfcded18d4b248ac148c62557c26a",
      "4a0e60e0aefd4ffbbd7ec9eb8cde1017",
      "bb9f8584bccf419aa0b8746cf67de786",
      "c45783ff85344d399521ffbbafba113a",
      "4cb898292dc24a7e9fd57d78c7aae902",
      "5ebfbbd1b686405da19e1234d1fd76ff",
      "180339ce5dbe48818007d35211a72331",
      "bf2c4a7544114b53bec9f2ce3ae85192"
     ]
    },
    "id": "w68WgTrmmPfI",
    "outputId": "f2741bbe-c3b5-46e4-c30d-54fcde7ae5b8",
    "ExecuteTime": {
     "end_time": "2024-07-08T19:29:22.776621724Z",
     "start_time": "2024-07-08T19:29:21.976418659Z"
    }
   },
   "execution_count": 6,
   "outputs": [
    {
     "data": {
      "text/plain": "Map:   0%|          | 0/5000 [00:00<?, ? examples/s]",
      "application/vnd.jupyter.widget-view+json": {
       "version_major": 2,
       "version_minor": 0,
       "model_id": "3c6339bde72149a08cedfff2bfa28fcb"
      }
     },
     "metadata": {},
     "output_type": "display_data"
    }
   ]
  },
  {
   "cell_type": "code",
   "source": [
    "shuffled_wiki_raw_dataset[0:3]"
   ],
   "metadata": {
    "colab": {
     "base_uri": "https://localhost:8080/"
    },
    "id": "P9yZQ89mnHHv",
    "outputId": "7e2864ba-5df7-4e36-be19-dc9ddd3e8170",
    "ExecuteTime": {
     "end_time": "2024-07-08T19:29:22.785920642Z",
     "start_time": "2024-07-08T19:29:22.777627693Z"
    }
   },
   "execution_count": 7,
   "outputs": [
    {
     "data": {
      "text/plain": "{'ID': [1536, 1186, 3372],\n 'Title': ['San Francisco Open', 'Rosenborg tram stop', 'Agnes Mukabaranga'],\n 'Body': ['Golf tournament\\nThe San Francisco Open was a golf tournament played in the San Francisco area. It was played at a number of different courses in the December to February period. From 1930 to 1941 it was a match-play event before becoming a 72-hole stroke play event from 1942 to 1946.\\nA non-PGA Tour event was played in May 1954 at Lake Merced Golf Club and was won by Shelley Mayfield. It was played over 54 holes and had prize money of $10,000.\\n\\nWinners[edit]\\n\\n\\nYear\\nPlayer\\nCountry\\nVenue\\nScore\\nTo par\\nMarginof victory\\nRunner-up\\nWinner\\'sshare ($)\\nRef\\n\\n\\nSan Francisco Open\\n\\n\\n1946\\nByron Nelson\\n\\xa0United States\\nOlympic Club\\n283\\n−1\\n9 strokes\\n Herman Barron\\n3,000\\n[1]\\n\\n\\n1944(Dec)\\nByron Nelson\\n\\xa0United States\\nHarding Park\\n281\\n−7\\n1 stroke\\n Jim Ferrier\\n2,666\\n[2]\\n\\n\\nSan Francisco Victory Open\\n\\n\\n1944(Jan)\\nByron Nelson\\n\\xa0United States\\nHarding Park\\n275\\n−13\\n6 strokes\\n Jug McSpaden\\n2,400\\n[3]\\n\\n\\nSan Francisco Open\\n\\n\\n1943\\nNo tournament\\n\\n\\n1942\\nBen Hogan\\n\\xa0United States\\nCalifornia GC\\n279\\n−9\\n3 strokes\\n Sam Snead\\n1,000\\n[4]\\n\\n\\nSan Francisco National Match Play Open\\n\\n\\n1941\\nJohnny Revolta\\n\\xa0United States\\nPresidio\\n7 & 6\\n Harry Cooper\\n1,000\\n[5]\\n\\n\\n1940\\nJimmy Demaret\\n\\xa0United States\\nLake Merced\\n2 & 1\\n Willie Goggin\\n1,000\\n[6]\\n\\n\\n1939\\nDick Metz\\n\\xa0United States\\nOlympic Club\\n1 up\\n Horton Smith\\n1,000\\n[7]\\n\\n\\n1938\\nJimmy Demaret\\n\\xa0United States\\nSan Francisco GC\\n4 & 3\\n Sam Snead\\n1,000\\n[8]\\n\\n\\n1937\\nLawson Little\\n\\xa0United States\\nIngleside\\n20 holes\\n Neil Christian\\n1,000\\n[9]\\n\\n\\n1936\\nWillie Hunter\\n\\xa0United States\\nLake Merced\\n4 & 2\\n Willie Goggin\\n1,500\\n[10]\\n\\n\\n1935\\nJug McSpaden\\n\\xa0United States\\nPresidio\\n3 & 2\\n Harry Cooper\\n750\\n[11]\\n\\n\\n1934\\nTom Creavy\\n\\xa0United States\\nLake Merced\\n3 & 2\\n Jimmy Thomson\\n750\\n[12]\\n\\n\\n1932\\nCraig Wood\\n\\xa0United States\\nOlympic Club\\n2 & 1\\n Al Espinosa\\n500\\n[13]\\n\\n\\n1931\\nWiffy Cox\\n\\xa0United States\\nLake Merced\\n6 & 5\\n George Von Elm\\n1,500\\n[14]\\n\\n\\n1930\\nLeo Diegel\\n\\xa0United States\\nOlympic Club\\n6 & 4\\n Al Espinosa\\n1,500\\n[15]\\n\\nReferences[edit]\\n\\n\\n^ \"Nelson Win, Denies He\\'ll Quit\". The Pittsburgh Press. January 14, 1946. p.\\xa017.\\n\\n^ \"Nelson Wins Frisco Golf\". The Pittsburgh Press. December 5, 1944. p.\\xa024.\\n\\n^ \"Nelson\\'s 275 Wins \\'Frisco Golf Play\". The Pittsburgh Press. January 18, 1944. p.\\xa022.\\n\\n^ \"Little Ben Hogan Again Leads Pro Golf Brigade\". The Pittsburgh Press. January 27, 1942. p.\\xa023.\\n\\n^ \"Revolta Puts New Life In Winter Golf\". The Pittsburgh Press. January 20, 1941. p.\\xa020.\\n\\n^ \"Demaret Winner of \\'Frisco Open\". The Pittsburgh Press. January 22, 1940. p.\\xa019.\\n\\n^ \"Metz Becomes Pro Hot Shot\". The Pittsburgh Press. January 23, 1939. p.\\xa019.\\n\\n^ \"Pro Golfers Shift South\". The Pittsburgh Press. February 14, 1938. p.\\xa020.\\n\\n^ \"Neil Christian Loses To Little\". The Spokesman-Review. February 1, 1937. p.\\xa01.\\n\\n^ \"Hunter Captures Match Play Open\". Pittsburgh Post-Gazette. January 28, 1936. p.\\xa01.\\n\\n^ \"McSpaden Cuts Swing, Becomes Leader in Golf\". The Pittsburgh Press. January 29, 1935. p.\\xa021.\\n\\n^ \"Creavy Wins National Match-Play Golf Title\". Youngstown Vindicator. January 16, 1934. p.\\xa021.\\n\\n^ \"\\'Frisco Open Won by Wood\". Pittsburgh Post-Gazette. December 13, 1932. p.\\xa021.\\n\\n^ \"Cox Match Play Open Golf Champion\". Pittsburgh Post-Gazette. December 15, 1931. p.\\xa019.\\n\\n^ \"Frisco Open Won by Diegel\". Pittsburgh Post-Gazette. December 8, 1930. p.\\xa015.\\n\\n\\nvteFormer PGA Tour events\\n500 Festival Open Invitation\\nAgua Caliente Open\\nAlameda County Open\\nAlcan Open\\nAll American Open\\nAlmaden Open\\nAmerican Golf Classic\\nArdmore Open\\nArlington Hotel Open\\nAtlanta Classic\\nAzalea Open Invitational\\nBahamas National Open\\nBakersfield Open Invitational\\nBaton Rouge Open Invitational\\nB.C. Open\\nBeaumont Open Invitational\\nBellevue Country Club Open\\nBlue Ribbon Open\\nBuick Open\\nCajun Classic Open Invitational\\nCalifornia State Open\\nCarling World Open\\nCavalcade Of Golf\\nChattanooga Classic\\nChicago Open\\nCIMB Classic\\nCJ Cup\\nCleveland Open\\nColgate Hall of Fame Classic\\nConnecticut Open\\nCoral Gables Open Invitational\\nCoral Springs Open Invitational\\nDallas Open\\nDanny Thomas-Diplomat Classic\\nDapper Dan Open\\nDell Technologies Championship\\nDenver Open Invitational\\nDe Soto Open Invitational\\nDoral Open\\nDow Jones Open Invitational\\nDurham Open\\nEastern Open Invitational\\nEl Paso Open\\nEmpire State Open\\nEsmeralda Open\\nFig Garden Village Open Invitational\\nFlorida Open\\nFort Wayne Open\\nFrank Sinatra Open Invitational\\nGasparilla Open\\nGinn sur Mer Classic\\nGlens Falls Open\\nGolden Gate Championship\\nGoodall Palm Beach Round Robin\\nGreater Jacksonville Open\\nGreater Milwaukee Open\\nGreater St. Louis Golf Classic\\nGreater Vancouver Open\\nGreenbrier Classic\\nGulfport Open\\nHaig Open Invitational\\nHale America National Open Golf Tournament\\nHershey Open\\nHesperia Open Invitational\\nHouston Open\\nIndian Ridge Hospital Open Invitational\\nThe International\\nInverness Invitational Four-Ball\\nIVB-Philadelphia Golf Classic\\nKansas City Open Invitational\\nKemper Open\\nKentucky Derby Open\\nKnoxville Invitational\\nLa Gorce Open\\nLabatt Open\\nLiggett & Myers Open\\nLong Beach Open\\nLong Island Open\\nLucky International Open\\nMaryland Open\\nMassachusetts Open\\nMayakoba Golf Classic\\nMayfair Inn Open\\nMemphis Invitational\\nMetropolitan Open\\nMetropolitan PGA Championship\\nMiami Beach Open\\nMiami International Four-Ball\\nMiami Open\\nMichelob Championship\\nMichigan Golf Classic\\nMilwaukee Open\\nMilwaukee Open Invitational\\nMobile Sertoma Open Invitational\\nMotor City Open\\nMountain View Open\\nNashville Invitational\\nNassau Bahamas Open\\nNassau Open\\nThe National\\nNational Airlines Open Invitational\\nNational Celebrities Open\\nNational Team Championship\\nNEC World Series of Golf\\nNew England Classic\\nNew Jersey PGA Championship\\nNew Jersey State Open\\nNew York State Open\\nNorth and South Open\\nNorthern California Open\\nOakland Open\\nOhio Kings Island Open\\nOhio Open\\nOklahoma City Open Invitational\\nOklahoma Open\\nOntario Open\\nOrange County Open Invitational\\nOregon Open\\nOrlando Open\\nPalmetto Championship\\nPasadena Open\\nPennsylvania Classic\\nPennsylvania Open Championship\\nPensacola Open\\nPepsi Championship\\nPhiladelphia Daily News Open\\nPhiladelphia Inquirer Open\\nPhiladelphia Open Championship\\nPortland Open Invitational\\nReading Open\\nRebel Yell Open\\nRio Grande Valley Open\\nRobinson Open\\nRubber City Open Invitational\\nSacramento Open\\nSahara Invitational\\nSt. Jude Classic\\nSt. Paul Open Invitational\\nSt. Petersburg Open Invitational\\nSeattle Open Invitational\\nShawnee Open\\nSioux City Open\\nSouthern Open\\nSouthern (Spring) Open\\nSouthwest Golf Classic\\nSunset-Camellia Open Invitational\\nSunshine Open Invitational\\nTacoma Open Invitational\\nTallahassee Open\\nThomasville Open\\nThunderbird Classic\\nThunderbird Invitational\\nTournament of the Gardens Open\\nTucson Open\\nTurning Stone Resort Championship\\nU.S. Professional Match Play Championship\\nUtah Open\\nVirginia Beach Open\\nVirginia Open\\nWaco Turner Open\\nWalt Disney World Golf Classic\\nWest End Classic\\nWest Palm Beach Open Invitational\\nWestchester Open\\nWestern Open\\nWGC Championship\\nWGC Match Play\\nWGC-HSBC Champions\\nWGC Invitational\\nWhite Sulphur Springs Open\\nWisconsin State Open\\nWorkday Charity Open\\nWorld Championship of Golf\\nYorba Linda Open Invitational\\nCurrent PGA Tour events',\n  'Coordinates: 59°55′27″N 10°43′26″E\\ufeff / \\ufeff59.92417°N 10.72389°E\\ufeff / 59.92417; 10.72389',\n  'Rwandan politician\\nAgnes Mukabaranga\\nAgnes Mukabaranga is a Rwandan politician.[1] Mukabaranga is a member of the Christian Democratic Party (PDC) and member of both the Pan-African Parliament and former member of both the National Assembly and the Rwandan Senate.[1] She is a lawyer by profession.[2]\\n\\nPolitical career[edit]\\nMukabaranga was appointed an inaugural member of the transitional National Assembly,[3] which was set up following the 1994 Rwandan genocide, and was loosely based on the Arusha Accords agreed the previous year.[4] In 2003, a new permanent constitution was approved for the country in a referendum, which established a multi-party state with a bicameral parliament consisting of a senate and a chamber of deputies.[5] Mukabaranga was appointed to the new senate following the election of Paul Kagame as the first president under the new constitution.[6][3] She was one of 39 women elected or appointed to the parliament that year, compared with 41 men.[2] Promising to fight for justice and reconciliation in the country following the genocide, she emphasised the role of women in the process, saying \"Women are more prepared to make compromises, are more peace-loving and more conciliatory\".[2]\\nIn 2013, having previously left the senate, Mukabaranga was elected for a six month term as the spokesperson for the National Consultative Forum for Political Parties, a role she held jointly with a nurse and political newcomer, Sylvie Mpongera of the Rwanda Socialist Party (PSR).[3]\\n\\nPersonal life[edit]\\nAgnes Mukabaranga lost her brothers in the Rwandan genocide, and is a mother to four children.[2]\\n\\nReferences[edit]\\n\\n\\n^ a b Parliament of Rwanda. \"MUKABARANGA Agnés\". Archived from the original on 23 October 2007. Retrieved 30 October 2016.\\n\\n^ a b c d Wuerth, Hans M. (20 April 2004). \"The people of Rwanda deserve our support\". The Morning Call. Archived from the original on 28 June 2018. Retrieved 28 October 2016.\\n\\n^ a b c Uwiyingirimana, Clement (22 March 2013). \"Political parties elect new boss\". The New Times. Retrieved 28 October 2016.\\n\\n^ Prunier, Gérard (1999). The Rwanda Crisis: History of a Genocide (2nd\\xa0ed.). Kampala: Fountain Publishers Limited. pp.\\xa0299–300. ISBN\\xa0978-9970-02-089-8.\\n\\n^ Economist (29 May 2003). \"Rwanda\\'s new constitution: The fear of majority rule\". Retrieved 8 February 2013.\\n\\n^ Nunley, Albert C. \"Elections in Rwanda\". African Elections Database. Retrieved 9 February 2013.'],\n 'Body_length': [1058, 9, 376]}"
     },
     "execution_count": 7,
     "metadata": {},
     "output_type": "execute_result"
    }
   ]
  },
  {
   "cell_type": "markdown",
   "source": [
    "## Remove examples that contains Empty `Body`"
   ],
   "metadata": {
    "id": "knSN7tnYnzXM"
   }
  },
  {
   "cell_type": "code",
   "source": [
    "shuffled_wiki_raw_dataset = shuffled_wiki_raw_dataset.filter(lambda dataset: dataset[\"Body_length\"] is not 0)\n",
    "\n",
    "shuffled_wiki_raw_dataset"
   ],
   "metadata": {
    "colab": {
     "base_uri": "https://localhost:8080/",
     "height": 188,
     "referenced_widgets": [
      "a18ebb29b5a84d55a628e713a979e318",
      "54047d31bc514d9199d63aca02d98cbd",
      "2df46059d1f04fad9f246283e77016e1",
      "179a6842c234423cbea6a02046a27e8d",
      "feb440ad0b8b48bdaa563b6968edf5d7",
      "289945513c864296b170585759482e98",
      "a337b20e34b24d4f86be1892269454f9",
      "66f19a353cba43b4aac509d22b8b8f55",
      "b6eef4b61d5f4558b5e378e33d772ebd",
      "8b64d064f0a54152a9b5a5830497cf4a",
      "4441cb5928084b2b99f6ced5bd287fcf"
     ]
    },
    "id": "ay77EU4WnVBH",
    "outputId": "b624a3dd-f4af-4775-a7d1-7f3c5cdbad6a",
    "ExecuteTime": {
     "end_time": "2024-07-08T19:29:22.899877133Z",
     "start_time": "2024-07-08T19:29:22.791520379Z"
    }
   },
   "execution_count": 8,
   "outputs": [
    {
     "name": "stderr",
     "output_type": "stream",
     "text": [
      "<>:1: SyntaxWarning: \"is not\" with a literal. Did you mean \"!=\"?\n",
      "<>:1: SyntaxWarning: \"is not\" with a literal. Did you mean \"!=\"?\n",
      "/tmp/ipykernel_105989/4078038139.py:1: SyntaxWarning: \"is not\" with a literal. Did you mean \"!=\"?\n",
      "  shuffled_wiki_raw_dataset = shuffled_wiki_raw_dataset.filter(lambda dataset: dataset[\"Body_length\"] is not 0)\n"
     ]
    },
    {
     "data": {
      "text/plain": "Filter:   0%|          | 0/5000 [00:00<?, ? examples/s]",
      "application/vnd.jupyter.widget-view+json": {
       "version_major": 2,
       "version_minor": 0,
       "model_id": "2b1b4deae7ec459985c8570d1576b59b"
      }
     },
     "metadata": {},
     "output_type": "display_data"
    },
    {
     "data": {
      "text/plain": "Dataset({\n    features: ['ID', 'Title', 'Body', 'Body_length'],\n    num_rows: 4955\n})"
     },
     "execution_count": 8,
     "metadata": {},
     "output_type": "execute_result"
    }
   ]
  },
  {
   "cell_type": "markdown",
   "source": [
    "## remove article `Body` that contain fewer than 30 words"
   ],
   "metadata": {
    "id": "wsHZrsEAo-zf"
   }
  },
  {
   "cell_type": "code",
   "source": [
    "shuffled_wiki_raw_dataset = shuffled_wiki_raw_dataset.filter(lambda dataset: dataset[\"Body_length\"] >= 30)\n",
    "\n",
    "shuffled_wiki_raw_dataset"
   ],
   "metadata": {
    "colab": {
     "base_uri": "https://localhost:8080/",
     "height": 118,
     "referenced_widgets": [
      "76383202bd3449d28e5722b6db272ae7",
      "a36a91d0edf0439cb18fec5957bf1b51",
      "68770aa6ef4348ab99665fb5f724e544",
      "3fe64f91f6ad440ea2b2d60d614cab7a",
      "8b352159d54f4c27bd35f6ede6642173",
      "3333707ed63b40e492178893cdc07c0e",
      "33fc387743b84e6390a21c33c371a3ed",
      "898f0821a54e4304a240622ed17f630c",
      "0ac2d0b705424e36aa527be0e779f3f6",
      "77275e5a7d1f4bf3a6e17a2013ce1487",
      "a05249cb8c9d44b1b77e01049ad3bff1"
     ]
    },
    "id": "OxfyqcZeo60X",
    "outputId": "cea1c10a-29ae-46f4-ed5b-77938ad78714",
    "ExecuteTime": {
     "end_time": "2024-07-08T19:29:23.013053852Z",
     "start_time": "2024-07-08T19:29:22.887468969Z"
    }
   },
   "execution_count": 9,
   "outputs": [
    {
     "data": {
      "text/plain": "Filter:   0%|          | 0/4955 [00:00<?, ? examples/s]",
      "application/vnd.jupyter.widget-view+json": {
       "version_major": 2,
       "version_minor": 0,
       "model_id": "295aedb5a3724546b64e05d88c5ffd72"
      }
     },
     "metadata": {},
     "output_type": "display_data"
    },
    {
     "data": {
      "text/plain": "Dataset({\n    features: ['ID', 'Title', 'Body', 'Body_length'],\n    num_rows: 3988\n})"
     },
     "execution_count": 9,
     "metadata": {},
     "output_type": "execute_result"
    }
   ]
  },
  {
   "cell_type": "markdown",
   "source": [
    "##  we need to deal with is the presence of HTML character codes in our `Body` and get clean text"
   ],
   "metadata": {
    "id": "hnog0s7Mpm49"
   }
  },
  {
   "cell_type": "code",
   "source": [
    "import html\n",
    "\n",
    "clean_wiki = shuffled_wiki_raw_dataset.map(lambda dataset: {\"Body\": html.unescape(dataset[\"Body\"])}, batched=True)\n",
    "\n",
    "clean_wiki[\"Body\"][0]"
   ],
   "metadata": {
    "colab": {
     "base_uri": "https://localhost:8080/",
     "height": 122
    },
    "id": "3fUM0k0JpKRD",
    "outputId": "b9222eb7-1acd-4acc-d85a-cd3ce58a5f87",
    "ExecuteTime": {
     "end_time": "2024-07-08T19:29:23.324254416Z",
     "start_time": "2024-07-08T19:29:23.009759788Z"
    }
   },
   "execution_count": 10,
   "outputs": [
    {
     "data": {
      "text/plain": "Map:   0%|          | 0/3988 [00:00<?, ? examples/s]",
      "application/vnd.jupyter.widget-view+json": {
       "version_major": 2,
       "version_minor": 0,
       "model_id": "1dc3dabe209a4fcbb011682499570240"
      }
     },
     "metadata": {},
     "output_type": "display_data"
    },
    {
     "data": {
      "text/plain": "'Golf tournament\\nThe San Francisco Open was a golf tournament played in the San Francisco area. It was played at a number of different courses in the December to February period. From 1930 to 1941 it was a match-play event before becoming a 72-hole stroke play event from 1942 to 1946.\\nA non-PGA Tour event was played in May 1954 at Lake Merced Golf Club and was won by Shelley Mayfield. It was played over 54 holes and had prize money of $10,000.\\n\\nWinners[edit]\\n\\n\\nYear\\nPlayer\\nCountry\\nVenue\\nScore\\nTo par\\nMarginof victory\\nRunner-up\\nWinner\\'sshare ($)\\nRef\\n\\n\\nSan Francisco Open\\n\\n\\n1946\\nByron Nelson\\n\\xa0United States\\nOlympic Club\\n283\\n−1\\n9 strokes\\n Herman Barron\\n3,000\\n[1]\\n\\n\\n1944(Dec)\\nByron Nelson\\n\\xa0United States\\nHarding Park\\n281\\n−7\\n1 stroke\\n Jim Ferrier\\n2,666\\n[2]\\n\\n\\nSan Francisco Victory Open\\n\\n\\n1944(Jan)\\nByron Nelson\\n\\xa0United States\\nHarding Park\\n275\\n−13\\n6 strokes\\n Jug McSpaden\\n2,400\\n[3]\\n\\n\\nSan Francisco Open\\n\\n\\n1943\\nNo tournament\\n\\n\\n1942\\nBen Hogan\\n\\xa0United States\\nCalifornia GC\\n279\\n−9\\n3 strokes\\n Sam Snead\\n1,000\\n[4]\\n\\n\\nSan Francisco National Match Play Open\\n\\n\\n1941\\nJohnny Revolta\\n\\xa0United States\\nPresidio\\n7 & 6\\n Harry Cooper\\n1,000\\n[5]\\n\\n\\n1940\\nJimmy Demaret\\n\\xa0United States\\nLake Merced\\n2 & 1\\n Willie Goggin\\n1,000\\n[6]\\n\\n\\n1939\\nDick Metz\\n\\xa0United States\\nOlympic Club\\n1 up\\n Horton Smith\\n1,000\\n[7]\\n\\n\\n1938\\nJimmy Demaret\\n\\xa0United States\\nSan Francisco GC\\n4 & 3\\n Sam Snead\\n1,000\\n[8]\\n\\n\\n1937\\nLawson Little\\n\\xa0United States\\nIngleside\\n20 holes\\n Neil Christian\\n1,000\\n[9]\\n\\n\\n1936\\nWillie Hunter\\n\\xa0United States\\nLake Merced\\n4 & 2\\n Willie Goggin\\n1,500\\n[10]\\n\\n\\n1935\\nJug McSpaden\\n\\xa0United States\\nPresidio\\n3 & 2\\n Harry Cooper\\n750\\n[11]\\n\\n\\n1934\\nTom Creavy\\n\\xa0United States\\nLake Merced\\n3 & 2\\n Jimmy Thomson\\n750\\n[12]\\n\\n\\n1932\\nCraig Wood\\n\\xa0United States\\nOlympic Club\\n2 & 1\\n Al Espinosa\\n500\\n[13]\\n\\n\\n1931\\nWiffy Cox\\n\\xa0United States\\nLake Merced\\n6 & 5\\n George Von Elm\\n1,500\\n[14]\\n\\n\\n1930\\nLeo Diegel\\n\\xa0United States\\nOlympic Club\\n6 & 4\\n Al Espinosa\\n1,500\\n[15]\\n\\nReferences[edit]\\n\\n\\n^ \"Nelson Win, Denies He\\'ll Quit\". The Pittsburgh Press. January 14, 1946. p.\\xa017.\\n\\n^ \"Nelson Wins Frisco Golf\". The Pittsburgh Press. December 5, 1944. p.\\xa024.\\n\\n^ \"Nelson\\'s 275 Wins \\'Frisco Golf Play\". The Pittsburgh Press. January 18, 1944. p.\\xa022.\\n\\n^ \"Little Ben Hogan Again Leads Pro Golf Brigade\". The Pittsburgh Press. January 27, 1942. p.\\xa023.\\n\\n^ \"Revolta Puts New Life In Winter Golf\". The Pittsburgh Press. January 20, 1941. p.\\xa020.\\n\\n^ \"Demaret Winner of \\'Frisco Open\". The Pittsburgh Press. January 22, 1940. p.\\xa019.\\n\\n^ \"Metz Becomes Pro Hot Shot\". The Pittsburgh Press. January 23, 1939. p.\\xa019.\\n\\n^ \"Pro Golfers Shift South\". The Pittsburgh Press. February 14, 1938. p.\\xa020.\\n\\n^ \"Neil Christian Loses To Little\". The Spokesman-Review. February 1, 1937. p.\\xa01.\\n\\n^ \"Hunter Captures Match Play Open\". Pittsburgh Post-Gazette. January 28, 1936. p.\\xa01.\\n\\n^ \"McSpaden Cuts Swing, Becomes Leader in Golf\". The Pittsburgh Press. January 29, 1935. p.\\xa021.\\n\\n^ \"Creavy Wins National Match-Play Golf Title\". Youngstown Vindicator. January 16, 1934. p.\\xa021.\\n\\n^ \"\\'Frisco Open Won by Wood\". Pittsburgh Post-Gazette. December 13, 1932. p.\\xa021.\\n\\n^ \"Cox Match Play Open Golf Champion\". Pittsburgh Post-Gazette. December 15, 1931. p.\\xa019.\\n\\n^ \"Frisco Open Won by Diegel\". Pittsburgh Post-Gazette. December 8, 1930. p.\\xa015.\\n\\n\\nvteFormer PGA Tour events\\n500 Festival Open Invitation\\nAgua Caliente Open\\nAlameda County Open\\nAlcan Open\\nAll American Open\\nAlmaden Open\\nAmerican Golf Classic\\nArdmore Open\\nArlington Hotel Open\\nAtlanta Classic\\nAzalea Open Invitational\\nBahamas National Open\\nBakersfield Open Invitational\\nBaton Rouge Open Invitational\\nB.C. Open\\nBeaumont Open Invitational\\nBellevue Country Club Open\\nBlue Ribbon Open\\nBuick Open\\nCajun Classic Open Invitational\\nCalifornia State Open\\nCarling World Open\\nCavalcade Of Golf\\nChattanooga Classic\\nChicago Open\\nCIMB Classic\\nCJ Cup\\nCleveland Open\\nColgate Hall of Fame Classic\\nConnecticut Open\\nCoral Gables Open Invitational\\nCoral Springs Open Invitational\\nDallas Open\\nDanny Thomas-Diplomat Classic\\nDapper Dan Open\\nDell Technologies Championship\\nDenver Open Invitational\\nDe Soto Open Invitational\\nDoral Open\\nDow Jones Open Invitational\\nDurham Open\\nEastern Open Invitational\\nEl Paso Open\\nEmpire State Open\\nEsmeralda Open\\nFig Garden Village Open Invitational\\nFlorida Open\\nFort Wayne Open\\nFrank Sinatra Open Invitational\\nGasparilla Open\\nGinn sur Mer Classic\\nGlens Falls Open\\nGolden Gate Championship\\nGoodall Palm Beach Round Robin\\nGreater Jacksonville Open\\nGreater Milwaukee Open\\nGreater St. Louis Golf Classic\\nGreater Vancouver Open\\nGreenbrier Classic\\nGulfport Open\\nHaig Open Invitational\\nHale America National Open Golf Tournament\\nHershey Open\\nHesperia Open Invitational\\nHouston Open\\nIndian Ridge Hospital Open Invitational\\nThe International\\nInverness Invitational Four-Ball\\nIVB-Philadelphia Golf Classic\\nKansas City Open Invitational\\nKemper Open\\nKentucky Derby Open\\nKnoxville Invitational\\nLa Gorce Open\\nLabatt Open\\nLiggett & Myers Open\\nLong Beach Open\\nLong Island Open\\nLucky International Open\\nMaryland Open\\nMassachusetts Open\\nMayakoba Golf Classic\\nMayfair Inn Open\\nMemphis Invitational\\nMetropolitan Open\\nMetropolitan PGA Championship\\nMiami Beach Open\\nMiami International Four-Ball\\nMiami Open\\nMichelob Championship\\nMichigan Golf Classic\\nMilwaukee Open\\nMilwaukee Open Invitational\\nMobile Sertoma Open Invitational\\nMotor City Open\\nMountain View Open\\nNashville Invitational\\nNassau Bahamas Open\\nNassau Open\\nThe National\\nNational Airlines Open Invitational\\nNational Celebrities Open\\nNational Team Championship\\nNEC World Series of Golf\\nNew England Classic\\nNew Jersey PGA Championship\\nNew Jersey State Open\\nNew York State Open\\nNorth and South Open\\nNorthern California Open\\nOakland Open\\nOhio Kings Island Open\\nOhio Open\\nOklahoma City Open Invitational\\nOklahoma Open\\nOntario Open\\nOrange County Open Invitational\\nOregon Open\\nOrlando Open\\nPalmetto Championship\\nPasadena Open\\nPennsylvania Classic\\nPennsylvania Open Championship\\nPensacola Open\\nPepsi Championship\\nPhiladelphia Daily News Open\\nPhiladelphia Inquirer Open\\nPhiladelphia Open Championship\\nPortland Open Invitational\\nReading Open\\nRebel Yell Open\\nRio Grande Valley Open\\nRobinson Open\\nRubber City Open Invitational\\nSacramento Open\\nSahara Invitational\\nSt. Jude Classic\\nSt. Paul Open Invitational\\nSt. Petersburg Open Invitational\\nSeattle Open Invitational\\nShawnee Open\\nSioux City Open\\nSouthern Open\\nSouthern (Spring) Open\\nSouthwest Golf Classic\\nSunset-Camellia Open Invitational\\nSunshine Open Invitational\\nTacoma Open Invitational\\nTallahassee Open\\nThomasville Open\\nThunderbird Classic\\nThunderbird Invitational\\nTournament of the Gardens Open\\nTucson Open\\nTurning Stone Resort Championship\\nU.S. Professional Match Play Championship\\nUtah Open\\nVirginia Beach Open\\nVirginia Open\\nWaco Turner Open\\nWalt Disney World Golf Classic\\nWest End Classic\\nWest Palm Beach Open Invitational\\nWestchester Open\\nWestern Open\\nWGC Championship\\nWGC Match Play\\nWGC-HSBC Champions\\nWGC Invitational\\nWhite Sulphur Springs Open\\nWisconsin State Open\\nWorkday Charity Open\\nWorld Championship of Golf\\nYorba Linda Open Invitational\\nCurrent PGA Tour events'"
     },
     "execution_count": 10,
     "metadata": {},
     "output_type": "execute_result"
    }
   ]
  },
  {
   "cell_type": "markdown",
   "source": [
    "## From Datasets to DataFrames and back\n"
   ],
   "metadata": {
    "id": "Fg9-ZRhgtOAJ"
   }
  },
  {
   "cell_type": "code",
   "source": [
    "clean_wiki.set_format(\"pandas\")\n",
    "\n",
    "clean_wiki_df = clean_wiki[:]\n",
    "\n",
    "clean_wiki_df.head()"
   ],
   "metadata": {
    "colab": {
     "base_uri": "https://localhost:8080/",
     "height": 206
    },
    "id": "EyRp5U1lrQMh",
    "outputId": "7dfa9c70-e230-43ea-f81b-bcd48623a65e",
    "ExecuteTime": {
     "end_time": "2024-07-08T19:29:23.386143189Z",
     "start_time": "2024-07-08T19:29:23.320871439Z"
    }
   },
   "execution_count": 11,
   "outputs": [
    {
     "data": {
      "text/plain": "     ID                      Title  \\\n0  1536         San Francisco Open   \n1  3372          Agnes Mukabaranga   \n2  2840   The Indian Queen (opera)   \n3  3869              Roads (novel)   \n4  2230  David Wootton (historian)   \n\n                                                Body  Body_length  \n0  Golf tournament\\nThe San Francisco Open was a ...         1058  \n1  Rwandan politician\\nAgnes Mukabaranga\\nAgnes M...          376  \n2  Semi-opera by Henry Purcell\\nFor other uses of...          907  \n3  Fantasy novel by Seabury Quinn\\nRoads Dust-jac...          295  \n4  British historian of science (born 1952)\\n\\n\\n...          503  ",
      "text/html": "<div>\n<style scoped>\n    .dataframe tbody tr th:only-of-type {\n        vertical-align: middle;\n    }\n\n    .dataframe tbody tr th {\n        vertical-align: top;\n    }\n\n    .dataframe thead th {\n        text-align: right;\n    }\n</style>\n<table border=\"1\" class=\"dataframe\">\n  <thead>\n    <tr style=\"text-align: right;\">\n      <th></th>\n      <th>ID</th>\n      <th>Title</th>\n      <th>Body</th>\n      <th>Body_length</th>\n    </tr>\n  </thead>\n  <tbody>\n    <tr>\n      <th>0</th>\n      <td>1536</td>\n      <td>San Francisco Open</td>\n      <td>Golf tournament\\nThe San Francisco Open was a ...</td>\n      <td>1058</td>\n    </tr>\n    <tr>\n      <th>1</th>\n      <td>3372</td>\n      <td>Agnes Mukabaranga</td>\n      <td>Rwandan politician\\nAgnes Mukabaranga\\nAgnes M...</td>\n      <td>376</td>\n    </tr>\n    <tr>\n      <th>2</th>\n      <td>2840</td>\n      <td>The Indian Queen (opera)</td>\n      <td>Semi-opera by Henry Purcell\\nFor other uses of...</td>\n      <td>907</td>\n    </tr>\n    <tr>\n      <th>3</th>\n      <td>3869</td>\n      <td>Roads (novel)</td>\n      <td>Fantasy novel by Seabury Quinn\\nRoads Dust-jac...</td>\n      <td>295</td>\n    </tr>\n    <tr>\n      <th>4</th>\n      <td>2230</td>\n      <td>David Wootton (historian)</td>\n      <td>British historian of science (born 1952)\\n\\n\\n...</td>\n      <td>503</td>\n    </tr>\n  </tbody>\n</table>\n</div>"
     },
     "execution_count": 11,
     "metadata": {},
     "output_type": "execute_result"
    }
   ]
  },
  {
   "cell_type": "code",
   "source": [
    "clean_wiki_df.info()"
   ],
   "metadata": {
    "colab": {
     "base_uri": "https://localhost:8080/"
    },
    "id": "3OybgFuRrsXc",
    "outputId": "09496c61-9eb2-4f42-b277-c13e7b50796b",
    "ExecuteTime": {
     "end_time": "2024-07-08T19:29:23.409527910Z",
     "start_time": "2024-07-08T19:29:23.379697931Z"
    }
   },
   "execution_count": 12,
   "outputs": [
    {
     "name": "stdout",
     "output_type": "stream",
     "text": [
      "<class 'pandas.core.frame.DataFrame'>\n",
      "RangeIndex: 3988 entries, 0 to 3987\n",
      "Data columns (total 4 columns):\n",
      " #   Column       Non-Null Count  Dtype \n",
      "---  ------       --------------  ----- \n",
      " 0   ID           3988 non-null   int64 \n",
      " 1   Title        3988 non-null   object\n",
      " 2   Body         3988 non-null   object\n",
      " 3   Body_length  3988 non-null   int64 \n",
      "dtypes: int64(2), object(2)\n",
      "memory usage: 124.8+ KB\n"
     ]
    }
   ]
  },
  {
   "cell_type": "code",
   "source": [
    "frequencies = (\n",
    "    clean_wiki_df[\"Title\"]\n",
    "    .value_counts()\n",
    "    .to_frame()\n",
    "    .reset_index()\n",
    "    .rename(columns={\"frequency\": \"Title\", \"Title\": \"frequency\"}))\n",
    "\n",
    "frequencies.head(5)"
   ],
   "metadata": {
    "colab": {
     "base_uri": "https://localhost:8080/",
     "height": 206
    },
    "id": "uCwlyYdxsjN5",
    "outputId": "7895e5a4-9f6b-437b-eebb-c4f4223a97c6",
    "ExecuteTime": {
     "end_time": "2024-07-08T19:29:23.451922999Z",
     "start_time": "2024-07-08T19:29:23.395942160Z"
    }
   },
   "execution_count": 13,
   "outputs": [
    {
     "data": {
      "text/plain": "                                       frequency  count\n0                              Daniel L. Simmons      2\n1                        2013–14 FC Basel season      2\n2  2024 Kentucky Republican presidential primary      2\n3                                    Novy Vostok      2\n4                                  Rangsazi Iran      2",
      "text/html": "<div>\n<style scoped>\n    .dataframe tbody tr th:only-of-type {\n        vertical-align: middle;\n    }\n\n    .dataframe tbody tr th {\n        vertical-align: top;\n    }\n\n    .dataframe thead th {\n        text-align: right;\n    }\n</style>\n<table border=\"1\" class=\"dataframe\">\n  <thead>\n    <tr style=\"text-align: right;\">\n      <th></th>\n      <th>frequency</th>\n      <th>count</th>\n    </tr>\n  </thead>\n  <tbody>\n    <tr>\n      <th>0</th>\n      <td>Daniel L. Simmons</td>\n      <td>2</td>\n    </tr>\n    <tr>\n      <th>1</th>\n      <td>2013–14 FC Basel season</td>\n      <td>2</td>\n    </tr>\n    <tr>\n      <th>2</th>\n      <td>2024 Kentucky Republican presidential primary</td>\n      <td>2</td>\n    </tr>\n    <tr>\n      <th>3</th>\n      <td>Novy Vostok</td>\n      <td>2</td>\n    </tr>\n    <tr>\n      <th>4</th>\n      <td>Rangsazi Iran</td>\n      <td>2</td>\n    </tr>\n  </tbody>\n</table>\n</div>"
     },
     "execution_count": 13,
     "metadata": {},
     "output_type": "execute_result"
    }
   ]
  },
  {
   "cell_type": "code",
   "source": [
    "clean_wiki.reset_format()"
   ],
   "metadata": {
    "id": "xHma-lOQtF1d",
    "ExecuteTime": {
     "end_time": "2024-07-08T19:29:23.452762966Z",
     "start_time": "2024-07-08T19:29:23.407356820Z"
    }
   },
   "execution_count": 14,
   "outputs": []
  },
  {
   "cell_type": "markdown",
   "source": [
    "## Split the dataset into train & test"
   ],
   "metadata": {
    "id": "-KK0KlCUugTh"
   }
  },
  {
   "cell_type": "code",
   "source": [
    "wiki = clean_wiki.train_test_split(train_size=0.7, seed=42)\n",
    "\n",
    "wiki"
   ],
   "metadata": {
    "colab": {
     "base_uri": "https://localhost:8080/"
    },
    "id": "Z_ZxSZJCuk-Q",
    "outputId": "4548c3bb-1d0d-4c3c-8cec-a051d6bcb4cf",
    "ExecuteTime": {
     "end_time": "2024-07-08T19:29:23.715124604Z",
     "start_time": "2024-07-08T19:29:23.412522636Z"
    }
   },
   "execution_count": 15,
   "outputs": [
    {
     "data": {
      "text/plain": "DatasetDict({\n    train: Dataset({\n        features: ['ID', 'Title', 'Body', 'Body_length'],\n        num_rows: 2791\n    })\n    test: Dataset({\n        features: ['ID', 'Title', 'Body', 'Body_length'],\n        num_rows: 1197\n    })\n})"
     },
     "execution_count": 15,
     "metadata": {},
     "output_type": "execute_result"
    }
   ]
  },
  {
   "cell_type": "markdown",
   "source": [
    "## Save the dataset with a various formats"
   ],
   "metadata": {
    "id": "s4rLBu4Syj9n"
   }
  },
  {
   "cell_type": "code",
   "source": [
    "for extension in [\"jsonl\", \"csv\", \"parquet\"]:\n",
    "  for split, dataset in wiki.items():\n",
    "    dataset.to_json(f\"datasets/{extension}/wiki-{split}.{extension}\")"
   ],
   "metadata": {
    "colab": {
     "base_uri": "https://localhost:8080/",
     "height": 209,
     "referenced_widgets": [
      "e46267612d8e43fabc0799459dd3baff",
      "1bdd7d06d43c41f786dfbc388239b57d",
      "daad5f290d464762a26134833e320784",
      "9e38752b2116425c8b792166260e54be",
      "1f8167cccf884c57be15619cfc70c1ae",
      "40e227d58e8246c6b1ff2d5624f57b1d",
      "36fa0fb0d7474a39a7f1ec3a6d071f71",
      "9bb7cbc549594051a3935c236a830484",
      "9bf40863255b49c884b29456164905ac",
      "8b2d781c8c4c442083d56ebc814528f6",
      "ed2bad18594146c3ac547cd459581a56",
      "3638c8fe33914ce898843eebdbdbae34",
      "e3c7c38841c0449587603219a180c84a",
      "606f5c0b42d64622a7569fafa21c9639",
      "6e138174c18244469e5b88760b040adf",
      "d050fe974b0748c3ac62ac7fb1fd1244",
      "3368f7802cf847f6bec65420ed72ed07",
      "421e8d70993d4c91af7b52fbc2f2976d",
      "3dfdeac055f44033b489c5832fbedd67",
      "be6401fd63ea4536add0e84e2f95ceba",
      "3e01ecf3e1124c7faadf475ce3c6868c",
      "021f2515a00a4dedab21019d78fb6ef4",
      "25bd556cb8ef44b8b501e5e62a5c08a1",
      "e437cfa022054f3aa115688c5f59dc40",
      "bcb678bf77c9452abfc0b1ad242851c3",
      "96d14e42142f48f49cf627ebc6f0ca05",
      "52b361868821424db85253b07ea8549a",
      "bd22dc0f1c674060ba986b00cb4673a9",
      "90bfe911915d4955b3384b16e2f4e9f8",
      "06e9db212fd04b97b3282712917c728e",
      "2158215f95704cdf9ee44ee518ba8268",
      "0eac612548e34859a0865f324286713b",
      "a08fd3a831a4498da1a8441ca9fe0627",
      "3bef39c9914043958698f2d0631f3c58",
      "e8d650cd637d419b82f8e1e547cbdbd1",
      "d25054c5df3a47b68f17746679a34a73",
      "a7008fa04d394dd0bc963c29bc9c5a34",
      "0e2058d2a6ab4f29bf406966067df7c7",
      "10a5c50500014990b49af9490e268631",
      "39f47f73d9ad4e7580916ce51da1323e",
      "2b02fe8036e8495287df4dbae1585a1b",
      "bb2713d52db54b9a9335164a8208b333",
      "6bd22fc7b77741fd99335c00fc5a2536",
      "64997e6f556443fab6b83ed40aed9e60",
      "3e450616ac54481698659f46be178f2d",
      "148136b9c60243a0bbe6963f3817062a",
      "0721b77621674798aa399726799ded6b",
      "04fc6a785ce54318818dbf6f894325aa",
      "0b819647d60943e98f10d93cd34630eb",
      "73e59cb89aa343bc8b5fe5fd1985c5e4",
      "e2b7a93c40d1442d8478cab0873f8707",
      "4bd430ca21ee4c7cb88b8b0143abd4e8",
      "de9338a15fb048e5b0b8d37d8a92abad",
      "8d91ef1317804c38a40f1cdf924de321",
      "e0407b10693546a2adbb58e34744fdb9",
      "c3f8883b230142d581651c5c3adaf5e0",
      "57c7f8913f3b4b4b94c6b3db98d7e6c4",
      "4bd5b87389644da0a26d741563dc6df0",
      "47c7c52606f44034aae544a8a0e4b7c6",
      "9ff4174386c0479da3639f5323937f5b",
      "08db4568dc6b49cfa3088e20dcbc60e7",
      "8a547086cc884a9e8e23a3649eaf10aa",
      "261fc1ef4b2241aca17ee0213c0c719f",
      "09bcacdd28f245e0a00f12c2be232e41",
      "e86b0b73f2b1417586ef78dc591f45fb",
      "d77fc1ea69a3489598d69dc1518975fd"
     ]
    },
    "id": "O74bzV2FxJ7m",
    "outputId": "86937f7d-f1dd-452f-94ab-176b5a26ccd5",
    "ExecuteTime": {
     "end_time": "2024-07-08T19:29:24.486447498Z",
     "start_time": "2024-07-08T19:29:23.459684403Z"
    }
   },
   "execution_count": 16,
   "outputs": [
    {
     "data": {
      "text/plain": "Creating json from Arrow format:   0%|          | 0/3 [00:00<?, ?ba/s]",
      "application/vnd.jupyter.widget-view+json": {
       "version_major": 2,
       "version_minor": 0,
       "model_id": "8d134ea1e6fd48ebb7a70ad2bfaea76e"
      }
     },
     "metadata": {},
     "output_type": "display_data"
    },
    {
     "data": {
      "text/plain": "Creating json from Arrow format:   0%|          | 0/2 [00:00<?, ?ba/s]",
      "application/vnd.jupyter.widget-view+json": {
       "version_major": 2,
       "version_minor": 0,
       "model_id": "33fff27973f4401d877b61e3591524a3"
      }
     },
     "metadata": {},
     "output_type": "display_data"
    },
    {
     "data": {
      "text/plain": "Creating json from Arrow format:   0%|          | 0/3 [00:00<?, ?ba/s]",
      "application/vnd.jupyter.widget-view+json": {
       "version_major": 2,
       "version_minor": 0,
       "model_id": "323185ee8ec14b059a031c64aa39823d"
      }
     },
     "metadata": {},
     "output_type": "display_data"
    },
    {
     "data": {
      "text/plain": "Creating json from Arrow format:   0%|          | 0/2 [00:00<?, ?ba/s]",
      "application/vnd.jupyter.widget-view+json": {
       "version_major": 2,
       "version_minor": 0,
       "model_id": "3f7ede8c4340490b8077b3ac85d1b088"
      }
     },
     "metadata": {},
     "output_type": "display_data"
    },
    {
     "data": {
      "text/plain": "Creating json from Arrow format:   0%|          | 0/3 [00:00<?, ?ba/s]",
      "application/vnd.jupyter.widget-view+json": {
       "version_major": 2,
       "version_minor": 0,
       "model_id": "69c974dfedb34fe7ba805a0d72842ea1"
      }
     },
     "metadata": {},
     "output_type": "display_data"
    },
    {
     "data": {
      "text/plain": "Creating json from Arrow format:   0%|          | 0/2 [00:00<?, ?ba/s]",
      "application/vnd.jupyter.widget-view+json": {
       "version_major": 2,
       "version_minor": 0,
       "model_id": "1a824ec7bad3420595795f5b2dcfa734"
      }
     },
     "metadata": {},
     "output_type": "display_data"
    }
   ]
  },
  {
   "cell_type": "markdown",
   "source": [
    "## Test loading the dataset that we have prepared"
   ],
   "metadata": {
    "id": "f1dYZ9ydyvc5"
   }
  },
  {
   "cell_type": "code",
   "source": [
    "data_files = {\"train\": \"datasets/jsonl/wiki-train.jsonl\",\n",
    "              \"test\": \"datasets/jsonl/wiki-test.jsonl\"}\n",
    "\n",
    "drug_dataset_reloaded = load_dataset(\"json\", data_files=data_files)\n",
    "\n",
    "drug_dataset_reloaded"
   ],
   "metadata": {
    "colab": {
     "base_uri": "https://localhost:8080/",
     "height": 255,
     "referenced_widgets": [
      "4e5d7c63365d4b65ba39877cbe3d2665",
      "a48e8eba7411438492111e9434ccb214",
      "19b4cb7931844cb29a1f56c611abf06c",
      "e13aeada581e4b68affe68f3084a912d",
      "de4ef7e46d0c4fc889c17c787eee4fb4",
      "3659c40d934b4218ba854c19ad4689e1",
      "fb6ce04a7c1f41508210cf3b6c22d596",
      "a25f0812c67842138a9a71e83c1785d6",
      "bf193f58c1c44163a2039c29069b6ee9",
      "35c2e58b3e8a417c8d183ec725216549",
      "7570f984e41c40cda9ff6b192349eb43",
      "37e5b77da20748caa8ca08fe0c62bc83",
      "07ed795d15a04888a663499e12a730da",
      "4ca2b52eecd24ceea1e6a07eed744115",
      "76e1e19ff25642c3b6ee96f5f7b89d1a",
      "dd4c49d7cf0b46ae91f87444592fbde3",
      "df17a68346584ef2a0b03be23ebe8dcf",
      "f45a0de007ba4a47974f275164d1e4ba",
      "fc25603c2d8d4de98fbdfe3454f5aa58",
      "3832f8a457b64dd08609e9057c05e005",
      "003d309da6674c89bfb64242496af0d3",
      "8544d62037a8408a8ef911347b10eec7"
     ]
    },
    "id": "9HCqngMRyiXY",
    "outputId": "85804c53-dd7f-4d8a-f159-2ac1101b762e",
    "ExecuteTime": {
     "end_time": "2024-07-08T19:31:07.723045029Z",
     "start_time": "2024-07-08T19:31:06.948341363Z"
    }
   },
   "execution_count": 18,
   "outputs": [
    {
     "data": {
      "text/plain": "Generating train split: 0 examples [00:00, ? examples/s]",
      "application/vnd.jupyter.widget-view+json": {
       "version_major": 2,
       "version_minor": 0,
       "model_id": "fcef304705334bbb9ef03ca4be19cbc1"
      }
     },
     "metadata": {},
     "output_type": "display_data"
    },
    {
     "data": {
      "text/plain": "Generating test split: 0 examples [00:00, ? examples/s]",
      "application/vnd.jupyter.widget-view+json": {
       "version_major": 2,
       "version_minor": 0,
       "model_id": "10e6d9057fde40b48ecef55207bde03e"
      }
     },
     "metadata": {},
     "output_type": "display_data"
    },
    {
     "data": {
      "text/plain": "DatasetDict({\n    train: Dataset({\n        features: ['ID', 'Title', 'Body', 'Body_length'],\n        num_rows: 2791\n    })\n    test: Dataset({\n        features: ['ID', 'Title', 'Body', 'Body_length'],\n        num_rows: 1197\n    })\n})"
     },
     "execution_count": 18,
     "metadata": {},
     "output_type": "execute_result"
    }
   ]
  },
  {
   "cell_type": "code",
   "source": [
    "drug_dataset_reloaded[\"train\"][0]"
   ],
   "metadata": {
    "colab": {
     "base_uri": "https://localhost:8080/"
    },
    "id": "rUc6Os__y-OP",
    "outputId": "883cfd81-26a1-4b15-ca9b-b85eda3d2365",
    "ExecuteTime": {
     "end_time": "2024-07-08T19:31:11.617243557Z",
     "start_time": "2024-07-08T19:31:11.591649865Z"
    }
   },
   "execution_count": 19,
   "outputs": [
    {
     "data": {
      "text/plain": "{'ID': 1271,\n 'Title': \"1984 TAAC men's basketball tournament\",\n 'Body': 'Basketball tournament\\n\\n\\n1984 TAAC men\\'s basketball\\xa0tournamentClassificationDivision ISeason1983–84Teams8SiteSpring Branch ColiseumHouston, TexasChampionsHouston Baptist (1st title)Winning coachGene Iba (1st title)MVPCraig Beard (Samford)TAAC men\\'s basketball\\xa0tournaments←\\xa019831985\\xa0→\\n\\n\\n1983–84 Trans America Athletic Conference men\\'s basketball standings\\n\\n\\nvte\\nConf\\n\\n\\nOverall\\n\\n\\nTeam\\nW\\n\\xa0\\nL\\n\\xa0\\nPCT\\n\\n\\nW\\n\\xa0\\nL\\n\\xa0\\nPCT\\n\\n\\nHouston Baptist †\\n11\\n–\\n3\\n\\xa0\\n.786\\n\\n\\n24\\n–\\n7\\n\\n\\xa0\\n.774\\n\\n\\nSamford\\n10\\n–\\n4\\n\\xa0\\n.714\\n\\n\\n22\\n–\\n8\\n\\n\\xa0\\n.733\\n\\n\\nGeorgia Southern\\n8\\n–\\n6\\n\\xa0\\n.571\\n\\n\\n16\\n–\\n12\\n\\n\\xa0\\n.571\\n\\n\\nArkansas–Little Rock\\n7\\n–\\n7\\n\\xa0\\n.500\\n\\n\\n14\\n–\\n15\\n\\n\\xa0\\n.483\\n\\n\\nCentenary\\n7\\n–\\n7\\n\\xa0\\n.500\\n\\n\\n12\\n–\\n16\\n\\n\\xa0\\n.429\\n\\n\\nMercer\\n6\\n–\\n8\\n\\xa0\\n.429\\n\\n\\n14\\n–\\n14\\n\\n\\xa0\\n.500\\n\\n\\nHardin–Simmons\\n5\\n–\\n9\\n\\xa0\\n.357\\n\\n\\n9\\n–\\n22\\n\\n\\xa0\\n.290\\n\\n\\nNorthwestern State\\n2\\n–\\n12\\n\\xa0\\n.143\\n\\n\\n6\\n–\\n22\\n\\n\\xa0\\n.214\\n\\n\\nNicholls State\\n0\\n–\\n0\\n\\xa0\\n–\\n\\n\\n19\\n–\\n7\\n\\n\\xa0\\n.731\\n\\n\\nGeorgia State\\n\\n–\\n\\n\\xa0\\n–\\n\\n\\n6\\n–\\n22\\n\\n\\xa0\\n.214\\n\\n\\n\\n\\n\\n† 1984 TAAC tournament winnerRankings from AP Poll\\n\\nThe 1984 Trans America Athletic Conference men\\'s basketball tournament (now known as the ASUN men\\'s basketball tournament) was held March 8–10, 1984 at Spring Branch Coliseum in Houston, Texas.[1]\\nHouston Baptist defeated Samford in the championship game, 81–76, to win their first TAAC/Atlantic Sun men\\'s basketball tournament. The Huskies, in turn, received an automatic bid to the 1984 NCAA tournament, their first Division I tournament appearance.\\nEven though Georgia State joined the TAAC for the 1983–84 season, the Panthers did not compete in the conference tournament.\\n\\nBracket[edit]\\nQuarterfinalsThursday, March 8\\nSemifinalsFriday, March 9\\nChampionshipSaturday, March 10\\n\\xa0\\xa0\\xa0\\xa0\\xa0\\xa0\\xa0\\xa0\\xa01\\nHouston Baptist\\n71\\n8\\nNorthwestern State\\n53\\n1\\nHouston Baptist\\n76\\n\\n4\\nArkansas–Little Rock\\n58\\n5\\nCentenary\\n72\\n4\\nArkansas–Little Rock\\n73\\n1\\nHouston Baptist\\n81\\n\\n2\\nSamford\\n76\\n3\\nGeorgia Southern\\n77\\n6\\nMercer\\n80\\n6\\nMercer\\n80\\n\\n2\\nSamford\\n84\\n7\\nHardin–Simmons\\n69\\n2\\nSamford\\n82\\n\\nReferences[edit]\\n\\n\\n^ \"1983-84 Atlantic Sun Conference Season Summary\". sports-reference.com. Sports Reference LLC. 2016. Archived from the original on March 21, 2016. Retrieved February 27, 2016.\\n\\n\\nvteASUN men\\'s basketball tournament\\n1979\\n1980\\n1981\\n1982\\n1983\\n1984\\n1985\\n1986\\n1987\\n1988\\n1989\\n1990\\n1991\\n1992\\n1993\\n1994\\n1995\\n1996\\n1997\\n1998\\n1999\\n2000\\n2001\\n2002\\n2003\\n2004\\n2005\\n2006\\n2007\\n2008\\n2009\\n2010\\n2011\\n2012\\n2013\\n2014\\n2015\\n2016\\n2017\\n2018\\n2019\\n2020\\n2021\\n2022\\n2023\\n2024\\n\\nvte1984 NCAA Division I men\\'s basketball tournamentsConference\\nAMCU-8\\nACC\\nAtlantic 10\\nBig East\\nBig Eight\\nBig Sky\\nEast Coast\\nECAC Metro\\nECAC North\\nECAC South\\nMetro\\nMAAC\\nMCC\\nMEAC\\nMid-American\\nMissouri Valley\\nOhio Valley\\nPCAA\\nSEC\\nSouthern\\nSouthland\\nSouthwest\\nSWAC\\nSun Belt\\nTAAC\\nWAC\\nNational\\nNCAA\\nNIT',\n 'Body_length': 413}"
     },
     "execution_count": 19,
     "metadata": {},
     "output_type": "execute_result"
    }
   ]
  }
 ]
}
